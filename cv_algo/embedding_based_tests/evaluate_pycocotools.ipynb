{
 "cells": [
  {
   "cell_type": "code",
   "execution_count": 16,
   "id": "ef1e4582",
   "metadata": {},
   "outputs": [
    {
     "name": "stdout",
     "output_type": "stream",
     "text": [
      "loading annotations into memory...\n",
      "Done (t=0.02s)\n",
      "creating index...\n",
      "index created!\n",
      "Loading and preparing results...\n",
      "DONE (t=0.01s)\n",
      "creating index...\n",
      "index created!\n",
      "Running per image evaluation...\n",
      "Evaluate annotation type *bbox*\n",
      "DONE (t=1.19s).\n",
      "Accumulating evaluation results...\n",
      "DONE (t=0.08s).\n",
      " Average Precision  (AP) @[ IoU=0.50:0.95 | area=   all | maxDets=100 ] = 0.000\n",
      " Average Precision  (AP) @[ IoU=0.50      | area=   all | maxDets=100 ] = 0.000\n",
      " Average Precision  (AP) @[ IoU=0.75      | area=   all | maxDets=100 ] = 0.000\n",
      " Average Precision  (AP) @[ IoU=0.50:0.95 | area= small | maxDets=100 ] = -1.000\n",
      " Average Precision  (AP) @[ IoU=0.50:0.95 | area=medium | maxDets=100 ] = 0.040\n",
      " Average Precision  (AP) @[ IoU=0.50:0.95 | area= large | maxDets=100 ] = 0.000\n",
      " Average Recall     (AR) @[ IoU=0.50:0.95 | area=   all | maxDets=  1 ] = 0.007\n",
      " Average Recall     (AR) @[ IoU=0.50:0.95 | area=   all | maxDets= 10 ] = 0.008\n",
      " Average Recall     (AR) @[ IoU=0.50:0.95 | area=   all | maxDets=100 ] = 0.009\n",
      " Average Recall     (AR) @[ IoU=0.50:0.95 | area= small | maxDets=100 ] = -1.000\n",
      " Average Recall     (AR) @[ IoU=0.50:0.95 | area=medium | maxDets=100 ] = 0.032\n",
      " Average Recall     (AR) @[ IoU=0.50:0.95 | area= large | maxDets=100 ] = 0.009\n"
     ]
    }
   ],
   "source": [
    "import pycocotools.coco as coco\n",
    "from pycocotools.cocoeval import COCOeval\n",
    "import numpy as np\n",
    "\n",
    "# Create ground truth and detection COCO objects\n",
    "cocoGt = coco.COCO()\n",
    "cocoDt = coco.COCO()\n",
    "\n",
    "cocoGt = coco.COCO('annotations.json')\n",
    "cocoDt = cocoGt.loadRes('predictions.json')\n",
    "\n",
    "# Create COCO evaluation object\n",
    "cocoEval = COCOeval(cocoGt, cocoDt, 'bbox')  # Set 'bbox' for bounding box evaluation\n",
    "# cocoEval.params.iouThrs = [0.9]\n",
    "\n",
    "# Perform evaluation\n",
    "cocoEval.evaluate()\n",
    "cocoEval.accumulate()\n",
    "cocoEval.summarize()"
   ]
  },
  {
   "cell_type": "code",
   "execution_count": 17,
   "id": "a332d372",
   "metadata": {},
   "outputs": [
    {
     "data": {
      "text/plain": [
       "array([ 1.17948667e-04,  1.20170138e-04,  1.17274832e-04, -1.00000000e+00,\n",
       "        3.96039604e-02,  1.17948667e-04,  6.64450331e-03,  7.99142296e-03,\n",
       "        8.84642413e-03, -1.00000000e+00,  3.22580645e-02,  8.74626396e-03])"
      ]
     },
     "execution_count": 17,
     "metadata": {},
     "output_type": "execute_result"
    }
   ],
   "source": [
    "cocoEval.stats"
   ]
  },
  {
   "cell_type": "code",
   "execution_count": null,
   "id": "5f853528",
   "metadata": {},
   "outputs": [],
   "source": []
  },
  {
   "cell_type": "code",
   "execution_count": 3,
   "id": "234ffbbe",
   "metadata": {},
   "outputs": [],
   "source": [
    "# import json\n",
    "# path = \"annotations.json\"\n",
    "# f = open(path)\n",
    "# anns = json.load(f)\n",
    "# print(anns.keys())"
   ]
  },
  {
   "cell_type": "code",
   "execution_count": 4,
   "id": "9c09d91e",
   "metadata": {},
   "outputs": [],
   "source": [
    "# from pycocotools.coco import COCO\n",
    "\n",
    "# ann_file = \"annotations.json\"\n",
    "# coco=COCO(ann_file)\n",
    " \n",
    "# # # Get list of category_ids, here [2] for bicycle\n",
    "# # category_ids = coco.getCatIds(['bicycle'])\n",
    "# # >> [2]\n",
    "\n",
    "# # # Get list of image_ids which contain bicycles\n",
    "# # image_ids = coco.getImgIds(catIds=[2])\n",
    "# # print(image_ids[0:5])\n",
    "# # >> [196610, 344067, 155652, 417797, 294918]"
   ]
  },
  {
   "cell_type": "code",
   "execution_count": 5,
   "id": "5c3df775",
   "metadata": {},
   "outputs": [],
   "source": [
    "# category_ids = coco.getCatIds(['product'])\n",
    "# category_ids"
   ]
  },
  {
   "cell_type": "code",
   "execution_count": null,
   "id": "6210b9dd",
   "metadata": {},
   "outputs": [],
   "source": []
  }
 ],
 "metadata": {
  "kernelspec": {
   "display_name": "Python 3 (ipykernel)",
   "language": "python",
   "name": "python3"
  },
  "language_info": {
   "codemirror_mode": {
    "name": "ipython",
    "version": 3
   },
   "file_extension": ".py",
   "mimetype": "text/x-python",
   "name": "python",
   "nbconvert_exporter": "python",
   "pygments_lexer": "ipython3",
   "version": "3.10.6"
  }
 },
 "nbformat": 4,
 "nbformat_minor": 5
}
