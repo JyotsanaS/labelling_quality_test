{
 "cells": [
  {
   "cell_type": "code",
   "execution_count": 1,
   "metadata": {},
   "outputs": [],
   "source": [
    "# %cd '/home/ubuntu/1.1Tdisk/vijay/TestingPackages'\n",
    "# from ood import OOD"
   ]
  },
  {
   "cell_type": "markdown",
   "metadata": {},
   "source": [
    "## do the other extra stuff"
   ]
  },
  {
   "cell_type": "code",
   "execution_count": 71,
   "metadata": {},
   "outputs": [],
   "source": [
    "train_json = '/home/ubuntu/1.1Tdisk/vijay/walmart/dataset/training_valid_dataset/combined_data/train_data/images/images.json'\n",
    "test_json = '/home/ubuntu/1.1Tdisk/vijay/walmart/dataset/training_valid_dataset/combined_data/val_data/images/images.json'"
   ]
  },
  {
   "cell_type": "code",
   "execution_count": 72,
   "metadata": {},
   "outputs": [],
   "source": [
    "import json\n",
    "with open(test_json, 'r') as f:\n",
    "    test_data = json.load(f)\n",
    "with open(train_json, 'r') as f:\n",
    "    train_data = json.load(f)\n",
    "\n",
    "test_embeddings = [d['embedding'] for d in test_data]\n",
    "test_filepaths = [d['filepath'] for d in test_data]\n",
    "train_embeddings = [d['embedding'] for d in train_data]\n",
    "train_filepaths = [d['filepath'] for d in train_data]"
   ]
  },
  {
   "cell_type": "code",
   "execution_count": 4,
   "metadata": {},
   "outputs": [
    {
     "name": "stderr",
     "output_type": "stream",
     "text": [
      "/opt/conda/lib/python3.10/site-packages/umap/distances.py:1063: NumbaDeprecationWarning: \u001b[1mThe 'nopython' keyword argument was not supplied to the 'numba.jit' decorator. The implicit default value for this argument is currently False, but it will be changed to True in Numba 0.59.0. See https://numba.readthedocs.io/en/stable/reference/deprecation.html#deprecation-of-object-mode-fall-back-behaviour-when-using-jit for details.\u001b[0m\n",
      "  @numba.jit()\n",
      "/opt/conda/lib/python3.10/site-packages/umap/distances.py:1071: NumbaDeprecationWarning: \u001b[1mThe 'nopython' keyword argument was not supplied to the 'numba.jit' decorator. The implicit default value for this argument is currently False, but it will be changed to True in Numba 0.59.0. See https://numba.readthedocs.io/en/stable/reference/deprecation.html#deprecation-of-object-mode-fall-back-behaviour-when-using-jit for details.\u001b[0m\n",
      "  @numba.jit()\n",
      "/opt/conda/lib/python3.10/site-packages/umap/distances.py:1086: NumbaDeprecationWarning: \u001b[1mThe 'nopython' keyword argument was not supplied to the 'numba.jit' decorator. The implicit default value for this argument is currently False, but it will be changed to True in Numba 0.59.0. See https://numba.readthedocs.io/en/stable/reference/deprecation.html#deprecation-of-object-mode-fall-back-behaviour-when-using-jit for details.\u001b[0m\n",
      "  @numba.jit()\n",
      "/opt/conda/lib/python3.10/site-packages/umap/umap_.py:660: NumbaDeprecationWarning: \u001b[1mThe 'nopython' keyword argument was not supplied to the 'numba.jit' decorator. The implicit default value for this argument is currently False, but it will be changed to True in Numba 0.59.0. See https://numba.readthedocs.io/en/stable/reference/deprecation.html#deprecation-of-object-mode-fall-back-behaviour-when-using-jit for details.\u001b[0m\n",
      "  @numba.jit()\n",
      "2024-01-19 08:52:23.092528: I tensorflow/core/util/port.cc:111] oneDNN custom operations are on. You may see slightly different numerical results due to floating-point round-off errors from different computation orders. To turn them off, set the environment variable `TF_ENABLE_ONEDNN_OPTS=0`.\n",
      "2024-01-19 08:52:23.900468: E tensorflow/compiler/xla/stream_executor/cuda/cuda_dnn.cc:9342] Unable to register cuDNN factory: Attempting to register factory for plugin cuDNN when one has already been registered\n",
      "2024-01-19 08:52:23.900500: E tensorflow/compiler/xla/stream_executor/cuda/cuda_fft.cc:609] Unable to register cuFFT factory: Attempting to register factory for plugin cuFFT when one has already been registered\n",
      "2024-01-19 08:52:23.904382: E tensorflow/compiler/xla/stream_executor/cuda/cuda_blas.cc:1518] Unable to register cuBLAS factory: Attempting to register factory for plugin cuBLAS when one has already been registered\n",
      "2024-01-19 08:52:24.279004: I tensorflow/core/platform/cpu_feature_guard.cc:182] This TensorFlow binary is optimized to use available CPU instructions in performance-critical operations.\n",
      "To enable the following instructions: AVX2 AVX512F AVX512_VNNI FMA, in other operations, rebuild TensorFlow with the appropriate compiler flags.\n"
     ]
    }
   ],
   "source": [
    "from umap import UMAP\n",
    "import plotly.express as px\n",
    "\n",
    "embeddings = [d for d in train_embeddings] + [d for d in test_embeddings]\n",
    "umap_model = UMAP(n_components=2, n_neighbors=15, random_state=42)\n",
    "umap_data_2d = umap_model.fit_transform(embeddings)"
   ]
  },
  {
   "cell_type": "code",
   "execution_count": null,
   "metadata": {},
   "outputs": [],
   "source": []
  },
  {
   "cell_type": "code",
   "execution_count": null,
   "metadata": {},
   "outputs": [],
   "source": []
  },
  {
   "cell_type": "code",
   "execution_count": 6,
   "metadata": {},
   "outputs": [
    {
     "name": "stdout",
     "output_type": "stream",
     "text": [
      "/home/ubuntu/1.1Tdisk/vijay/TestingPackages\n"
     ]
    }
   ],
   "source": [
    "%cd '/home/ubuntu/1.1Tdisk/vijay/TestingPackages'\n",
    "from clustering import Clustering"
   ]
  },
  {
   "cell_type": "code",
   "execution_count": 11,
   "metadata": {},
   "outputs": [],
   "source": [
    "model_train = Clustering(train_json)\n",
    "model_test = Clustering(test_json)"
   ]
  },
  {
   "cell_type": "code",
   "execution_count": 12,
   "metadata": {},
   "outputs": [
    {
     "name": "stdout",
     "output_type": "stream",
     "text": [
      "No of Images:  623\n"
     ]
    },
    {
     "data": {
      "image/png": "[encoded data removed]",
      "text/plain": [
       "<Figure size 640x480 with 1 Axes>"
      ]
     },
     "metadata": {},
     "output_type": "display_data"
    }
   ],
   "source": [
    "model_train.plot_elbow(k_range=(1, 10))"
   ]
  },
  {
   "cell_type": "code",
   "execution_count": 22,
   "metadata": {},
   "outputs": [
    {
     "data": {
      "application/vnd.plotly.v1+json": {
       "config": {
        "plotlyServerURL": "https://plot.ly"
       },
       "data": [
        {
         "hovertemplate": "groups=0<br>0=%{x}<br>1=%{y}<extra></extra>",
         "legendgroup": "0",
         "marker": {
          "color": "#636efa",
          "symbol": "circle"
         },
         "mode": "markers",
         "name": "0",
         "orientation": "v",
         "showlegend": true,
         "type": "scatter",
         "x": [
          11.75772,
          11.551659,
          9.431217,
          7.891561,
          13.142989,
          12.480167,
          4.545026,
          11.302493,
          12.560315,
          12.334378,
          9.274662,
          12.873888,
          9.447647,
          11.808304,
          7.920234,
          8.2599,
          7.6571283,
          8.054385,
          4.5423093,
          10.9579935,
          9.30651,
          11.231697,
          8.149879,
          7.1793766,
          12.0736265,
          8.469041,
          11.372476,
          8.723751,
          12.109998,
          7.072903,
          12.66495,
          12.94603,
          8.550737,
          11.61638,
          12.645855,
          9.358674,
          13.002809,
          11.4695215,
          11.687169,
          8.801745,
          9.438099,
          12.133171,
          7.913356,
          12.812265,
          11.304903,
          8.576981,
          8.197981,
          8.941842,
          12.805973,
          12.851867,
          12.457046,
          12.020084,
          8.004594,
          9.51074,
          9.685446,
          11.182191,
          10.834623,
          5.18644,
          9.938939,
          9.036316,
          11.316801,
          11.453873,
          9.2918825,
          12.788864,
          10.969319,
          8.153087,
          12.596414,
          4.556367,
          9.717535,
          11.378585,
          11.586881,
          11.357295,
          12.920597,
          11.560465,
          11.936569,
          8.861253,
          10.71579,
          4.0584884,
          11.688325,
          9.282138,
          10.878888,
          11.148213,
          10.910734,
          8.108947,
          13.091391,
          11.28099,
          8.40362,
          11.977635,
          10.901369,
          8.212366,
          13.636089,
          8.360481,
          9.127422,
          11.827208,
          10.707509,
          12.52234,
          8.857059,
          8.560379,
          12.677659,
          11.302183,
          8.529383,
          8.684459,
          8.491648,
          9.768525,
          6.8804398,
          7.558988,
          10.794912,
          9.386696,
          11.628144,
          8.762093,
          9.09508,
          13.223581,
          9.831721,
          11.324463,
          8.85453,
          11.165413,
          11.182625,
          11.272034,
          7.4849086,
          11.757157,
          9.683126,
          11.491536,
          9.702836,
          12.3863125,
          9.210604,
          8.809556,
          9.308629,
          12.566798,
          11.085649,
          9.991674,
          8.100211,
          9.089248,
          7.985894,
          12.884242,
          8.224896,
          8.264827,
          9.285199,
          11.798755,
          10.641833,
          12.672171,
          7.9995584,
          8.922022,
          8.675771,
          4.514789,
          12.428185,
          13.252534,
          8.490947,
          8.607661,
          9.443399,
          8.626128,
          8.093393,
          9.281814,
          11.944363,
          10.670923,
          8.767712,
          10.868751,
          12.915653,
          12.414616,
          8.394997,
          12.944964,
          8.39049,
          11.067102,
          11.371929,
          13.000596,
          9.128916,
          11.456111,
          8.99302,
          8.932849,
          7.985213,
          12.061201,
          8.677999,
          8.523339,
          11.804531,
          9.879459,
          11.466752,
          12.674491,
          11.356896,
          8.171012,
          12.830937,
          8.085241,
          11.197753,
          11.34736,
          8.53009,
          12.606853,
          7.145209,
          9.705086,
          9.288326,
          12.251926,
          9.386812,
          9.205785,
          12.891899,
          8.673332,
          8.947871,
          11.659095,
          12.283241,
          12.305979,
          12.62588,
          8.503011,
          12.849543,
          9.608297,
          11.587708,
          4.6915545,
          8.5945,
          8.158202,
          9.585401,
          10.682362,
          12.752641,
          11.978706,
          13.061311,
          9.830494,
          8.594823,
          12.610634,
          8.384819,
          9.413472,
          9.512643,
          8.585494,
          8.655977,
          7.360416,
          11.105874,
          8.511211,
          11.115731,
          11.616922,
          6.939804,
          12.233633,
          7.959542,
          8.940877,
          13.214996,
          12.745166,
          13.014697,
          8.117459,
          8.003649,
          9.541658,
          8.846955,
          9.2801895,
          12.870045,
          12.738101,
          11.051101,
          12.660568,
          12.866319,
          12.946601,
          8.307214,
          11.173445,
          12.345901,
          9.274097,
          11.547369,
          10.882787,
          9.335255,
          13.604872,
          11.799304,
          11.911894,
          5.249785,
          11.970179,
          10.758654,
          12.2400875,
          13.647982,
          9.093586,
          13.075936,
          11.079881,
          11.754559,
          9.200673,
          12.978007,
          11.5698805,
          11.080128,
          8.817303,
          13.53216,
          9.014939,
          12.098393,
          10.753055,
          8.750266,
          10.92812,
          9.20136,
          9.705179,
          12.533278,
          11.468276,
          7.0600853,
          11.281575,
          7.102197,
          12.681127,
          12.725429,
          7.0333557,
          12.660965,
          11.635106,
          11.9974985,
          8.412305,
          8.26237,
          11.527136,
          8.632631,
          12.402035,
          5.188547,
          8.38939,
          9.299165,
          10.921442,
          6.781496,
          12.467869,
          7.035148,
          8.816373,
          10.9752245,
          12.688203,
          8.253546,
          12.727536,
          13.051793,
          12.764238,
          7.446442,
          10.789484,
          11.606118,
          8.76271,
          8.320517,
          11.572802,
          8.311738,
          12.933545,
          9.680281,
          8.766806,
          8.259504,
          8.67076,
          12.0823965,
          8.530522,
          11.161035,
          9.818523,
          12.77779,
          12.336717,
          10.832025,
          8.5976095,
          9.661007,
          12.542819,
          11.157972,
          8.202731,
          11.877422,
          6.626895,
          12.98775,
          7.924659,
          11.858171,
          12.814546,
          9.753085,
          12.418599,
          9.430407,
          9.348203,
          11.340586,
          13.020933,
          10.918267,
          12.6081,
          11.316414,
          12.937514,
          9.639218,
          8.923426,
          9.897423,
          11.0917,
          10.977686,
          11.0568285,
          12.409973,
          8.837474,
          8.48616,
          8.671842,
          8.373651,
          12.631079,
          9.716095,
          12.805805,
          5.195157,
          11.905192,
          11.361541,
          12.764974,
          11.712098,
          10.920599,
          12.161012,
          9.997208,
          12.385631,
          13.564409,
          9.961982,
          12.153593,
          6.837091,
          11.183123,
          10.57342,
          12.910313,
          11.179132,
          8.613547,
          7.1471295,
          12.977967,
          12.768853,
          7.672251,
          11.53955,
          12.844441,
          8.556795,
          9.373975,
          7.969772,
          8.109221,
          9.768935,
          12.695146,
          8.612113,
          8.18348,
          11.214729,
          8.968503,
          8.515103,
          9.726865,
          8.135219,
          11.572861,
          13.175096,
          12.154071,
          9.751622,
          13.170278,
          12.833431,
          11.577377,
          8.043714,
          9.795633,
          11.31705,
          10.88473
         ],
         "xaxis": "x",
         "y": [
          6.9522696,
          11.17264,
          8.749529,
          2.211516,
          7.7698617,
          7.0189133,
          -1.6210415,
          6.843828,
          6.0944395,
          6.9863906,
          8.899348,
          5.9426584,
          8.75231,
          11.281154,
          10.856254,
          10.255841,
          2.1008062,
          2.2377498,
          -1.6444097,
          9.058813,
          8.863602,
          6.9640403,
          2.2985733,
          2.1714687,
          6.93582,
          5.16741,
          6.8817577,
          4.7464542,
          6.0102096,
          1.5798408,
          6.5048084,
          6.1229086,
          9.522629,
          5.377793,
          6.9798107,
          9.418036,
          6.179738,
          5.385014,
          5.413607,
          4.5772586,
          10.524996,
          6.550045,
          10.709082,
          6.5738716,
          11.481581,
          9.587955,
          2.3567448,
          9.376318,
          6.245999,
          7.0441594,
          6.8459024,
          6.0831532,
          2.1823308,
          10.453592,
          10.308154,
          6.7331595,
          11.820696,
          5.722504,
          10.817843,
          11.027188,
          6.8888516,
          5.379168,
          10.343435,
          5.3232203,
          11.855902,
          2.2906065,
          9.493193,
          -1.6297134,
          9.247855,
          5.3031063,
          6.3550334,
          11.362961,
          9.489896,
          11.140034,
          6.9061193,
          4.6780066,
          8.901384,
          -1.2777798,
          11.439725,
          8.95242,
          8.646258,
          7.200818,
          11.773131,
          11.057939,
          7.65102,
          11.180197,
          9.706027,
          6.3434525,
          11.838003,
          10.356988,
          7.6743517,
          9.944859,
          10.498499,
          7.100952,
          8.768592,
          6.290172,
          9.620133,
          10.871677,
          5.663729,
          11.443257,
          9.960282,
          4.6527085,
          10.914182,
          9.5629225,
          1.3016108,
          2.6420724,
          8.839254,
          10.598727,
          6.424468,
          4.890217,
          10.592706,
          7.014141,
          10.803902,
          11.352421,
          10.786692,
          7.155448,
          11.506133,
          6.8928127,
          2.2035382,
          11.25413,
          10.32079,
          11.522293,
          9.699602,
          6.762626,
          9.290776,
          10.125357,
          8.858248,
          5.597037,
          8.621826,
          9.537022,
          2.349086,
          9.208161,
          2.1795907,
          5.710212,
          9.775302,
          10.408066,
          8.997594,
          11.312192,
          8.967147,
          9.663556,
          10.911254,
          10.698808,
          10.748778,
          -1.6715517,
          5.8618927,
          8.401987,
          10.532824,
          4.9860067,
          10.616198,
          9.75184,
          2.2465334,
          8.82608,
          6.5278397,
          9.0405035,
          4.5864906,
          11.04888,
          6.338556,
          9.844434,
          10.10778,
          7.7963386,
          9.641691,
          11.246047,
          11.399092,
          9.530835,
          9.355256,
          5.4083576,
          9.130014,
          9.429037,
          10.864079,
          6.3837814,
          4.6430416,
          9.634419,
          6.5229845,
          10.799168,
          11.677177,
          9.650871,
          5.690727,
          11.031898,
          6.2680736,
          2.2364995,
          11.023856,
          11.39183,
          5.0587077,
          6.69971,
          1.7119898,
          9.26019,
          9.682005,
          6.0125113,
          10.008731,
          10.225528,
          9.431444,
          4.6422853,
          10.940303,
          6.362769,
          6.6807194,
          6.9126244,
          9.67665,
          5.0931125,
          9.409345,
          10.156239,
          11.258924,
          -1.5101918,
          11.035998,
          11.112502,
          9.491584,
          9.066878,
          7.5674486,
          6.981235,
          9.425667,
          9.745554,
          10.481061,
          6.6372375,
          9.637799,
          9.881991,
          8.8325615,
          10.273169,
          4.9252863,
          2.4351974,
          7.242771,
          9.599485,
          7.2018375,
          11.689991,
          2.0297558,
          5.9701195,
          2.1761937,
          9.962553,
          7.035147,
          5.196966,
          9.469904,
          10.449582,
          10.769219,
          10.095701,
          10.762748,
          10.57342,
          6.126596,
          5.894912,
          11.800884,
          6.579462,
          9.4500065,
          9.443968,
          9.6203785,
          6.9714866,
          7.659053,
          9.545491,
          5.4069533,
          8.609175,
          9.451249,
          7.8509545,
          6.4989724,
          6.4731903,
          5.7204056,
          6.5370607,
          8.948526,
          6.628415,
          7.9726577,
          10.936788,
          5.923508,
          9.057329,
          7.0066133,
          10.734485,
          7.686923,
          11.672784,
          10.977269,
          4.5996532,
          7.551256,
          9.327238,
          7.0198364,
          11.875808,
          10.254281,
          8.693323,
          9.329682,
          10.670443,
          5.196576,
          11.439218,
          1.3518994,
          6.8362923,
          2.0863142,
          6.65441,
          5.1907053,
          2.0031395,
          5.2750287,
          6.302962,
          6.6460733,
          10.694917,
          10.920843,
          5.381802,
          4.8585286,
          5.7673926,
          5.681284,
          10.909535,
          10.551209,
          11.866261,
          1.5191714,
          7.135621,
          2.092856,
          10.2278185,
          8.694007,
          5.2477746,
          10.231872,
          9.401835,
          7.755095,
          5.1974077,
          2.3962953,
          8.965415,
          11.130595,
          4.59829,
          10.738648,
          6.423372,
          10.212565,
          5.6534667,
          10.719879,
          10.594647,
          9.692783,
          4.6338058,
          6.4577465,
          5.0092506,
          7.092378,
          9.400827,
          5.5302577,
          6.3221626,
          11.825239,
          4.5639687,
          9.232354,
          5.8343787,
          8.788462,
          11.173711,
          6.5718274,
          1.3066772,
          5.6598883,
          2.1948056,
          6.14137,
          6.553158,
          9.672304,
          7.0588,
          10.6075945,
          11.005621,
          11.473753,
          7.7188315,
          11.8967905,
          9.708905,
          5.5550356,
          9.38848,
          10.484615,
          9.210011,
          10.74488,
          11.328912,
          8.478707,
          11.502523,
          5.858625,
          9.282275,
          4.633355,
          11.061461,
          4.872718,
          6.3450127,
          10.267964,
          9.408042,
          5.681846,
          7.005098,
          5.4984293,
          6.362973,
          11.224201,
          11.947528,
          6.956903,
          10.219622,
          9.621386,
          7.7784142,
          10.253296,
          6.0031266,
          1.7034388,
          8.919014,
          8.933546,
          5.8335347,
          7.0610867,
          10.330882,
          1.5756756,
          9.497982,
          5.4344783,
          2.1970942,
          11.66336,
          6.7334194,
          11.10041,
          10.370979,
          10.885891,
          2.2777402,
          10.900902,
          9.630037,
          10.812174,
          11.094198,
          8.918334,
          10.666133,
          5.174631,
          10.389347,
          2.263266,
          11.144133,
          6.0515885,
          5.969552,
          9.35986,
          7.713727,
          5.9474506,
          6.331772,
          2.1816537,
          10.524527,
          11.355046,
          11.916184
         ],
         "yaxis": "y"
        },
        {
         "hovertemplate": "groups=1<br>0=%{x}<br>1=%{y}<extra></extra>",
         "legendgroup": "1",
         "marker": {
          "color": "#EF553B",
          "symbol": "circle"
         },
         "mode": "markers",
         "name": "1",
         "orientation": "v",
         "showlegend": true,
         "type": "scatter",
         "x": [
          4.122879,
          4.2685666,
          6.98883,
          7.513088,
          2.1324415,
          3.6155102,
          3.4428284,
          4.2805753,
          13.637592,
          4.0664754,
          4.490597,
          2.0836112,
          3.4114323,
          6.518602,
          3.490778,
          13.915405,
          2.9147208,
          3.8449035,
          2.2558696,
          12.617952,
          4.432217,
          13.480291,
          5.1141267,
          3.6090434,
          4.322721,
          3.7037425,
          3.8349328,
          3.4129436,
          3.4484508,
          3.7272582,
          13.767946,
          5.1938453,
          8.211099,
          4.5227985,
          4.4793367,
          5.0736866,
          4.3980603,
          13.759455,
          4.3168073,
          13.839753,
          2.169257,
          4.001011,
          13.789533,
          3.7237158,
          5.102391,
          4.8881507,
          13.66942,
          6.734183,
          5.203958,
          5.2004642,
          4.4593253,
          3.3749611,
          4.4526396,
          3.8975732,
          6.609975,
          2.5619347,
          4.758383,
          3.8914552,
          3.6521945,
          3.8085847,
          4.0088735,
          6.733297,
          5.127823,
          2.5201845,
          4.442187,
          13.9164715,
          4.2848616,
          5.1415606,
          2.1987567,
          3.3893588,
          2.6538668,
          2.746674,
          4.386521,
          8.196085,
          13.787191,
          4.442501,
          2.9137812,
          4.5227866,
          13.973829,
          3.6287189,
          4.411124,
          4.2956815,
          3.8852577,
          6.8577924,
          3.7579415,
          4.33075,
          4.420722,
          4.0239334,
          12.863358,
          4.2173967,
          4.429118,
          2.9254844,
          4.105784,
          6.649357,
          2.1570995,
          4.454914,
          5.1799626,
          13.450528,
          2.7029939,
          2.2682786,
          2.2922056,
          4.023476,
          3.6308684,
          4.379031,
          7.3489585,
          3.3775353,
          4.2814713,
          5.0897484,
          6.395448,
          4.411546,
          3.6562178,
          3.9546158,
          3.678449,
          3.4808874,
          13.945411,
          4.4047318,
          2.5570693,
          4.0543137,
          4.070505,
          3.9272387,
          3.3453743,
          3.698799,
          4.012562,
          3.67885,
          6.877734,
          3.7918336,
          3.6424277,
          4.4269004,
          4.978125,
          4.042358,
          3.97566,
          4.301706,
          3.650344,
          6.437572,
          5.1201434,
          4.1883564,
          3.7003853,
          6.5577087,
          6.698994,
          3.4487834,
          3.9990494,
          13.858265,
          4.011151,
          3.9797328,
          13.797721,
          5.2461247,
          3.4535742,
          3.6404731,
          4.4122906,
          13.871487,
          4.925416,
          2.0999794,
          3.6043372,
          5.17602,
          4.388663,
          3.945713,
          3.0903704,
          13.870365,
          4.5322223,
          13.653746,
          4.4588757,
          4.3874216,
          6.652538,
          3.4396274,
          3.606151,
          5.0126796,
          3.4311848,
          6.6462474,
          13.674099,
          6.7254686,
          4.2032013,
          6.6951103,
          4.2513866,
          2.8598242,
          4.361927,
          6.7347517,
          4.4211,
          3.935229,
          4.4610486,
          13.97796,
          3.9564605,
          6.770319,
          3.5386744,
          4.4619684,
          4.191938,
          3.678372,
          4.5451593,
          4.03483,
          2.6494622,
          3.9453456,
          2.8417995,
          4.213123,
          3.390888,
          4.53839,
          3.5388727,
          4.3297777,
          4.2781134,
          3.9639616,
          5.214812,
          3.805242,
          6.5729246,
          2.1482077,
          6.765044,
          4.4898505,
          4.289225,
          3.981734,
          4.519734,
          6.8233633,
          8.929197,
          13.83033,
          3.9410834,
          3.6940854,
          5.0096536,
          4.3710494,
          4.1251802,
          2.2838554,
          3.9300575,
          5.203416,
          2.6814132
         ],
         "xaxis": "x",
         "y": [
          7.005087,
          8.08924,
          2.1305282,
          2.0263057,
          8.535627,
          5.9255643,
          10.145888,
          -1.7177955,
          7.1249685,
          7.30811,
          8.291218,
          8.484438,
          10.182262,
          2.2836127,
          10.244124,
          7.757928,
          8.395395,
          -1.7679824,
          8.414405,
          6.891713,
          5.5319505,
          7.076821,
          5.713438,
          5.875757,
          5.628826,
          -2.0366745,
          -1.563494,
          10.407511,
          10.17734,
          7.8929644,
          7.858604,
          8.576012,
          11.147413,
          8.228593,
          5.831323,
          5.5277104,
          5.5164347,
          7.160392,
          -1.6283145,
          7.319639,
          8.497978,
          -1.7055055,
          8.259857,
          5.949489,
          8.704936,
          5.8006334,
          7.109281,
          1.5701265,
          8.548728,
          8.676115,
          8.43636,
          10.43852,
          5.810329,
          5.958384,
          1.466982,
          8.417579,
          6.391991,
          -0.97087777,
          -2.0672092,
          -2.1287324,
          -1.8375636,
          1.3640238,
          8.734023,
          8.429927,
          7.2092924,
          7.784664,
          -1.635531,
          5.9397645,
          8.416317,
          10.201793,
          8.389304,
          8.38955,
          8.50199,
          10.305163,
          7.180684,
          7.5814986,
          8.40964,
          7.968525,
          7.8886857,
          -1.7427206,
          7.8212204,
          7.21278,
          6.161741,
          1.3349347,
          -1.6281806,
          -1.7016875,
          7.938743,
          6.440385,
          5.620915,
          7.971042,
          5.911364,
          8.264841,
          7.2106357,
          2.1505935,
          8.503533,
          7.963239,
          5.8494678,
          7.0395994,
          8.359743,
          8.391309,
          8.499598,
          -1.3142084,
          5.9000773,
          6.578813,
          2.0387707,
          10.224163,
          -1.6946753,
          5.605084,
          2.3936143,
          7.806839,
          6.09506,
          5.896812,
          5.9977417,
          -1.7715157,
          7.8488016,
          7.6095834,
          8.421739,
          7.284276,
          6.438552,
          7.3876057,
          10.465257,
          -1.7950162,
          -1.965306,
          6.0209055,
          1.307832,
          6.1505303,
          -2.0692606,
          8.349168,
          5.590989,
          -1.7112004,
          -1.8652418,
          7.9741807,
          -1.695556,
          2.3690922,
          5.5827227,
          -1.7891841,
          -2.0199606,
          2.2622736,
          1.2674809,
          10.166151,
          6.365848,
          7.6686044,
          6.767508,
          5.911461,
          7.8751826,
          8.574825,
          10.382133,
          10.040566,
          5.5130095,
          7.2946525,
          5.5322604,
          8.513971,
          5.9259133,
          8.723624,
          7.8490486,
          -1.098925,
          8.335372,
          7.8200274,
          5.522418,
          7.131325,
          5.567494,
          5.5650115,
          2.2230732,
          10.352851,
          -2.08607,
          5.481522,
          10.3386135,
          1.2457467,
          7.04297,
          1.3959988,
          7.9319057,
          1.3181927,
          7.1415687,
          8.343049,
          5.58729,
          1.218592,
          8.37611,
          6.1999335,
          5.592121,
          7.8767915,
          6.603623,
          1.3691944,
          8.545744,
          7.9883175,
          -1.7444437,
          -2.070347,
          8.071665,
          -1.3116496,
          8.384401,
          6.367254,
          8.3940525,
          7.7754445,
          10.3559,
          8.392508,
          -1.9501107,
          5.6108475,
          7.264768,
          7.3980656,
          8.5524025,
          -2.0395772,
          2.2561696,
          8.476403,
          1.3306986,
          8.306365,
          8.3241625,
          6.4535966,
          8.25188,
          2.0568504,
          9.130882,
          7.779998,
          -1.3503894,
          -2.1088238,
          5.560635,
          -1.6573526,
          5.833049,
          8.392586,
          -1.0423988,
          8.676332,
          8.365681
         ],
         "yaxis": "y"
        }
       ],
       "layout": {
        "legend": {
         "title": {
          "text": "groups"
         },
         "tracegroupgap": 0
        },
        "margin": {
         "t": 60
        },
        "template": {
         "data": {
          "bar": [
           {
            "error_x": {
             "color": "#2a3f5f"
            },
            "error_y": {
             "color": "#2a3f5f"
            },
            "marker": {
             "line": {
              "color": "#E5ECF6",
              "width": 0.5
             },
             "pattern": {
              "fillmode": "overlay",
              "size": 10,
              "solidity": 0.2
             }
            },
            "type": "bar"
           }
          ],
          "barpolar": [
           {
            "marker": {
             "line": {
              "color": "#E5ECF6",
              "width": 0.5
             },
             "pattern": {
              "fillmode": "overlay",
              "size": 10,
              "solidity": 0.2
             }
            },
            "type": "barpolar"
           }
          ],
          "carpet": [
           {
            "aaxis": {
             "endlinecolor": "#2a3f5f",
             "gridcolor": "white",
             "linecolor": "white",
             "minorgridcolor": "white",
             "startlinecolor": "#2a3f5f"
            },
            "baxis": {
             "endlinecolor": "#2a3f5f",
             "gridcolor": "white",
             "linecolor": "white",
             "minorgridcolor": "white",
             "startlinecolor": "#2a3f5f"
            },
            "type": "carpet"
           }
          ],
          "choropleth": [
           {
            "colorbar": {
             "outlinewidth": 0,
             "ticks": ""
            },
            "type": "choropleth"
           }
          ],
          "contour": [
           {
            "colorbar": {
             "outlinewidth": 0,
             "ticks": ""
            },
            "colorscale": [
             [
              0,
              "#0d0887"
             ],
             [
              0.1111111111111111,
              "#46039f"
             ],
             [
              0.2222222222222222,
              "#7201a8"
             ],
             [
              0.3333333333333333,
              "#9c179e"
             ],
             [
              0.4444444444444444,
              "#bd3786"
             ],
             [
              0.5555555555555556,
              "#d8576b"
             ],
             [
              0.6666666666666666,
              "#ed7953"
             ],
             [
              0.7777777777777778,
              "#fb9f3a"
             ],
             [
              0.8888888888888888,
              "#fdca26"
             ],
             [
              1,
              "#f0f921"
             ]
            ],
            "type": "contour"
           }
          ],
          "contourcarpet": [
           {
            "colorbar": {
             "outlinewidth": 0,
             "ticks": ""
            },
            "type": "contourcarpet"
           }
          ],
          "heatmap": [
           {
            "colorbar": {
             "outlinewidth": 0,
             "ticks": ""
            },
            "colorscale": [
             [
              0,
              "#0d0887"
             ],
             [
              0.1111111111111111,
              "#46039f"
             ],
             [
              0.2222222222222222,
              "#7201a8"
             ],
             [
              0.3333333333333333,
              "#9c179e"
             ],
             [
              0.4444444444444444,
              "#bd3786"
             ],
             [
              0.5555555555555556,
              "#d8576b"
             ],
             [
              0.6666666666666666,
              "#ed7953"
             ],
             [
              0.7777777777777778,
              "#fb9f3a"
             ],
             [
              0.8888888888888888,
              "#fdca26"
             ],
             [
              1,
              "#f0f921"
             ]
            ],
            "type": "heatmap"
           }
          ],
          "heatmapgl": [
           {
            "colorbar": {
             "outlinewidth": 0,
             "ticks": ""
            },
            "colorscale": [
             [
              0,
              "#0d0887"
             ],
             [
              0.1111111111111111,
              "#46039f"
             ],
             [
              0.2222222222222222,
              "#7201a8"
             ],
             [
              0.3333333333333333,
              "#9c179e"
             ],
             [
              0.4444444444444444,
              "#bd3786"
             ],
             [
              0.5555555555555556,
              "#d8576b"
             ],
             [
              0.6666666666666666,
              "#ed7953"
             ],
             [
              0.7777777777777778,
              "#fb9f3a"
             ],
             [
              0.8888888888888888,
              "#fdca26"
             ],
             [
              1,
              "#f0f921"
             ]
            ],
            "type": "heatmapgl"
           }
          ],
          "histogram": [
           {
            "marker": {
             "pattern": {
              "fillmode": "overlay",
              "size": 10,
              "solidity": 0.2
             }
            },
            "type": "histogram"
           }
          ],
          "histogram2d": [
           {
            "colorbar": {
             "outlinewidth": 0,
             "ticks": ""
            },
            "colorscale": [
             [
              0,
              "#0d0887"
             ],
             [
              0.1111111111111111,
              "#46039f"
             ],
             [
              0.2222222222222222,
              "#7201a8"
             ],
             [
              0.3333333333333333,
              "#9c179e"
             ],
             [
              0.4444444444444444,
              "#bd3786"
             ],
             [
              0.5555555555555556,
              "#d8576b"
             ],
             [
              0.6666666666666666,
              "#ed7953"
             ],
             [
              0.7777777777777778,
              "#fb9f3a"
             ],
             [
              0.8888888888888888,
              "#fdca26"
             ],
             [
              1,
              "#f0f921"
             ]
            ],
            "type": "histogram2d"
           }
          ],
          "histogram2dcontour": [
           {
            "colorbar": {
             "outlinewidth": 0,
             "ticks": ""
            },
            "colorscale": [
             [
              0,
              "#0d0887"
             ],
             [
              0.1111111111111111,
              "#46039f"
             ],
             [
              0.2222222222222222,
              "#7201a8"
             ],
             [
              0.3333333333333333,
              "#9c179e"
             ],
             [
              0.4444444444444444,
              "#bd3786"
             ],
             [
              0.5555555555555556,
              "#d8576b"
             ],
             [
              0.6666666666666666,
              "#ed7953"
             ],
             [
              0.7777777777777778,
              "#fb9f3a"
             ],
             [
              0.8888888888888888,
              "#fdca26"
             ],
             [
              1,
              "#f0f921"
             ]
            ],
            "type": "histogram2dcontour"
           }
          ],
          "mesh3d": [
           {
            "colorbar": {
             "outlinewidth": 0,
             "ticks": ""
            },
            "type": "mesh3d"
           }
          ],
          "parcoords": [
           {
            "line": {
             "colorbar": {
              "outlinewidth": 0,
              "ticks": ""
             }
            },
            "type": "parcoords"
           }
          ],
          "pie": [
           {
            "automargin": true,
            "type": "pie"
           }
          ],
          "scatter": [
           {
            "fillpattern": {
             "fillmode": "overlay",
             "size": 10,
             "solidity": 0.2
            },
            "type": "scatter"
           }
          ],
          "scatter3d": [
           {
            "line": {
             "colorbar": {
              "outlinewidth": 0,
              "ticks": ""
             }
            },
            "marker": {
             "colorbar": {
              "outlinewidth": 0,
              "ticks": ""
             }
            },
            "type": "scatter3d"
           }
          ],
          "scattercarpet": [
           {
            "marker": {
             "colorbar": {
              "outlinewidth": 0,
              "ticks": ""
             }
            },
            "type": "scattercarpet"
           }
          ],
          "scattergeo": [
           {
            "marker": {
             "colorbar": {
              "outlinewidth": 0,
              "ticks": ""
             }
            },
            "type": "scattergeo"
           }
          ],
          "scattergl": [
           {
            "marker": {
             "colorbar": {
              "outlinewidth": 0,
              "ticks": ""
             }
            },
            "type": "scattergl"
           }
          ],
          "scattermapbox": [
           {
            "marker": {
             "colorbar": {
              "outlinewidth": 0,
              "ticks": ""
             }
            },
            "type": "scattermapbox"
           }
          ],
          "scatterpolar": [
           {
            "marker": {
             "colorbar": {
              "outlinewidth": 0,
              "ticks": ""
             }
            },
            "type": "scatterpolar"
           }
          ],
          "scatterpolargl": [
           {
            "marker": {
             "colorbar": {
              "outlinewidth": 0,
              "ticks": ""
             }
            },
            "type": "scatterpolargl"
           }
          ],
          "scatterternary": [
           {
            "marker": {
             "colorbar": {
              "outlinewidth": 0,
              "ticks": ""
             }
            },
            "type": "scatterternary"
           }
          ],
          "surface": [
           {
            "colorbar": {
             "outlinewidth": 0,
             "ticks": ""
            },
            "colorscale": [
             [
              0,
              "#0d0887"
             ],
             [
              0.1111111111111111,
              "#46039f"
             ],
             [
              0.2222222222222222,
              "#7201a8"
             ],
             [
              0.3333333333333333,
              "#9c179e"
             ],
             [
              0.4444444444444444,
              "#bd3786"
             ],
             [
              0.5555555555555556,
              "#d8576b"
             ],
             [
              0.6666666666666666,
              "#ed7953"
             ],
             [
              0.7777777777777778,
              "#fb9f3a"
             ],
             [
              0.8888888888888888,
              "#fdca26"
             ],
             [
              1,
              "#f0f921"
             ]
            ],
            "type": "surface"
           }
          ],
          "table": [
           {
            "cells": {
             "fill": {
              "color": "#EBF0F8"
             },
             "line": {
              "color": "white"
             }
            },
            "header": {
             "fill": {
              "color": "#C8D4E3"
             },
             "line": {
              "color": "white"
             }
            },
            "type": "table"
           }
          ]
         },
         "layout": {
          "annotationdefaults": {
           "arrowcolor": "#2a3f5f",
           "arrowhead": 0,
           "arrowwidth": 1
          },
          "autotypenumbers": "strict",
          "coloraxis": {
           "colorbar": {
            "outlinewidth": 0,
            "ticks": ""
           }
          },
          "colorscale": {
           "diverging": [
            [
             0,
             "#8e0152"
            ],
            [
             0.1,
             "#c51b7d"
            ],
            [
             0.2,
             "#de77ae"
            ],
            [
             0.3,
             "#f1b6da"
            ],
            [
             0.4,
             "#fde0ef"
            ],
            [
             0.5,
             "#f7f7f7"
            ],
            [
             0.6,
             "#e6f5d0"
            ],
            [
             0.7,
             "#b8e186"
            ],
            [
             0.8,
             "#7fbc41"
            ],
            [
             0.9,
             "#4d9221"
            ],
            [
             1,
             "#276419"
            ]
           ],
           "sequential": [
            [
             0,
             "#0d0887"
            ],
            [
             0.1111111111111111,
             "#46039f"
            ],
            [
             0.2222222222222222,
             "#7201a8"
            ],
            [
             0.3333333333333333,
             "#9c179e"
            ],
            [
             0.4444444444444444,
             "#bd3786"
            ],
            [
             0.5555555555555556,
             "#d8576b"
            ],
            [
             0.6666666666666666,
             "#ed7953"
            ],
            [
             0.7777777777777778,
             "#fb9f3a"
            ],
            [
             0.8888888888888888,
             "#fdca26"
            ],
            [
             1,
             "#f0f921"
            ]
           ],
           "sequentialminus": [
            [
             0,
             "#0d0887"
            ],
            [
             0.1111111111111111,
             "#46039f"
            ],
            [
             0.2222222222222222,
             "#7201a8"
            ],
            [
             0.3333333333333333,
             "#9c179e"
            ],
            [
             0.4444444444444444,
             "#bd3786"
            ],
            [
             0.5555555555555556,
             "#d8576b"
            ],
            [
             0.6666666666666666,
             "#ed7953"
            ],
            [
             0.7777777777777778,
             "#fb9f3a"
            ],
            [
             0.8888888888888888,
             "#fdca26"
            ],
            [
             1,
             "#f0f921"
            ]
           ]
          },
          "colorway": [
           "#636efa",
           "#EF553B",
           "#00cc96",
           "#ab63fa",
           "#FFA15A",
           "#19d3f3",
           "#FF6692",
           "#B6E880",
           "#FF97FF",
           "#FECB52"
          ],
          "font": {
           "color": "#2a3f5f"
          },
          "geo": {
           "bgcolor": "white",
           "lakecolor": "white",
           "landcolor": "#E5ECF6",
           "showlakes": true,
           "showland": true,
           "subunitcolor": "white"
          },
          "hoverlabel": {
           "align": "left"
          },
          "hovermode": "closest",
          "mapbox": {
           "style": "light"
          },
          "paper_bgcolor": "white",
          "plot_bgcolor": "#E5ECF6",
          "polar": {
           "angularaxis": {
            "gridcolor": "white",
            "linecolor": "white",
            "ticks": ""
           },
           "bgcolor": "#E5ECF6",
           "radialaxis": {
            "gridcolor": "white",
            "linecolor": "white",
            "ticks": ""
           }
          },
          "scene": {
           "xaxis": {
            "backgroundcolor": "#E5ECF6",
            "gridcolor": "white",
            "gridwidth": 2,
            "linecolor": "white",
            "showbackground": true,
            "ticks": "",
            "zerolinecolor": "white"
           },
           "yaxis": {
            "backgroundcolor": "#E5ECF6",
            "gridcolor": "white",
            "gridwidth": 2,
            "linecolor": "white",
            "showbackground": true,
            "ticks": "",
            "zerolinecolor": "white"
           },
           "zaxis": {
            "backgroundcolor": "#E5ECF6",
            "gridcolor": "white",
            "gridwidth": 2,
            "linecolor": "white",
            "showbackground": true,
            "ticks": "",
            "zerolinecolor": "white"
           }
          },
          "shapedefaults": {
           "line": {
            "color": "#2a3f5f"
           }
          },
          "ternary": {
           "aaxis": {
            "gridcolor": "white",
            "linecolor": "white",
            "ticks": ""
           },
           "baxis": {
            "gridcolor": "white",
            "linecolor": "white",
            "ticks": ""
           },
           "bgcolor": "#E5ECF6",
           "caxis": {
            "gridcolor": "white",
            "linecolor": "white",
            "ticks": ""
           }
          },
          "title": {
           "x": 0.05
          },
          "xaxis": {
           "automargin": true,
           "gridcolor": "white",
           "linecolor": "white",
           "ticks": "",
           "title": {
            "standoff": 15
           },
           "zerolinecolor": "white",
           "zerolinewidth": 2
          },
          "yaxis": {
           "automargin": true,
           "gridcolor": "white",
           "linecolor": "white",
           "ticks": "",
           "title": {
            "standoff": 15
           },
           "zerolinecolor": "white",
           "zerolinewidth": 2
          }
         }
        },
        "xaxis": {
         "anchor": "y",
         "domain": [
          0,
          1
         ],
         "title": {
          "text": "0"
         }
        },
        "yaxis": {
         "anchor": "x",
         "domain": [
          0,
          1
         ],
         "title": {
          "text": "1"
         }
        }
       }
      },
      "text/html": [
       "<div>                            <div id=\"26109512-4f94-4e1e-9f5f-778286e8b5a2\" class=\"plotly-graph-div\" style=\"height:525px; width:100%;\"></div>            <script type=\"text/javascript\">                require([\"plotly\"], function(Plotly) {                    window.PLOTLYENV=window.PLOTLYENV || {};                                    if (document.getElementById(\"26109512-4f94-4e1e-9f5f-778286e8b5a2\")) {                    Plotly.newPlot(                        \"26109512-4f94-4e1e-9f5f-778286e8b5a2\",                        [{\"hovertemplate\":\"groups=0\\u003cbr\\u003e0=%{x}\\u003cbr\\u003e1=%{y}\\u003cextra\\u003e\\u003c\\u002fextra\\u003e\",\"legendgroup\":\"0\",\"marker\":{\"color\":\"#636efa\",\"symbol\":\"circle\"},\"mode\":\"markers\",\"name\":\"0\",\"orientation\":\"v\",\"showlegend\":true,\"x\":[11.75772,11.551659,9.431217,7.891561,13.142989,12.480167,4.545026,11.302493,12.560315,12.334378,9.274662,12.873888,9.447647,11.808304,7.920234,8.2599,7.6571283,8.054385,4.5423093,10.9579935,9.30651,11.231697,8.149879,7.1793766,12.0736265,8.469041,11.372476,8.723751,12.109998,7.072903,12.66495,12.94603,8.550737,11.61638,12.645855,9.358674,13.002809,11.4695215,11.687169,8.801745,9.438099,12.133171,7.913356,12.812265,11.304903,8.576981,8.197981,8.941842,12.805973,12.851867,12.457046,12.020084,8.004594,9.51074,9.685446,11.182191,10.834623,5.18644,9.938939,9.036316,11.316801,11.453873,9.2918825,12.788864,10.969319,8.153087,12.596414,4.556367,9.717535,11.378585,11.586881,11.357295,12.920597,11.560465,11.936569,8.861253,10.71579,4.0584884,11.688325,9.282138,10.878888,11.148213,10.910734,8.108947,13.091391,11.28099,8.40362,11.977635,10.901369,8.212366,13.636089,8.360481,9.127422,11.827208,10.707509,12.52234,8.857059,8.560379,12.677659,11.302183,8.529383,8.684459,8.491648,9.768525,6.8804398,7.558988,10.794912,9.386696,11.628144,8.762093,9.09508,13.223581,9.831721,11.324463,8.85453,11.165413,11.182625,11.272034,7.4849086,11.757157,9.683126,11.491536,9.702836,12.3863125,9.210604,8.809556,9.308629,12.566798,11.085649,9.991674,8.100211,9.089248,7.985894,12.884242,8.224896,8.264827,9.285199,11.798755,10.641833,12.672171,7.9995584,8.922022,8.675771,4.514789,12.428185,13.252534,8.490947,8.607661,9.443399,8.626128,8.093393,9.281814,11.944363,10.670923,8.767712,10.868751,12.915653,12.414616,8.394997,12.944964,8.39049,11.067102,11.371929,13.000596,9.128916,11.456111,8.99302,8.932849,7.985213,12.061201,8.677999,8.523339,11.804531,9.879459,11.466752,12.674491,11.356896,8.171012,12.830937,8.085241,11.197753,11.34736,8.53009,12.606853,7.145209,9.705086,9.288326,12.251926,9.386812,9.205785,12.891899,8.673332,8.947871,11.659095,12.283241,12.305979,12.62588,8.503011,12.849543,9.608297,11.587708,4.6915545,8.5945,8.158202,9.585401,10.682362,12.752641,11.978706,13.061311,9.830494,8.594823,12.610634,8.384819,9.413472,9.512643,8.585494,8.655977,7.360416,11.105874,8.511211,11.115731,11.616922,6.939804,12.233633,7.959542,8.940877,13.214996,12.745166,13.014697,8.117459,8.003649,9.541658,8.846955,9.2801895,12.870045,12.738101,11.051101,12.660568,12.866319,12.946601,8.307214,11.173445,12.345901,9.274097,11.547369,10.882787,9.335255,13.604872,11.799304,11.911894,5.249785,11.970179,10.758654,12.2400875,13.647982,9.093586,13.075936,11.079881,11.754559,9.200673,12.978007,11.5698805,11.080128,8.817303,13.53216,9.014939,12.098393,10.753055,8.750266,10.92812,9.20136,9.705179,12.533278,11.468276,7.0600853,11.281575,7.102197,12.681127,12.725429,7.0333557,12.660965,11.635106,11.9974985,8.412305,8.26237,11.527136,8.632631,12.402035,5.188547,8.38939,9.299165,10.921442,6.781496,12.467869,7.035148,8.816373,10.9752245,12.688203,8.253546,12.727536,13.051793,12.764238,7.446442,10.789484,11.606118,8.76271,8.320517,11.572802,8.311738,12.933545,9.680281,8.766806,8.259504,8.67076,12.0823965,8.530522,11.161035,9.818523,12.77779,12.336717,10.832025,8.5976095,9.661007,12.542819,11.157972,8.202731,11.877422,6.626895,12.98775,7.924659,11.858171,12.814546,9.753085,12.418599,9.430407,9.348203,11.340586,13.020933,10.918267,12.6081,11.316414,12.937514,9.639218,8.923426,9.897423,11.0917,10.977686,11.0568285,12.409973,8.837474,8.48616,8.671842,8.373651,12.631079,9.716095,12.805805,5.195157,11.905192,11.361541,12.764974,11.712098,10.920599,12.161012,9.997208,12.385631,13.564409,9.961982,12.153593,6.837091,11.183123,10.57342,12.910313,11.179132,8.613547,7.1471295,12.977967,12.768853,7.672251,11.53955,12.844441,8.556795,9.373975,7.969772,8.109221,9.768935,12.695146,8.612113,8.18348,11.214729,8.968503,8.515103,9.726865,8.135219,11.572861,13.175096,12.154071,9.751622,13.170278,12.833431,11.577377,8.043714,9.795633,11.31705,10.88473],\"xaxis\":\"x\",\"y\":[6.9522696,11.17264,8.749529,2.211516,7.7698617,7.0189133,-1.6210415,6.843828,6.0944395,6.9863906,8.899348,5.9426584,8.75231,11.281154,10.856254,10.255841,2.1008062,2.2377498,-1.6444097,9.058813,8.863602,6.9640403,2.2985733,2.1714687,6.93582,5.16741,6.8817577,4.7464542,6.0102096,1.5798408,6.5048084,6.1229086,9.522629,5.377793,6.9798107,9.418036,6.179738,5.385014,5.413607,4.5772586,10.524996,6.550045,10.709082,6.5738716,11.481581,9.587955,2.3567448,9.376318,6.245999,7.0441594,6.8459024,6.0831532,2.1823308,10.453592,10.308154,6.7331595,11.820696,5.722504,10.817843,11.027188,6.8888516,5.379168,10.343435,5.3232203,11.855902,2.2906065,9.493193,-1.6297134,9.247855,5.3031063,6.3550334,11.362961,9.489896,11.140034,6.9061193,4.6780066,8.901384,-1.2777798,11.439725,8.95242,8.646258,7.200818,11.773131,11.057939,7.65102,11.180197,9.706027,6.3434525,11.838003,10.356988,7.6743517,9.944859,10.498499,7.100952,8.768592,6.290172,9.620133,10.871677,5.663729,11.443257,9.960282,4.6527085,10.914182,9.5629225,1.3016108,2.6420724,8.839254,10.598727,6.424468,4.890217,10.592706,7.014141,10.803902,11.352421,10.786692,7.155448,11.506133,6.8928127,2.2035382,11.25413,10.32079,11.522293,9.699602,6.762626,9.290776,10.125357,8.858248,5.597037,8.621826,9.537022,2.349086,9.208161,2.1795907,5.710212,9.775302,10.408066,8.997594,11.312192,8.967147,9.663556,10.911254,10.698808,10.748778,-1.6715517,5.8618927,8.401987,10.532824,4.9860067,10.616198,9.75184,2.2465334,8.82608,6.5278397,9.0405035,4.5864906,11.04888,6.338556,9.844434,10.10778,7.7963386,9.641691,11.246047,11.399092,9.530835,9.355256,5.4083576,9.130014,9.429037,10.864079,6.3837814,4.6430416,9.634419,6.5229845,10.799168,11.677177,9.650871,5.690727,11.031898,6.2680736,2.2364995,11.023856,11.39183,5.0587077,6.69971,1.7119898,9.26019,9.682005,6.0125113,10.008731,10.225528,9.431444,4.6422853,10.940303,6.362769,6.6807194,6.9126244,9.67665,5.0931125,9.409345,10.156239,11.258924,-1.5101918,11.035998,11.112502,9.491584,9.066878,7.5674486,6.981235,9.425667,9.745554,10.481061,6.6372375,9.637799,9.881991,8.8325615,10.273169,4.9252863,2.4351974,7.242771,9.599485,7.2018375,11.689991,2.0297558,5.9701195,2.1761937,9.962553,7.035147,5.196966,9.469904,10.449582,10.769219,10.095701,10.762748,10.57342,6.126596,5.894912,11.800884,6.579462,9.4500065,9.443968,9.6203785,6.9714866,7.659053,9.545491,5.4069533,8.609175,9.451249,7.8509545,6.4989724,6.4731903,5.7204056,6.5370607,8.948526,6.628415,7.9726577,10.936788,5.923508,9.057329,7.0066133,10.734485,7.686923,11.672784,10.977269,4.5996532,7.551256,9.327238,7.0198364,11.875808,10.254281,8.693323,9.329682,10.670443,5.196576,11.439218,1.3518994,6.8362923,2.0863142,6.65441,5.1907053,2.0031395,5.2750287,6.302962,6.6460733,10.694917,10.920843,5.381802,4.8585286,5.7673926,5.681284,10.909535,10.551209,11.866261,1.5191714,7.135621,2.092856,10.2278185,8.694007,5.2477746,10.231872,9.401835,7.755095,5.1974077,2.3962953,8.965415,11.130595,4.59829,10.738648,6.423372,10.212565,5.6534667,10.719879,10.594647,9.692783,4.6338058,6.4577465,5.0092506,7.092378,9.400827,5.5302577,6.3221626,11.825239,4.5639687,9.232354,5.8343787,8.788462,11.173711,6.5718274,1.3066772,5.6598883,2.1948056,6.14137,6.553158,9.672304,7.0588,10.6075945,11.005621,11.473753,7.7188315,11.8967905,9.708905,5.5550356,9.38848,10.484615,9.210011,10.74488,11.328912,8.478707,11.502523,5.858625,9.282275,4.633355,11.061461,4.872718,6.3450127,10.267964,9.408042,5.681846,7.005098,5.4984293,6.362973,11.224201,11.947528,6.956903,10.219622,9.621386,7.7784142,10.253296,6.0031266,1.7034388,8.919014,8.933546,5.8335347,7.0610867,10.330882,1.5756756,9.497982,5.4344783,2.1970942,11.66336,6.7334194,11.10041,10.370979,10.885891,2.2777402,10.900902,9.630037,10.812174,11.094198,8.918334,10.666133,5.174631,10.389347,2.263266,11.144133,6.0515885,5.969552,9.35986,7.713727,5.9474506,6.331772,2.1816537,10.524527,11.355046,11.916184],\"yaxis\":\"y\",\"type\":\"scatter\"},{\"hovertemplate\":\"groups=1\\u003cbr\\u003e0=%{x}\\u003cbr\\u003e1=%{y}\\u003cextra\\u003e\\u003c\\u002fextra\\u003e\",\"legendgroup\":\"1\",\"marker\":{\"color\":\"#EF553B\",\"symbol\":\"circle\"},\"mode\":\"markers\",\"name\":\"1\",\"orientation\":\"v\",\"showlegend\":true,\"x\":[4.122879,4.2685666,6.98883,7.513088,2.1324415,3.6155102,3.4428284,4.2805753,13.637592,4.0664754,4.490597,2.0836112,3.4114323,6.518602,3.490778,13.915405,2.9147208,3.8449035,2.2558696,12.617952,4.432217,13.480291,5.1141267,3.6090434,4.322721,3.7037425,3.8349328,3.4129436,3.4484508,3.7272582,13.767946,5.1938453,8.211099,4.5227985,4.4793367,5.0736866,4.3980603,13.759455,4.3168073,13.839753,2.169257,4.001011,13.789533,3.7237158,5.102391,4.8881507,13.66942,6.734183,5.203958,5.2004642,4.4593253,3.3749611,4.4526396,3.8975732,6.609975,2.5619347,4.758383,3.8914552,3.6521945,3.8085847,4.0088735,6.733297,5.127823,2.5201845,4.442187,13.9164715,4.2848616,5.1415606,2.1987567,3.3893588,2.6538668,2.746674,4.386521,8.196085,13.787191,4.442501,2.9137812,4.5227866,13.973829,3.6287189,4.411124,4.2956815,3.8852577,6.8577924,3.7579415,4.33075,4.420722,4.0239334,12.863358,4.2173967,4.429118,2.9254844,4.105784,6.649357,2.1570995,4.454914,5.1799626,13.450528,2.7029939,2.2682786,2.2922056,4.023476,3.6308684,4.379031,7.3489585,3.3775353,4.2814713,5.0897484,6.395448,4.411546,3.6562178,3.9546158,3.678449,3.4808874,13.945411,4.4047318,2.5570693,4.0543137,4.070505,3.9272387,3.3453743,3.698799,4.012562,3.67885,6.877734,3.7918336,3.6424277,4.4269004,4.978125,4.042358,3.97566,4.301706,3.650344,6.437572,5.1201434,4.1883564,3.7003853,6.5577087,6.698994,3.4487834,3.9990494,13.858265,4.011151,3.9797328,13.797721,5.2461247,3.4535742,3.6404731,4.4122906,13.871487,4.925416,2.0999794,3.6043372,5.17602,4.388663,3.945713,3.0903704,13.870365,4.5322223,13.653746,4.4588757,4.3874216,6.652538,3.4396274,3.606151,5.0126796,3.4311848,6.6462474,13.674099,6.7254686,4.2032013,6.6951103,4.2513866,2.8598242,4.361927,6.7347517,4.4211,3.935229,4.4610486,13.97796,3.9564605,6.770319,3.5386744,4.4619684,4.191938,3.678372,4.5451593,4.03483,2.6494622,3.9453456,2.8417995,4.213123,3.390888,4.53839,3.5388727,4.3297777,4.2781134,3.9639616,5.214812,3.805242,6.5729246,2.1482077,6.765044,4.4898505,4.289225,3.981734,4.519734,6.8233633,8.929197,13.83033,3.9410834,3.6940854,5.0096536,4.3710494,4.1251802,2.2838554,3.9300575,5.203416,2.6814132],\"xaxis\":\"x\",\"y\":[7.005087,8.08924,2.1305282,2.0263057,8.535627,5.9255643,10.145888,-1.7177955,7.1249685,7.30811,8.291218,8.484438,10.182262,2.2836127,10.244124,7.757928,8.395395,-1.7679824,8.414405,6.891713,5.5319505,7.076821,5.713438,5.875757,5.628826,-2.0366745,-1.563494,10.407511,10.17734,7.8929644,7.858604,8.576012,11.147413,8.228593,5.831323,5.5277104,5.5164347,7.160392,-1.6283145,7.319639,8.497978,-1.7055055,8.259857,5.949489,8.704936,5.8006334,7.109281,1.5701265,8.548728,8.676115,8.43636,10.43852,5.810329,5.958384,1.466982,8.417579,6.391991,-0.97087777,-2.0672092,-2.1287324,-1.8375636,1.3640238,8.734023,8.429927,7.2092924,7.784664,-1.635531,5.9397645,8.416317,10.201793,8.389304,8.38955,8.50199,10.305163,7.180684,7.5814986,8.40964,7.968525,7.8886857,-1.7427206,7.8212204,7.21278,6.161741,1.3349347,-1.6281806,-1.7016875,7.938743,6.440385,5.620915,7.971042,5.911364,8.264841,7.2106357,2.1505935,8.503533,7.963239,5.8494678,7.0395994,8.359743,8.391309,8.499598,-1.3142084,5.9000773,6.578813,2.0387707,10.224163,-1.6946753,5.605084,2.3936143,7.806839,6.09506,5.896812,5.9977417,-1.7715157,7.8488016,7.6095834,8.421739,7.284276,6.438552,7.3876057,10.465257,-1.7950162,-1.965306,6.0209055,1.307832,6.1505303,-2.0692606,8.349168,5.590989,-1.7112004,-1.8652418,7.9741807,-1.695556,2.3690922,5.5827227,-1.7891841,-2.0199606,2.2622736,1.2674809,10.166151,6.365848,7.6686044,6.767508,5.911461,7.8751826,8.574825,10.382133,10.040566,5.5130095,7.2946525,5.5322604,8.513971,5.9259133,8.723624,7.8490486,-1.098925,8.335372,7.8200274,5.522418,7.131325,5.567494,5.5650115,2.2230732,10.352851,-2.08607,5.481522,10.3386135,1.2457467,7.04297,1.3959988,7.9319057,1.3181927,7.1415687,8.343049,5.58729,1.218592,8.37611,6.1999335,5.592121,7.8767915,6.603623,1.3691944,8.545744,7.9883175,-1.7444437,-2.070347,8.071665,-1.3116496,8.384401,6.367254,8.3940525,7.7754445,10.3559,8.392508,-1.9501107,5.6108475,7.264768,7.3980656,8.5524025,-2.0395772,2.2561696,8.476403,1.3306986,8.306365,8.3241625,6.4535966,8.25188,2.0568504,9.130882,7.779998,-1.3503894,-2.1088238,5.560635,-1.6573526,5.833049,8.392586,-1.0423988,8.676332,8.365681],\"yaxis\":\"y\",\"type\":\"scatter\"}],                        {\"template\":{\"data\":{\"histogram2dcontour\":[{\"type\":\"histogram2dcontour\",\"colorbar\":{\"outlinewidth\":0,\"ticks\":\"\"},\"colorscale\":[[0.0,\"#0d0887\"],[0.1111111111111111,\"#46039f\"],[0.2222222222222222,\"#7201a8\"],[0.3333333333333333,\"#9c179e\"],[0.4444444444444444,\"#bd3786\"],[0.5555555555555556,\"#d8576b\"],[0.6666666666666666,\"#ed7953\"],[0.7777777777777778,\"#fb9f3a\"],[0.8888888888888888,\"#fdca26\"],[1.0,\"#f0f921\"]]}],\"choropleth\":[{\"type\":\"choropleth\",\"colorbar\":{\"outlinewidth\":0,\"ticks\":\"\"}}],\"histogram2d\":[{\"type\":\"histogram2d\",\"colorbar\":{\"outlinewidth\":0,\"ticks\":\"\"},\"colorscale\":[[0.0,\"#0d0887\"],[0.1111111111111111,\"#46039f\"],[0.2222222222222222,\"#7201a8\"],[0.3333333333333333,\"#9c179e\"],[0.4444444444444444,\"#bd3786\"],[0.5555555555555556,\"#d8576b\"],[0.6666666666666666,\"#ed7953\"],[0.7777777777777778,\"#fb9f3a\"],[0.8888888888888888,\"#fdca26\"],[1.0,\"#f0f921\"]]}],\"heatmap\":[{\"type\":\"heatmap\",\"colorbar\":{\"outlinewidth\":0,\"ticks\":\"\"},\"colorscale\":[[0.0,\"#0d0887\"],[0.1111111111111111,\"#46039f\"],[0.2222222222222222,\"#7201a8\"],[0.3333333333333333,\"#9c179e\"],[0.4444444444444444,\"#bd3786\"],[0.5555555555555556,\"#d8576b\"],[0.6666666666666666,\"#ed7953\"],[0.7777777777777778,\"#fb9f3a\"],[0.8888888888888888,\"#fdca26\"],[1.0,\"#f0f921\"]]}],\"heatmapgl\":[{\"type\":\"heatmapgl\",\"colorbar\":{\"outlinewidth\":0,\"ticks\":\"\"},\"colorscale\":[[0.0,\"#0d0887\"],[0.1111111111111111,\"#46039f\"],[0.2222222222222222,\"#7201a8\"],[0.3333333333333333,\"#9c179e\"],[0.4444444444444444,\"#bd3786\"],[0.5555555555555556,\"#d8576b\"],[0.6666666666666666,\"#ed7953\"],[0.7777777777777778,\"#fb9f3a\"],[0.8888888888888888,\"#fdca26\"],[1.0,\"#f0f921\"]]}],\"contourcarpet\":[{\"type\":\"contourcarpet\",\"colorbar\":{\"outlinewidth\":0,\"ticks\":\"\"}}],\"contour\":[{\"type\":\"contour\",\"colorbar\":{\"outlinewidth\":0,\"ticks\":\"\"},\"colorscale\":[[0.0,\"#0d0887\"],[0.1111111111111111,\"#46039f\"],[0.2222222222222222,\"#7201a8\"],[0.3333333333333333,\"#9c179e\"],[0.4444444444444444,\"#bd3786\"],[0.5555555555555556,\"#d8576b\"],[0.6666666666666666,\"#ed7953\"],[0.7777777777777778,\"#fb9f3a\"],[0.8888888888888888,\"#fdca26\"],[1.0,\"#f0f921\"]]}],\"surface\":[{\"type\":\"surface\",\"colorbar\":{\"outlinewidth\":0,\"ticks\":\"\"},\"colorscale\":[[0.0,\"#0d0887\"],[0.1111111111111111,\"#46039f\"],[0.2222222222222222,\"#7201a8\"],[0.3333333333333333,\"#9c179e\"],[0.4444444444444444,\"#bd3786\"],[0.5555555555555556,\"#d8576b\"],[0.6666666666666666,\"#ed7953\"],[0.7777777777777778,\"#fb9f3a\"],[0.8888888888888888,\"#fdca26\"],[1.0,\"#f0f921\"]]}],\"mesh3d\":[{\"type\":\"mesh3d\",\"colorbar\":{\"outlinewidth\":0,\"ticks\":\"\"}}],\"scatter\":[{\"fillpattern\":{\"fillmode\":\"overlay\",\"size\":10,\"solidity\":0.2},\"type\":\"scatter\"}],\"parcoords\":[{\"type\":\"parcoords\",\"line\":{\"colorbar\":{\"outlinewidth\":0,\"ticks\":\"\"}}}],\"scatterpolargl\":[{\"type\":\"scatterpolargl\",\"marker\":{\"colorbar\":{\"outlinewidth\":0,\"ticks\":\"\"}}}],\"bar\":[{\"error_x\":{\"color\":\"#2a3f5f\"},\"error_y\":{\"color\":\"#2a3f5f\"},\"marker\":{\"line\":{\"color\":\"#E5ECF6\",\"width\":0.5},\"pattern\":{\"fillmode\":\"overlay\",\"size\":10,\"solidity\":0.2}},\"type\":\"bar\"}],\"scattergeo\":[{\"type\":\"scattergeo\",\"marker\":{\"colorbar\":{\"outlinewidth\":0,\"ticks\":\"\"}}}],\"scatterpolar\":[{\"type\":\"scatterpolar\",\"marker\":{\"colorbar\":{\"outlinewidth\":0,\"ticks\":\"\"}}}],\"histogram\":[{\"marker\":{\"pattern\":{\"fillmode\":\"overlay\",\"size\":10,\"solidity\":0.2}},\"type\":\"histogram\"}],\"scattergl\":[{\"type\":\"scattergl\",\"marker\":{\"colorbar\":{\"outlinewidth\":0,\"ticks\":\"\"}}}],\"scatter3d\":[{\"type\":\"scatter3d\",\"line\":{\"colorbar\":{\"outlinewidth\":0,\"ticks\":\"\"}},\"marker\":{\"colorbar\":{\"outlinewidth\":0,\"ticks\":\"\"}}}],\"scattermapbox\":[{\"type\":\"scattermapbox\",\"marker\":{\"colorbar\":{\"outlinewidth\":0,\"ticks\":\"\"}}}],\"scatterternary\":[{\"type\":\"scatterternary\",\"marker\":{\"colorbar\":{\"outlinewidth\":0,\"ticks\":\"\"}}}],\"scattercarpet\":[{\"type\":\"scattercarpet\",\"marker\":{\"colorbar\":{\"outlinewidth\":0,\"ticks\":\"\"}}}],\"carpet\":[{\"aaxis\":{\"endlinecolor\":\"#2a3f5f\",\"gridcolor\":\"white\",\"linecolor\":\"white\",\"minorgridcolor\":\"white\",\"startlinecolor\":\"#2a3f5f\"},\"baxis\":{\"endlinecolor\":\"#2a3f5f\",\"gridcolor\":\"white\",\"linecolor\":\"white\",\"minorgridcolor\":\"white\",\"startlinecolor\":\"#2a3f5f\"},\"type\":\"carpet\"}],\"table\":[{\"cells\":{\"fill\":{\"color\":\"#EBF0F8\"},\"line\":{\"color\":\"white\"}},\"header\":{\"fill\":{\"color\":\"#C8D4E3\"},\"line\":{\"color\":\"white\"}},\"type\":\"table\"}],\"barpolar\":[{\"marker\":{\"line\":{\"color\":\"#E5ECF6\",\"width\":0.5},\"pattern\":{\"fillmode\":\"overlay\",\"size\":10,\"solidity\":0.2}},\"type\":\"barpolar\"}],\"pie\":[{\"automargin\":true,\"type\":\"pie\"}]},\"layout\":{\"autotypenumbers\":\"strict\",\"colorway\":[\"#636efa\",\"#EF553B\",\"#00cc96\",\"#ab63fa\",\"#FFA15A\",\"#19d3f3\",\"#FF6692\",\"#B6E880\",\"#FF97FF\",\"#FECB52\"],\"font\":{\"color\":\"#2a3f5f\"},\"hovermode\":\"closest\",\"hoverlabel\":{\"align\":\"left\"},\"paper_bgcolor\":\"white\",\"plot_bgcolor\":\"#E5ECF6\",\"polar\":{\"bgcolor\":\"#E5ECF6\",\"angularaxis\":{\"gridcolor\":\"white\",\"linecolor\":\"white\",\"ticks\":\"\"},\"radialaxis\":{\"gridcolor\":\"white\",\"linecolor\":\"white\",\"ticks\":\"\"}},\"ternary\":{\"bgcolor\":\"#E5ECF6\",\"aaxis\":{\"gridcolor\":\"white\",\"linecolor\":\"white\",\"ticks\":\"\"},\"baxis\":{\"gridcolor\":\"white\",\"linecolor\":\"white\",\"ticks\":\"\"},\"caxis\":{\"gridcolor\":\"white\",\"linecolor\":\"white\",\"ticks\":\"\"}},\"coloraxis\":{\"colorbar\":{\"outlinewidth\":0,\"ticks\":\"\"}},\"colorscale\":{\"sequential\":[[0.0,\"#0d0887\"],[0.1111111111111111,\"#46039f\"],[0.2222222222222222,\"#7201a8\"],[0.3333333333333333,\"#9c179e\"],[0.4444444444444444,\"#bd3786\"],[0.5555555555555556,\"#d8576b\"],[0.6666666666666666,\"#ed7953\"],[0.7777777777777778,\"#fb9f3a\"],[0.8888888888888888,\"#fdca26\"],[1.0,\"#f0f921\"]],\"sequentialminus\":[[0.0,\"#0d0887\"],[0.1111111111111111,\"#46039f\"],[0.2222222222222222,\"#7201a8\"],[0.3333333333333333,\"#9c179e\"],[0.4444444444444444,\"#bd3786\"],[0.5555555555555556,\"#d8576b\"],[0.6666666666666666,\"#ed7953\"],[0.7777777777777778,\"#fb9f3a\"],[0.8888888888888888,\"#fdca26\"],[1.0,\"#f0f921\"]],\"diverging\":[[0,\"#8e0152\"],[0.1,\"#c51b7d\"],[0.2,\"#de77ae\"],[0.3,\"#f1b6da\"],[0.4,\"#fde0ef\"],[0.5,\"#f7f7f7\"],[0.6,\"#e6f5d0\"],[0.7,\"#b8e186\"],[0.8,\"#7fbc41\"],[0.9,\"#4d9221\"],[1,\"#276419\"]]},\"xaxis\":{\"gridcolor\":\"white\",\"linecolor\":\"white\",\"ticks\":\"\",\"title\":{\"standoff\":15},\"zerolinecolor\":\"white\",\"automargin\":true,\"zerolinewidth\":2},\"yaxis\":{\"gridcolor\":\"white\",\"linecolor\":\"white\",\"ticks\":\"\",\"title\":{\"standoff\":15},\"zerolinecolor\":\"white\",\"automargin\":true,\"zerolinewidth\":2},\"scene\":{\"xaxis\":{\"backgroundcolor\":\"#E5ECF6\",\"gridcolor\":\"white\",\"linecolor\":\"white\",\"showbackground\":true,\"ticks\":\"\",\"zerolinecolor\":\"white\",\"gridwidth\":2},\"yaxis\":{\"backgroundcolor\":\"#E5ECF6\",\"gridcolor\":\"white\",\"linecolor\":\"white\",\"showbackground\":true,\"ticks\":\"\",\"zerolinecolor\":\"white\",\"gridwidth\":2},\"zaxis\":{\"backgroundcolor\":\"#E5ECF6\",\"gridcolor\":\"white\",\"linecolor\":\"white\",\"showbackground\":true,\"ticks\":\"\",\"zerolinecolor\":\"white\",\"gridwidth\":2}},\"shapedefaults\":{\"line\":{\"color\":\"#2a3f5f\"}},\"annotationdefaults\":{\"arrowcolor\":\"#2a3f5f\",\"arrowhead\":0,\"arrowwidth\":1},\"geo\":{\"bgcolor\":\"white\",\"landcolor\":\"#E5ECF6\",\"subunitcolor\":\"white\",\"showland\":true,\"showlakes\":true,\"lakecolor\":\"white\"},\"title\":{\"x\":0.05},\"mapbox\":{\"style\":\"light\"}}},\"xaxis\":{\"anchor\":\"y\",\"domain\":[0.0,1.0],\"title\":{\"text\":\"0\"}},\"yaxis\":{\"anchor\":\"x\",\"domain\":[0.0,1.0],\"title\":{\"text\":\"1\"}},\"legend\":{\"title\":{\"text\":\"groups\"},\"tracegroupgap\":0},\"margin\":{\"t\":60}},                        {\"responsive\": true}                    ).then(function(){\n",
       "                            \n",
       "var gd = document.getElementById('26109512-4f94-4e1e-9f5f-778286e8b5a2');\n",
       "var x = new MutationObserver(function (mutations, observer) {{\n",
       "        var display = window.getComputedStyle(gd).display;\n",
       "        if (!display || display === 'none') {{\n",
       "            console.log([gd, 'removed!']);\n",
       "            Plotly.purge(gd);\n",
       "            observer.disconnect();\n",
       "        }}\n",
       "}});\n",
       "\n",
       "// Listen for the removal of the full notebook cells\n",
       "var notebookContainer = gd.closest('#notebook-container');\n",
       "if (notebookContainer) {{\n",
       "    x.observe(notebookContainer, {childList: true});\n",
       "}}\n",
       "\n",
       "// Listen for the clearing of the current output cell\n",
       "var outputEl = gd.closest('.output');\n",
       "if (outputEl) {{\n",
       "    x.observe(outputEl, {childList: true});\n",
       "}}\n",
       "\n",
       "                        })                };                });            </script>        </div>"
      ]
     },
     "metadata": {},
     "output_type": "display_data"
    }
   ],
   "source": [
    "model_train.plot_umap(n_clusters=2)"
   ]
  },
  {
   "cell_type": "code",
   "execution_count": 13,
   "metadata": {},
   "outputs": [
    {
     "name": "stdout",
     "output_type": "stream",
     "text": [
      "No of Images:  196\n"
     ]
    },
    {
     "data": {
      "image/png": "[encoded data removed]",
      "text/plain": [
       "<Figure size 640x480 with 1 Axes>"
      ]
     },
     "metadata": {},
     "output_type": "display_data"
    }
   ],
   "source": [
    "model_test.plot_elbow(k_range=(1, 10))"
   ]
  },
  {
   "cell_type": "code",
   "execution_count": 18,
   "metadata": {},
   "outputs": [
    {
     "data": {
      "application/vnd.plotly.v1+json": {
       "config": {
        "plotlyServerURL": "https://plot.ly"
       },
       "data": [
        {
         "hovertemplate": "groups=5<br>0=%{x}<br>1=%{y}<extra></extra>",
         "legendgroup": "5",
         "marker": {
          "color": "#636efa",
          "symbol": "circle"
         },
         "mode": "markers",
         "name": "5",
         "orientation": "v",
         "showlegend": true,
         "type": "scatter",
         "x": [
          -1.3907102,
          -1.2422655,
          -1.9398085,
          -1.6753697,
          -1.7971274,
          -2.1134994,
          -1.453259,
          -1.7941878,
          -1.2121778,
          -1.3053112,
          -1.2357243,
          -1.7689075,
          -1.6959468,
          -0.9443735,
          -1.6587822,
          -1.0940953,
          -1.5257603,
          -1.205481,
          -1.7754905,
          -1.6911405,
          -1.5520861,
          -0.87038326,
          -1.3939583,
          -1.7280014,
          -1.8467976,
          -2.1895494,
          -1.3238747,
          -1.7546275,
          -0.8775688,
          -1.245989,
          -2.187148,
          -1.4256344,
          -1.5542423,
          -0.93246776,
          -1.3086205,
          -1.3296322,
          -0.5966649,
          -2.2884614,
          -1.4917926,
          -1.7342315,
          -1.3532976,
          -1.6640974,
          -1.903773,
          -1.9405423,
          -1.8373024,
          -1.2481918,
          -1.8741702,
          -1.1421703,
          -1.0338547,
          -1.8340565,
          -0.85946393,
          -1.474625,
          -1.9989183,
          -1.6087344,
          -2.1043885
         ],
         "xaxis": "x",
         "y": [
          3.0019047,
          3.1437557,
          3.718775,
          2.9285028,
          2.7637432,
          3.6397176,
          3.4555552,
          5.7853584,
          3.4863412,
          5.2911816,
          3.1104724,
          3.3480651,
          4.840086,
          3.1264117,
          3.2137213,
          3.555065,
          3.4715037,
          4.2577796,
          5.9433064,
          5.9676905,
          5.160488,
          4.0106235,
          5.253114,
          5.917698,
          2.800585,
          3.0617306,
          4.180774,
          4.0142784,
          5.7143683,
          3.9804857,
          5.515136,
          3.3070602,
          4.145876,
          3.2181153,
          5.621589,
          5.481069,
          5.694491,
          3.2768364,
          3.7627203,
          3.5826654,
          3.193653,
          5.902149,
          5.415545,
          2.8230453,
          5.461271,
          4.205486,
          3.6818905,
          4.8305073,
          3.8445954,
          4.1199465,
          3.3683665,
          3.0627277,
          5.53371,
          5.8473816,
          5.6000786
         ],
         "yaxis": "y"
        },
        {
         "hovertemplate": "groups=4<br>0=%{x}<br>1=%{y}<extra></extra>",
         "legendgroup": "4",
         "marker": {
          "color": "#EF553B",
          "symbol": "circle"
         },
         "mode": "markers",
         "name": "4",
         "orientation": "v",
         "showlegend": true,
         "type": "scatter",
         "x": [
          3.7609956,
          2.3963454,
          4.546061,
          2.6616411,
          2.6731167,
          3.6091187,
          2.5051868,
          4.551688,
          3.958477,
          4.445221,
          3.335993,
          2.892544,
          4.0179725,
          4.5358887,
          2.7204494,
          3.2939327,
          2.809203,
          2.9345567,
          4.2305746,
          2.476364,
          2.7101696,
          2.5811327,
          2.871967,
          2.75879,
          3.139486,
          2.3202965,
          2.4433036,
          2.8555665,
          3.2482138,
          4.57435,
          2.6584666,
          3.1101935,
          4.590078,
          3.2026277,
          2.7432227,
          3.0130649,
          2.640442,
          3.2271862,
          2.97731
         ],
         "xaxis": "x",
         "y": [
          3.1941762,
          3.742929,
          3.0554032,
          2.718596,
          3.4575088,
          3.0931375,
          3.5177078,
          3.085908,
          3.174962,
          3.1441457,
          2.946317,
          2.4234965,
          3.1967752,
          3.0552745,
          3.4990017,
          3.5972905,
          2.5076127,
          2.4833894,
          3.237968,
          2.7167556,
          2.3818538,
          2.7382393,
          3.7059636,
          2.6893191,
          2.7068803,
          2.7163048,
          2.7730377,
          3.7509377,
          3.8267043,
          3.1080394,
          3.428469,
          2.551182,
          3.1409268,
          2.5841188,
          3.4389412,
          3.7431235,
          2.840862,
          3.693758,
          3.5694656
         ],
         "yaxis": "y"
        },
        {
         "hovertemplate": "groups=2<br>0=%{x}<br>1=%{y}<extra></extra>",
         "legendgroup": "2",
         "marker": {
          "color": "#00cc96",
          "symbol": "circle"
         },
         "mode": "markers",
         "name": "2",
         "orientation": "v",
         "showlegend": true,
         "type": "scatter",
         "x": [
          0.59974563,
          -0.13714333,
          -0.14542377,
          0.5998658,
          0.52347016,
          0.8412317,
          0.40333346,
          0.8977952,
          1.2631077,
          -0.59085554,
          -0.58065975,
          0.3042414,
          -0.40016672,
          0.71687144,
          0.2723115,
          0.95073247,
          -0.055971157,
          0.40801632,
          0.41857198,
          -0.67594725,
          0.16235039,
          -0.2685927,
          -0.37285784,
          0.3097693,
          0.703158,
          0.5209171,
          1.0262908,
          0.63445437,
          -0.02709765,
          0.5406839,
          -0.48087698,
          -0.68535817,
          0.3397884,
          0.68513143,
          -0.43540668,
          1.1157883,
          0.71241933
         ],
         "xaxis": "x",
         "y": [
          3.668482,
          5.941314,
          5.5184326,
          5.6658025,
          3.5414798,
          5.5859776,
          5.1970067,
          3.7880828,
          3.847522,
          5.0488276,
          5.910857,
          5.017733,
          5.1594415,
          5.6671576,
          5.0115542,
          5.515567,
          5.3295894,
          5.5634265,
          4.830011,
          5.9310255,
          4.851054,
          5.475011,
          5.149431,
          5.088985,
          3.4668064,
          3.9970896,
          5.531878,
          3.4037929,
          5.860814,
          5.7265673,
          4.9848523,
          5.5026455,
          4.0033937,
          3.429614,
          5.960802,
          5.575994,
          3.904571
         ],
         "yaxis": "y"
        },
        {
         "hovertemplate": "groups=1<br>0=%{x}<br>1=%{y}<extra></extra>",
         "legendgroup": "1",
         "marker": {
          "color": "#ab63fa",
          "symbol": "circle"
         },
         "mode": "markers",
         "name": "1",
         "orientation": "v",
         "showlegend": true,
         "type": "scatter",
         "x": [
          -7.8766184,
          -7.7493715,
          -7.8105145,
          -8.3799305,
          -7.667065,
          -7.951043,
          -8.283297,
          -7.6218967,
          -8.425625,
          -7.6804233,
          -7.670916,
          -7.9348865,
          -7.847462,
          -7.76714,
          -7.53178,
          -7.738228,
          -8.427024,
          -7.6707497,
          -7.8377686,
          -7.6910267,
          -8.324082,
          -8.234727,
          -7.549296
         ],
         "xaxis": "x",
         "y": [
          2.5750017,
          3.6016996,
          2.2372031,
          3.6757662,
          3.5170882,
          3.480997,
          3.5075214,
          2.2836444,
          3.6469848,
          3.628319,
          2.412444,
          3.5578637,
          3.480924,
          3.4393914,
          2.4154148,
          2.3093662,
          3.6207933,
          2.230237,
          2.4194605,
          3.3335745,
          3.5295897,
          3.464915,
          2.3418636
         ],
         "yaxis": "y"
        },
        {
         "hovertemplate": "groups=3<br>0=%{x}<br>1=%{y}<extra></extra>",
         "legendgroup": "3",
         "marker": {
          "color": "#FFA15A",
          "symbol": "circle"
         },
         "mode": "markers",
         "name": "3",
         "orientation": "v",
         "showlegend": true,
         "type": "scatter",
         "x": [
          5.5122013,
          6.0145135,
          5.3798018,
          5.1777043,
          6.514721,
          6.3891377,
          5.7080684,
          5.5875106,
          6.569432,
          5.3105717,
          6.6267514,
          5.9576187,
          5.195537,
          5.295296,
          5.840387,
          -0.641785,
          5.556363,
          5.5279536,
          5.4455094,
          6.0880604,
          5.5898447,
          6.0149884,
          5.9217167,
          5.5086145,
          5.7010856,
          5.706502,
          6.2464895,
          5.2648716,
          6.567875,
          5.924836,
          5.9493155,
          6.1474586
         ],
         "xaxis": "x",
         "y": [
          8.199112,
          7.899,
          8.522662,
          8.564382,
          8.558269,
          8.209387,
          8.2425375,
          8.161615,
          8.3592415,
          8.267129,
          8.412272,
          8.751247,
          8.487132,
          8.323186,
          7.6975965,
          5.758055,
          8.867189,
          8.308161,
          8.4366665,
          7.9723673,
          8.161758,
          7.859998,
          7.743638,
          8.060715,
          7.6999197,
          8.621442,
          8.713291,
          8.441773,
          8.278424,
          8.817864,
          8.1426525,
          8.158396
         ],
         "yaxis": "y"
        },
        {
         "hovertemplate": "groups=0<br>0=%{x}<br>1=%{y}<extra></extra>",
         "legendgroup": "0",
         "marker": {
          "color": "#19d3f3",
          "symbol": "circle"
         },
         "mode": "markers",
         "name": "0",
         "orientation": "v",
         "showlegend": true,
         "type": "scatter",
         "x": [
          -6.990358,
          -7.243176,
          -7.1006,
          -7.495521,
          -7.1409407,
          -7.52017,
          -7.2047687,
          -7.1651454,
          -7.202822,
          -7.6680355
         ],
         "xaxis": "x",
         "y": [
          3.886291,
          3.6835947,
          3.7667866,
          2.612833,
          3.7788773,
          3.8061764,
          3.6950727,
          3.7046485,
          3.6621828,
          3.6823697
         ],
         "yaxis": "y"
        }
       ],
       "layout": {
        "legend": {
         "title": {
          "text": "groups"
         },
         "tracegroupgap": 0
        },
        "margin": {
         "t": 60
        },
        "template": {
         "data": {
          "bar": [
           {
            "error_x": {
             "color": "#2a3f5f"
            },
            "error_y": {
             "color": "#2a3f5f"
            },
            "marker": {
             "line": {
              "color": "#E5ECF6",
              "width": 0.5
             },
             "pattern": {
              "fillmode": "overlay",
              "size": 10,
              "solidity": 0.2
             }
            },
            "type": "bar"
           }
          ],
          "barpolar": [
           {
            "marker": {
             "line": {
              "color": "#E5ECF6",
              "width": 0.5
             },
             "pattern": {
              "fillmode": "overlay",
              "size": 10,
              "solidity": 0.2
             }
            },
            "type": "barpolar"
           }
          ],
          "carpet": [
           {
            "aaxis": {
             "endlinecolor": "#2a3f5f",
             "gridcolor": "white",
             "linecolor": "white",
             "minorgridcolor": "white",
             "startlinecolor": "#2a3f5f"
            },
            "baxis": {
             "endlinecolor": "#2a3f5f",
             "gridcolor": "white",
             "linecolor": "white",
             "minorgridcolor": "white",
             "startlinecolor": "#2a3f5f"
            },
            "type": "carpet"
           }
          ],
          "choropleth": [
           {
            "colorbar": {
             "outlinewidth": 0,
             "ticks": ""
            },
            "type": "choropleth"
           }
          ],
          "contour": [
           {
            "colorbar": {
             "outlinewidth": 0,
             "ticks": ""
            },
            "colorscale": [
             [
              0,
              "#0d0887"
             ],
             [
              0.1111111111111111,
              "#46039f"
             ],
             [
              0.2222222222222222,
              "#7201a8"
             ],
             [
              0.3333333333333333,
              "#9c179e"
             ],
             [
              0.4444444444444444,
              "#bd3786"
             ],
             [
              0.5555555555555556,
              "#d8576b"
             ],
             [
              0.6666666666666666,
              "#ed7953"
             ],
             [
              0.7777777777777778,
              "#fb9f3a"
             ],
             [
              0.8888888888888888,
              "#fdca26"
             ],
             [
              1,
              "#f0f921"
             ]
            ],
            "type": "contour"
           }
          ],
          "contourcarpet": [
           {
            "colorbar": {
             "outlinewidth": 0,
             "ticks": ""
            },
            "type": "contourcarpet"
           }
          ],
          "heatmap": [
           {
            "colorbar": {
             "outlinewidth": 0,
             "ticks": ""
            },
            "colorscale": [
             [
              0,
              "#0d0887"
             ],
             [
              0.1111111111111111,
              "#46039f"
             ],
             [
              0.2222222222222222,
              "#7201a8"
             ],
             [
              0.3333333333333333,
              "#9c179e"
             ],
             [
              0.4444444444444444,
              "#bd3786"
             ],
             [
              0.5555555555555556,
              "#d8576b"
             ],
             [
              0.6666666666666666,
              "#ed7953"
             ],
             [
              0.7777777777777778,
              "#fb9f3a"
             ],
             [
              0.8888888888888888,
              "#fdca26"
             ],
             [
              1,
              "#f0f921"
             ]
            ],
            "type": "heatmap"
           }
          ],
          "heatmapgl": [
           {
            "colorbar": {
             "outlinewidth": 0,
             "ticks": ""
            },
            "colorscale": [
             [
              0,
              "#0d0887"
             ],
             [
              0.1111111111111111,
              "#46039f"
             ],
             [
              0.2222222222222222,
              "#7201a8"
             ],
             [
              0.3333333333333333,
              "#9c179e"
             ],
             [
              0.4444444444444444,
              "#bd3786"
             ],
             [
              0.5555555555555556,
              "#d8576b"
             ],
             [
              0.6666666666666666,
              "#ed7953"
             ],
             [
              0.7777777777777778,
              "#fb9f3a"
             ],
             [
              0.8888888888888888,
              "#fdca26"
             ],
             [
              1,
              "#f0f921"
             ]
            ],
            "type": "heatmapgl"
           }
          ],
          "histogram": [
           {
            "marker": {
             "pattern": {
              "fillmode": "overlay",
              "size": 10,
              "solidity": 0.2
             }
            },
            "type": "histogram"
           }
          ],
          "histogram2d": [
           {
            "colorbar": {
             "outlinewidth": 0,
             "ticks": ""
            },
            "colorscale": [
             [
              0,
              "#0d0887"
             ],
             [
              0.1111111111111111,
              "#46039f"
             ],
             [
              0.2222222222222222,
              "#7201a8"
             ],
             [
              0.3333333333333333,
              "#9c179e"
             ],
             [
              0.4444444444444444,
              "#bd3786"
             ],
             [
              0.5555555555555556,
              "#d8576b"
             ],
             [
              0.6666666666666666,
              "#ed7953"
             ],
             [
              0.7777777777777778,
              "#fb9f3a"
             ],
             [
              0.8888888888888888,
              "#fdca26"
             ],
             [
              1,
              "#f0f921"
             ]
            ],
            "type": "histogram2d"
           }
          ],
          "histogram2dcontour": [
           {
            "colorbar": {
             "outlinewidth": 0,
             "ticks": ""
            },
            "colorscale": [
             [
              0,
              "#0d0887"
             ],
             [
              0.1111111111111111,
              "#46039f"
             ],
             [
              0.2222222222222222,
              "#7201a8"
             ],
             [
              0.3333333333333333,
              "#9c179e"
             ],
             [
              0.4444444444444444,
              "#bd3786"
             ],
             [
              0.5555555555555556,
              "#d8576b"
             ],
             [
              0.6666666666666666,
              "#ed7953"
             ],
             [
              0.7777777777777778,
              "#fb9f3a"
             ],
             [
              0.8888888888888888,
              "#fdca26"
             ],
             [
              1,
              "#f0f921"
             ]
            ],
            "type": "histogram2dcontour"
           }
          ],
          "mesh3d": [
           {
            "colorbar": {
             "outlinewidth": 0,
             "ticks": ""
            },
            "type": "mesh3d"
           }
          ],
          "parcoords": [
           {
            "line": {
             "colorbar": {
              "outlinewidth": 0,
              "ticks": ""
             }
            },
            "type": "parcoords"
           }
          ],
          "pie": [
           {
            "automargin": true,
            "type": "pie"
           }
          ],
          "scatter": [
           {
            "fillpattern": {
             "fillmode": "overlay",
             "size": 10,
             "solidity": 0.2
            },
            "type": "scatter"
           }
          ],
          "scatter3d": [
           {
            "line": {
             "colorbar": {
              "outlinewidth": 0,
              "ticks": ""
             }
            },
            "marker": {
             "colorbar": {
              "outlinewidth": 0,
              "ticks": ""
             }
            },
            "type": "scatter3d"
           }
          ],
          "scattercarpet": [
           {
            "marker": {
             "colorbar": {
              "outlinewidth": 0,
              "ticks": ""
             }
            },
            "type": "scattercarpet"
           }
          ],
          "scattergeo": [
           {
            "marker": {
             "colorbar": {
              "outlinewidth": 0,
              "ticks": ""
             }
            },
            "type": "scattergeo"
           }
          ],
          "scattergl": [
           {
            "marker": {
             "colorbar": {
              "outlinewidth": 0,
              "ticks": ""
             }
            },
            "type": "scattergl"
           }
          ],
          "scattermapbox": [
           {
            "marker": {
             "colorbar": {
              "outlinewidth": 0,
              "ticks": ""
             }
            },
            "type": "scattermapbox"
           }
          ],
          "scatterpolar": [
           {
            "marker": {
             "colorbar": {
              "outlinewidth": 0,
              "ticks": ""
             }
            },
            "type": "scatterpolar"
           }
          ],
          "scatterpolargl": [
           {
            "marker": {
             "colorbar": {
              "outlinewidth": 0,
              "ticks": ""
             }
            },
            "type": "scatterpolargl"
           }
          ],
          "scatterternary": [
           {
            "marker": {
             "colorbar": {
              "outlinewidth": 0,
              "ticks": ""
             }
            },
            "type": "scatterternary"
           }
          ],
          "surface": [
           {
            "colorbar": {
             "outlinewidth": 0,
             "ticks": ""
            },
            "colorscale": [
             [
              0,
              "#0d0887"
             ],
             [
              0.1111111111111111,
              "#46039f"
             ],
             [
              0.2222222222222222,
              "#7201a8"
             ],
             [
              0.3333333333333333,
              "#9c179e"
             ],
             [
              0.4444444444444444,
              "#bd3786"
             ],
             [
              0.5555555555555556,
              "#d8576b"
             ],
             [
              0.6666666666666666,
              "#ed7953"
             ],
             [
              0.7777777777777778,
              "#fb9f3a"
             ],
             [
              0.8888888888888888,
              "#fdca26"
             ],
             [
              1,
              "#f0f921"
             ]
            ],
            "type": "surface"
           }
          ],
          "table": [
           {
            "cells": {
             "fill": {
              "color": "#EBF0F8"
             },
             "line": {
              "color": "white"
             }
            },
            "header": {
             "fill": {
              "color": "#C8D4E3"
             },
             "line": {
              "color": "white"
             }
            },
            "type": "table"
           }
          ]
         },
         "layout": {
          "annotationdefaults": {
           "arrowcolor": "#2a3f5f",
           "arrowhead": 0,
           "arrowwidth": 1
          },
          "autotypenumbers": "strict",
          "coloraxis": {
           "colorbar": {
            "outlinewidth": 0,
            "ticks": ""
           }
          },
          "colorscale": {
           "diverging": [
            [
             0,
             "#8e0152"
            ],
            [
             0.1,
             "#c51b7d"
            ],
            [
             0.2,
             "#de77ae"
            ],
            [
             0.3,
             "#f1b6da"
            ],
            [
             0.4,
             "#fde0ef"
            ],
            [
             0.5,
             "#f7f7f7"
            ],
            [
             0.6,
             "#e6f5d0"
            ],
            [
             0.7,
             "#b8e186"
            ],
            [
             0.8,
             "#7fbc41"
            ],
            [
             0.9,
             "#4d9221"
            ],
            [
             1,
             "#276419"
            ]
           ],
           "sequential": [
            [
             0,
             "#0d0887"
            ],
            [
             0.1111111111111111,
             "#46039f"
            ],
            [
             0.2222222222222222,
             "#7201a8"
            ],
            [
             0.3333333333333333,
             "#9c179e"
            ],
            [
             0.4444444444444444,
             "#bd3786"
            ],
            [
             0.5555555555555556,
             "#d8576b"
            ],
            [
             0.6666666666666666,
             "#ed7953"
            ],
            [
             0.7777777777777778,
             "#fb9f3a"
            ],
            [
             0.8888888888888888,
             "#fdca26"
            ],
            [
             1,
             "#f0f921"
            ]
           ],
           "sequentialminus": [
            [
             0,
             "#0d0887"
            ],
            [
             0.1111111111111111,
             "#46039f"
            ],
            [
             0.2222222222222222,
             "#7201a8"
            ],
            [
             0.3333333333333333,
             "#9c179e"
            ],
            [
             0.4444444444444444,
             "#bd3786"
            ],
            [
             0.5555555555555556,
             "#d8576b"
            ],
            [
             0.6666666666666666,
             "#ed7953"
            ],
            [
             0.7777777777777778,
             "#fb9f3a"
            ],
            [
             0.8888888888888888,
             "#fdca26"
            ],
            [
             1,
             "#f0f921"
            ]
           ]
          },
          "colorway": [
           "#636efa",
           "#EF553B",
           "#00cc96",
           "#ab63fa",
           "#FFA15A",
           "#19d3f3",
           "#FF6692",
           "#B6E880",
           "#FF97FF",
           "#FECB52"
          ],
          "font": {
           "color": "#2a3f5f"
          },
          "geo": {
           "bgcolor": "white",
           "lakecolor": "white",
           "landcolor": "#E5ECF6",
           "showlakes": true,
           "showland": true,
           "subunitcolor": "white"
          },
          "hoverlabel": {
           "align": "left"
          },
          "hovermode": "closest",
          "mapbox": {
           "style": "light"
          },
          "paper_bgcolor": "white",
          "plot_bgcolor": "#E5ECF6",
          "polar": {
           "angularaxis": {
            "gridcolor": "white",
            "linecolor": "white",
            "ticks": ""
           },
           "bgcolor": "#E5ECF6",
           "radialaxis": {
            "gridcolor": "white",
            "linecolor": "white",
            "ticks": ""
           }
          },
          "scene": {
           "xaxis": {
            "backgroundcolor": "#E5ECF6",
            "gridcolor": "white",
            "gridwidth": 2,
            "linecolor": "white",
            "showbackground": true,
            "ticks": "",
            "zerolinecolor": "white"
           },
           "yaxis": {
            "backgroundcolor": "#E5ECF6",
            "gridcolor": "white",
            "gridwidth": 2,
            "linecolor": "white",
            "showbackground": true,
            "ticks": "",
            "zerolinecolor": "white"
           },
           "zaxis": {
            "backgroundcolor": "#E5ECF6",
            "gridcolor": "white",
            "gridwidth": 2,
            "linecolor": "white",
            "showbackground": true,
            "ticks": "",
            "zerolinecolor": "white"
           }
          },
          "shapedefaults": {
           "line": {
            "color": "#2a3f5f"
           }
          },
          "ternary": {
           "aaxis": {
            "gridcolor": "white",
            "linecolor": "white",
            "ticks": ""
           },
           "baxis": {
            "gridcolor": "white",
            "linecolor": "white",
            "ticks": ""
           },
           "bgcolor": "#E5ECF6",
           "caxis": {
            "gridcolor": "white",
            "linecolor": "white",
            "ticks": ""
           }
          },
          "title": {
           "x": 0.05
          },
          "xaxis": {
           "automargin": true,
           "gridcolor": "white",
           "linecolor": "white",
           "ticks": "",
           "title": {
            "standoff": 15
           },
           "zerolinecolor": "white",
           "zerolinewidth": 2
          },
          "yaxis": {
           "automargin": true,
           "gridcolor": "white",
           "linecolor": "white",
           "ticks": "",
           "title": {
            "standoff": 15
           },
           "zerolinecolor": "white",
           "zerolinewidth": 2
          }
         }
        },
        "xaxis": {
         "anchor": "y",
         "domain": [
          0,
          1
         ],
         "title": {
          "text": "0"
         }
        },
        "yaxis": {
         "anchor": "x",
         "domain": [
          0,
          1
         ],
         "title": {
          "text": "1"
         }
        }
       }
      },
      "text/html": [
       "<div>                            <div id=\"889132f4-fca2-496c-96f1-8bf20dea2fc6\" class=\"plotly-graph-div\" style=\"height:525px; width:100%;\"></div>            <script type=\"text/javascript\">                require([\"plotly\"], function(Plotly) {                    window.PLOTLYENV=window.PLOTLYENV || {};                                    if (document.getElementById(\"889132f4-fca2-496c-96f1-8bf20dea2fc6\")) {                    Plotly.newPlot(                        \"889132f4-fca2-496c-96f1-8bf20dea2fc6\",                        [{\"hovertemplate\":\"groups=5\\u003cbr\\u003e0=%{x}\\u003cbr\\u003e1=%{y}\\u003cextra\\u003e\\u003c\\u002fextra\\u003e\",\"legendgroup\":\"5\",\"marker\":{\"color\":\"#636efa\",\"symbol\":\"circle\"},\"mode\":\"markers\",\"name\":\"5\",\"orientation\":\"v\",\"showlegend\":true,\"x\":[-1.3907102,-1.2422655,-1.9398085,-1.6753697,-1.7971274,-2.1134994,-1.453259,-1.7941878,-1.2121778,-1.3053112,-1.2357243,-1.7689075,-1.6959468,-0.9443735,-1.6587822,-1.0940953,-1.5257603,-1.205481,-1.7754905,-1.6911405,-1.5520861,-0.87038326,-1.3939583,-1.7280014,-1.8467976,-2.1895494,-1.3238747,-1.7546275,-0.8775688,-1.245989,-2.187148,-1.4256344,-1.5542423,-0.93246776,-1.3086205,-1.3296322,-0.5966649,-2.2884614,-1.4917926,-1.7342315,-1.3532976,-1.6640974,-1.903773,-1.9405423,-1.8373024,-1.2481918,-1.8741702,-1.1421703,-1.0338547,-1.8340565,-0.85946393,-1.474625,-1.9989183,-1.6087344,-2.1043885],\"xaxis\":\"x\",\"y\":[3.0019047,3.1437557,3.718775,2.9285028,2.7637432,3.6397176,3.4555552,5.7853584,3.4863412,5.2911816,3.1104724,3.3480651,4.840086,3.1264117,3.2137213,3.555065,3.4715037,4.2577796,5.9433064,5.9676905,5.160488,4.0106235,5.253114,5.917698,2.800585,3.0617306,4.180774,4.0142784,5.7143683,3.9804857,5.515136,3.3070602,4.145876,3.2181153,5.621589,5.481069,5.694491,3.2768364,3.7627203,3.5826654,3.193653,5.902149,5.415545,2.8230453,5.461271,4.205486,3.6818905,4.8305073,3.8445954,4.1199465,3.3683665,3.0627277,5.53371,5.8473816,5.6000786],\"yaxis\":\"y\",\"type\":\"scatter\"},{\"hovertemplate\":\"groups=4\\u003cbr\\u003e0=%{x}\\u003cbr\\u003e1=%{y}\\u003cextra\\u003e\\u003c\\u002fextra\\u003e\",\"legendgroup\":\"4\",\"marker\":{\"color\":\"#EF553B\",\"symbol\":\"circle\"},\"mode\":\"markers\",\"name\":\"4\",\"orientation\":\"v\",\"showlegend\":true,\"x\":[3.7609956,2.3963454,4.546061,2.6616411,2.6731167,3.6091187,2.5051868,4.551688,3.958477,4.445221,3.335993,2.892544,4.0179725,4.5358887,2.7204494,3.2939327,2.809203,2.9345567,4.2305746,2.476364,2.7101696,2.5811327,2.871967,2.75879,3.139486,2.3202965,2.4433036,2.8555665,3.2482138,4.57435,2.6584666,3.1101935,4.590078,3.2026277,2.7432227,3.0130649,2.640442,3.2271862,2.97731],\"xaxis\":\"x\",\"y\":[3.1941762,3.742929,3.0554032,2.718596,3.4575088,3.0931375,3.5177078,3.085908,3.174962,3.1441457,2.946317,2.4234965,3.1967752,3.0552745,3.4990017,3.5972905,2.5076127,2.4833894,3.237968,2.7167556,2.3818538,2.7382393,3.7059636,2.6893191,2.7068803,2.7163048,2.7730377,3.7509377,3.8267043,3.1080394,3.428469,2.551182,3.1409268,2.5841188,3.4389412,3.7431235,2.840862,3.693758,3.5694656],\"yaxis\":\"y\",\"type\":\"scatter\"},{\"hovertemplate\":\"groups=2\\u003cbr\\u003e0=%{x}\\u003cbr\\u003e1=%{y}\\u003cextra\\u003e\\u003c\\u002fextra\\u003e\",\"legendgroup\":\"2\",\"marker\":{\"color\":\"#00cc96\",\"symbol\":\"circle\"},\"mode\":\"markers\",\"name\":\"2\",\"orientation\":\"v\",\"showlegend\":true,\"x\":[0.59974563,-0.13714333,-0.14542377,0.5998658,0.52347016,0.8412317,0.40333346,0.8977952,1.2631077,-0.59085554,-0.58065975,0.3042414,-0.40016672,0.71687144,0.2723115,0.95073247,-0.055971157,0.40801632,0.41857198,-0.67594725,0.16235039,-0.2685927,-0.37285784,0.3097693,0.703158,0.5209171,1.0262908,0.63445437,-0.02709765,0.5406839,-0.48087698,-0.68535817,0.3397884,0.68513143,-0.43540668,1.1157883,0.71241933],\"xaxis\":\"x\",\"y\":[3.668482,5.941314,5.5184326,5.6658025,3.5414798,5.5859776,5.1970067,3.7880828,3.847522,5.0488276,5.910857,5.017733,5.1594415,5.6671576,5.0115542,5.515567,5.3295894,5.5634265,4.830011,5.9310255,4.851054,5.475011,5.149431,5.088985,3.4668064,3.9970896,5.531878,3.4037929,5.860814,5.7265673,4.9848523,5.5026455,4.0033937,3.429614,5.960802,5.575994,3.904571],\"yaxis\":\"y\",\"type\":\"scatter\"},{\"hovertemplate\":\"groups=1\\u003cbr\\u003e0=%{x}\\u003cbr\\u003e1=%{y}\\u003cextra\\u003e\\u003c\\u002fextra\\u003e\",\"legendgroup\":\"1\",\"marker\":{\"color\":\"#ab63fa\",\"symbol\":\"circle\"},\"mode\":\"markers\",\"name\":\"1\",\"orientation\":\"v\",\"showlegend\":true,\"x\":[-7.8766184,-7.7493715,-7.8105145,-8.3799305,-7.667065,-7.951043,-8.283297,-7.6218967,-8.425625,-7.6804233,-7.670916,-7.9348865,-7.847462,-7.76714,-7.53178,-7.738228,-8.427024,-7.6707497,-7.8377686,-7.6910267,-8.324082,-8.234727,-7.549296],\"xaxis\":\"x\",\"y\":[2.5750017,3.6016996,2.2372031,3.6757662,3.5170882,3.480997,3.5075214,2.2836444,3.6469848,3.628319,2.412444,3.5578637,3.480924,3.4393914,2.4154148,2.3093662,3.6207933,2.230237,2.4194605,3.3335745,3.5295897,3.464915,2.3418636],\"yaxis\":\"y\",\"type\":\"scatter\"},{\"hovertemplate\":\"groups=3\\u003cbr\\u003e0=%{x}\\u003cbr\\u003e1=%{y}\\u003cextra\\u003e\\u003c\\u002fextra\\u003e\",\"legendgroup\":\"3\",\"marker\":{\"color\":\"#FFA15A\",\"symbol\":\"circle\"},\"mode\":\"markers\",\"name\":\"3\",\"orientation\":\"v\",\"showlegend\":true,\"x\":[5.5122013,6.0145135,5.3798018,5.1777043,6.514721,6.3891377,5.7080684,5.5875106,6.569432,5.3105717,6.6267514,5.9576187,5.195537,5.295296,5.840387,-0.641785,5.556363,5.5279536,5.4455094,6.0880604,5.5898447,6.0149884,5.9217167,5.5086145,5.7010856,5.706502,6.2464895,5.2648716,6.567875,5.924836,5.9493155,6.1474586],\"xaxis\":\"x\",\"y\":[8.199112,7.899,8.522662,8.564382,8.558269,8.209387,8.2425375,8.161615,8.3592415,8.267129,8.412272,8.751247,8.487132,8.323186,7.6975965,5.758055,8.867189,8.308161,8.4366665,7.9723673,8.161758,7.859998,7.743638,8.060715,7.6999197,8.621442,8.713291,8.441773,8.278424,8.817864,8.1426525,8.158396],\"yaxis\":\"y\",\"type\":\"scatter\"},{\"hovertemplate\":\"groups=0\\u003cbr\\u003e0=%{x}\\u003cbr\\u003e1=%{y}\\u003cextra\\u003e\\u003c\\u002fextra\\u003e\",\"legendgroup\":\"0\",\"marker\":{\"color\":\"#19d3f3\",\"symbol\":\"circle\"},\"mode\":\"markers\",\"name\":\"0\",\"orientation\":\"v\",\"showlegend\":true,\"x\":[-6.990358,-7.243176,-7.1006,-7.495521,-7.1409407,-7.52017,-7.2047687,-7.1651454,-7.202822,-7.6680355],\"xaxis\":\"x\",\"y\":[3.886291,3.6835947,3.7667866,2.612833,3.7788773,3.8061764,3.6950727,3.7046485,3.6621828,3.6823697],\"yaxis\":\"y\",\"type\":\"scatter\"}],                        {\"template\":{\"data\":{\"histogram2dcontour\":[{\"type\":\"histogram2dcontour\",\"colorbar\":{\"outlinewidth\":0,\"ticks\":\"\"},\"colorscale\":[[0.0,\"#0d0887\"],[0.1111111111111111,\"#46039f\"],[0.2222222222222222,\"#7201a8\"],[0.3333333333333333,\"#9c179e\"],[0.4444444444444444,\"#bd3786\"],[0.5555555555555556,\"#d8576b\"],[0.6666666666666666,\"#ed7953\"],[0.7777777777777778,\"#fb9f3a\"],[0.8888888888888888,\"#fdca26\"],[1.0,\"#f0f921\"]]}],\"choropleth\":[{\"type\":\"choropleth\",\"colorbar\":{\"outlinewidth\":0,\"ticks\":\"\"}}],\"histogram2d\":[{\"type\":\"histogram2d\",\"colorbar\":{\"outlinewidth\":0,\"ticks\":\"\"},\"colorscale\":[[0.0,\"#0d0887\"],[0.1111111111111111,\"#46039f\"],[0.2222222222222222,\"#7201a8\"],[0.3333333333333333,\"#9c179e\"],[0.4444444444444444,\"#bd3786\"],[0.5555555555555556,\"#d8576b\"],[0.6666666666666666,\"#ed7953\"],[0.7777777777777778,\"#fb9f3a\"],[0.8888888888888888,\"#fdca26\"],[1.0,\"#f0f921\"]]}],\"heatmap\":[{\"type\":\"heatmap\",\"colorbar\":{\"outlinewidth\":0,\"ticks\":\"\"},\"colorscale\":[[0.0,\"#0d0887\"],[0.1111111111111111,\"#46039f\"],[0.2222222222222222,\"#7201a8\"],[0.3333333333333333,\"#9c179e\"],[0.4444444444444444,\"#bd3786\"],[0.5555555555555556,\"#d8576b\"],[0.6666666666666666,\"#ed7953\"],[0.7777777777777778,\"#fb9f3a\"],[0.8888888888888888,\"#fdca26\"],[1.0,\"#f0f921\"]]}],\"heatmapgl\":[{\"type\":\"heatmapgl\",\"colorbar\":{\"outlinewidth\":0,\"ticks\":\"\"},\"colorscale\":[[0.0,\"#0d0887\"],[0.1111111111111111,\"#46039f\"],[0.2222222222222222,\"#7201a8\"],[0.3333333333333333,\"#9c179e\"],[0.4444444444444444,\"#bd3786\"],[0.5555555555555556,\"#d8576b\"],[0.6666666666666666,\"#ed7953\"],[0.7777777777777778,\"#fb9f3a\"],[0.8888888888888888,\"#fdca26\"],[1.0,\"#f0f921\"]]}],\"contourcarpet\":[{\"type\":\"contourcarpet\",\"colorbar\":{\"outlinewidth\":0,\"ticks\":\"\"}}],\"contour\":[{\"type\":\"contour\",\"colorbar\":{\"outlinewidth\":0,\"ticks\":\"\"},\"colorscale\":[[0.0,\"#0d0887\"],[0.1111111111111111,\"#46039f\"],[0.2222222222222222,\"#7201a8\"],[0.3333333333333333,\"#9c179e\"],[0.4444444444444444,\"#bd3786\"],[0.5555555555555556,\"#d8576b\"],[0.6666666666666666,\"#ed7953\"],[0.7777777777777778,\"#fb9f3a\"],[0.8888888888888888,\"#fdca26\"],[1.0,\"#f0f921\"]]}],\"surface\":[{\"type\":\"surface\",\"colorbar\":{\"outlinewidth\":0,\"ticks\":\"\"},\"colorscale\":[[0.0,\"#0d0887\"],[0.1111111111111111,\"#46039f\"],[0.2222222222222222,\"#7201a8\"],[0.3333333333333333,\"#9c179e\"],[0.4444444444444444,\"#bd3786\"],[0.5555555555555556,\"#d8576b\"],[0.6666666666666666,\"#ed7953\"],[0.7777777777777778,\"#fb9f3a\"],[0.8888888888888888,\"#fdca26\"],[1.0,\"#f0f921\"]]}],\"mesh3d\":[{\"type\":\"mesh3d\",\"colorbar\":{\"outlinewidth\":0,\"ticks\":\"\"}}],\"scatter\":[{\"fillpattern\":{\"fillmode\":\"overlay\",\"size\":10,\"solidity\":0.2},\"type\":\"scatter\"}],\"parcoords\":[{\"type\":\"parcoords\",\"line\":{\"colorbar\":{\"outlinewidth\":0,\"ticks\":\"\"}}}],\"scatterpolargl\":[{\"type\":\"scatterpolargl\",\"marker\":{\"colorbar\":{\"outlinewidth\":0,\"ticks\":\"\"}}}],\"bar\":[{\"error_x\":{\"color\":\"#2a3f5f\"},\"error_y\":{\"color\":\"#2a3f5f\"},\"marker\":{\"line\":{\"color\":\"#E5ECF6\",\"width\":0.5},\"pattern\":{\"fillmode\":\"overlay\",\"size\":10,\"solidity\":0.2}},\"type\":\"bar\"}],\"scattergeo\":[{\"type\":\"scattergeo\",\"marker\":{\"colorbar\":{\"outlinewidth\":0,\"ticks\":\"\"}}}],\"scatterpolar\":[{\"type\":\"scatterpolar\",\"marker\":{\"colorbar\":{\"outlinewidth\":0,\"ticks\":\"\"}}}],\"histogram\":[{\"marker\":{\"pattern\":{\"fillmode\":\"overlay\",\"size\":10,\"solidity\":0.2}},\"type\":\"histogram\"}],\"scattergl\":[{\"type\":\"scattergl\",\"marker\":{\"colorbar\":{\"outlinewidth\":0,\"ticks\":\"\"}}}],\"scatter3d\":[{\"type\":\"scatter3d\",\"line\":{\"colorbar\":{\"outlinewidth\":0,\"ticks\":\"\"}},\"marker\":{\"colorbar\":{\"outlinewidth\":0,\"ticks\":\"\"}}}],\"scattermapbox\":[{\"type\":\"scattermapbox\",\"marker\":{\"colorbar\":{\"outlinewidth\":0,\"ticks\":\"\"}}}],\"scatterternary\":[{\"type\":\"scatterternary\",\"marker\":{\"colorbar\":{\"outlinewidth\":0,\"ticks\":\"\"}}}],\"scattercarpet\":[{\"type\":\"scattercarpet\",\"marker\":{\"colorbar\":{\"outlinewidth\":0,\"ticks\":\"\"}}}],\"carpet\":[{\"aaxis\":{\"endlinecolor\":\"#2a3f5f\",\"gridcolor\":\"white\",\"linecolor\":\"white\",\"minorgridcolor\":\"white\",\"startlinecolor\":\"#2a3f5f\"},\"baxis\":{\"endlinecolor\":\"#2a3f5f\",\"gridcolor\":\"white\",\"linecolor\":\"white\",\"minorgridcolor\":\"white\",\"startlinecolor\":\"#2a3f5f\"},\"type\":\"carpet\"}],\"table\":[{\"cells\":{\"fill\":{\"color\":\"#EBF0F8\"},\"line\":{\"color\":\"white\"}},\"header\":{\"fill\":{\"color\":\"#C8D4E3\"},\"line\":{\"color\":\"white\"}},\"type\":\"table\"}],\"barpolar\":[{\"marker\":{\"line\":{\"color\":\"#E5ECF6\",\"width\":0.5},\"pattern\":{\"fillmode\":\"overlay\",\"size\":10,\"solidity\":0.2}},\"type\":\"barpolar\"}],\"pie\":[{\"automargin\":true,\"type\":\"pie\"}]},\"layout\":{\"autotypenumbers\":\"strict\",\"colorway\":[\"#636efa\",\"#EF553B\",\"#00cc96\",\"#ab63fa\",\"#FFA15A\",\"#19d3f3\",\"#FF6692\",\"#B6E880\",\"#FF97FF\",\"#FECB52\"],\"font\":{\"color\":\"#2a3f5f\"},\"hovermode\":\"closest\",\"hoverlabel\":{\"align\":\"left\"},\"paper_bgcolor\":\"white\",\"plot_bgcolor\":\"#E5ECF6\",\"polar\":{\"bgcolor\":\"#E5ECF6\",\"angularaxis\":{\"gridcolor\":\"white\",\"linecolor\":\"white\",\"ticks\":\"\"},\"radialaxis\":{\"gridcolor\":\"white\",\"linecolor\":\"white\",\"ticks\":\"\"}},\"ternary\":{\"bgcolor\":\"#E5ECF6\",\"aaxis\":{\"gridcolor\":\"white\",\"linecolor\":\"white\",\"ticks\":\"\"},\"baxis\":{\"gridcolor\":\"white\",\"linecolor\":\"white\",\"ticks\":\"\"},\"caxis\":{\"gridcolor\":\"white\",\"linecolor\":\"white\",\"ticks\":\"\"}},\"coloraxis\":{\"colorbar\":{\"outlinewidth\":0,\"ticks\":\"\"}},\"colorscale\":{\"sequential\":[[0.0,\"#0d0887\"],[0.1111111111111111,\"#46039f\"],[0.2222222222222222,\"#7201a8\"],[0.3333333333333333,\"#9c179e\"],[0.4444444444444444,\"#bd3786\"],[0.5555555555555556,\"#d8576b\"],[0.6666666666666666,\"#ed7953\"],[0.7777777777777778,\"#fb9f3a\"],[0.8888888888888888,\"#fdca26\"],[1.0,\"#f0f921\"]],\"sequentialminus\":[[0.0,\"#0d0887\"],[0.1111111111111111,\"#46039f\"],[0.2222222222222222,\"#7201a8\"],[0.3333333333333333,\"#9c179e\"],[0.4444444444444444,\"#bd3786\"],[0.5555555555555556,\"#d8576b\"],[0.6666666666666666,\"#ed7953\"],[0.7777777777777778,\"#fb9f3a\"],[0.8888888888888888,\"#fdca26\"],[1.0,\"#f0f921\"]],\"diverging\":[[0,\"#8e0152\"],[0.1,\"#c51b7d\"],[0.2,\"#de77ae\"],[0.3,\"#f1b6da\"],[0.4,\"#fde0ef\"],[0.5,\"#f7f7f7\"],[0.6,\"#e6f5d0\"],[0.7,\"#b8e186\"],[0.8,\"#7fbc41\"],[0.9,\"#4d9221\"],[1,\"#276419\"]]},\"xaxis\":{\"gridcolor\":\"white\",\"linecolor\":\"white\",\"ticks\":\"\",\"title\":{\"standoff\":15},\"zerolinecolor\":\"white\",\"automargin\":true,\"zerolinewidth\":2},\"yaxis\":{\"gridcolor\":\"white\",\"linecolor\":\"white\",\"ticks\":\"\",\"title\":{\"standoff\":15},\"zerolinecolor\":\"white\",\"automargin\":true,\"zerolinewidth\":2},\"scene\":{\"xaxis\":{\"backgroundcolor\":\"#E5ECF6\",\"gridcolor\":\"white\",\"linecolor\":\"white\",\"showbackground\":true,\"ticks\":\"\",\"zerolinecolor\":\"white\",\"gridwidth\":2},\"yaxis\":{\"backgroundcolor\":\"#E5ECF6\",\"gridcolor\":\"white\",\"linecolor\":\"white\",\"showbackground\":true,\"ticks\":\"\",\"zerolinecolor\":\"white\",\"gridwidth\":2},\"zaxis\":{\"backgroundcolor\":\"#E5ECF6\",\"gridcolor\":\"white\",\"linecolor\":\"white\",\"showbackground\":true,\"ticks\":\"\",\"zerolinecolor\":\"white\",\"gridwidth\":2}},\"shapedefaults\":{\"line\":{\"color\":\"#2a3f5f\"}},\"annotationdefaults\":{\"arrowcolor\":\"#2a3f5f\",\"arrowhead\":0,\"arrowwidth\":1},\"geo\":{\"bgcolor\":\"white\",\"landcolor\":\"#E5ECF6\",\"subunitcolor\":\"white\",\"showland\":true,\"showlakes\":true,\"lakecolor\":\"white\"},\"title\":{\"x\":0.05},\"mapbox\":{\"style\":\"light\"}}},\"xaxis\":{\"anchor\":\"y\",\"domain\":[0.0,1.0],\"title\":{\"text\":\"0\"}},\"yaxis\":{\"anchor\":\"x\",\"domain\":[0.0,1.0],\"title\":{\"text\":\"1\"}},\"legend\":{\"title\":{\"text\":\"groups\"},\"tracegroupgap\":0},\"margin\":{\"t\":60}},                        {\"responsive\": true}                    ).then(function(){\n",
       "                            \n",
       "var gd = document.getElementById('889132f4-fca2-496c-96f1-8bf20dea2fc6');\n",
       "var x = new MutationObserver(function (mutations, observer) {{\n",
       "        var display = window.getComputedStyle(gd).display;\n",
       "        if (!display || display === 'none') {{\n",
       "            console.log([gd, 'removed!']);\n",
       "            Plotly.purge(gd);\n",
       "            observer.disconnect();\n",
       "        }}\n",
       "}});\n",
       "\n",
       "// Listen for the removal of the full notebook cells\n",
       "var notebookContainer = gd.closest('#notebook-container');\n",
       "if (notebookContainer) {{\n",
       "    x.observe(notebookContainer, {childList: true});\n",
       "}}\n",
       "\n",
       "// Listen for the clearing of the current output cell\n",
       "var outputEl = gd.closest('.output');\n",
       "if (outputEl) {{\n",
       "    x.observe(outputEl, {childList: true});\n",
       "}}\n",
       "\n",
       "                        })                };                });            </script>        </div>"
      ]
     },
     "metadata": {},
     "output_type": "display_data"
    }
   ],
   "source": [
    "model_test.plot_umap(n_clusters=6)"
   ]
  },
  {
   "cell_type": "code",
   "execution_count": 29,
   "metadata": {},
   "outputs": [],
   "source": [
    "train_map = {'0': 'train_0', '1': 'train_1', '2': 'train_2', '3': 'train_3', '4': 'train_4', '5': 'train_5'}\n",
    "test_map = {'0': 'test_0', '1': 'test_1', '2': 'test_2', '3': 'test_3', '4': 'test_4', '5': 'test_5'}"
   ]
  },
  {
   "cell_type": "code",
   "execution_count": 30,
   "metadata": {},
   "outputs": [],
   "source": [
    "train_label = [train_map[str(i)] for i in model_train.return_labels(n_clusters=5)]\n",
    "test_label = [test_map[str(i)] for i in model_test.return_labels(n_clusters=6)]"
   ]
  },
  {
   "cell_type": "code",
   "execution_count": 31,
   "metadata": {},
   "outputs": [
    {
     "data": {
      "application/vnd.plotly.v1+json": {
       "config": {
        "plotlyServerURL": "https://plot.ly"
       },
       "data": [
        {
         "hovertemplate": "drift=train_4<br>0=%{x}<br>1=%{y}<extra></extra>",
         "legendgroup": "train_4",
         "marker": {
          "color": "#636efa",
          "symbol": "circle"
         },
         "mode": "markers",
         "name": "train_4",
         "orientation": "v",
         "showlegend": true,
         "type": "scatter",
         "x": [
          9.573698,
          11.539484,
          9.865912,
          8.838832,
          10.076118,
          9.914496,
          10.233852,
          10.744341,
          8.88222,
          9.759227,
          9.002313,
          9.475433,
          10.71898,
          11.710006,
          10.121945,
          10.482652,
          9.126888,
          10.679255,
          10.057151,
          10.554279,
          9.221488,
          9.796147,
          10.131495,
          11.598989,
          10.621214,
          10.318917,
          9.915059,
          9.522837,
          8.819747,
          10.737803,
          10.955323,
          8.908991,
          10.007016,
          12.290788,
          2.866899,
          10.796009,
          9.048765,
          12.554622,
          9.334405,
          11.257574,
          8.867454,
          3.0212433,
          11.372892,
          9.635368,
          11.528791,
          11.108524,
          10.032647,
          10.05831,
          11.630757,
          11.184195,
          9.1655655,
          10.184284,
          8.877225,
          8.876585,
          9.919739,
          10.075376,
          10.767954,
          11.222255,
          10.2991905,
          11.239642,
          11.70174,
          9.87742,
          11.728904,
          9.262532,
          10.423138,
          11.516324,
          12.608997,
          9.30627,
          10.288356,
          9.199226,
          2.9957666,
          12.703366,
          10.596271,
          10.319863,
          10.646752,
          9.641908,
          12.465919,
          9.124784,
          9.964611,
          9.8608465,
          12.348556,
          11.110297,
          9.508333,
          12.575473,
          9.946338,
          11.62768,
          8.839213,
          8.868927,
          9.618598,
          10.03463,
          9.956311,
          12.5733,
          10.428265,
          10.336816,
          10.012505,
          12.425947,
          12.5080185,
          8.88152,
          10.94814,
          9.111079,
          11.596563,
          11.1757345,
          11.728377,
          11.691224,
          9.147065,
          9.561977,
          9.671507,
          11.291947,
          9.970513,
          10.979124,
          11.6567745,
          10.494156,
          9.439943,
          11.374657,
          11.414689,
          9.75378,
          11.312141,
          9.408081,
          8.82069,
          10.043787,
          9.963051,
          9.87397,
          9.269838,
          9.505254,
          11.605626,
          9.080636,
          10.725249,
          9.940064,
          9.900539,
          11.401937,
          9.92823,
          11.4919615,
          9.958101,
          10.682415,
          11.340027,
          9.071752,
          10.270173,
          9.4185705,
          8.90441,
          10.239346,
          10.040825,
          11.7240305,
          10.103512,
          11.54525,
          9.658471,
          10.290806,
          9.538805,
          10.215306,
          9.862146,
          11.496303,
          12.482721,
          11.133662,
          9.96851,
          10.012954,
          12.375708,
          9.585819,
          10.6835575,
          9.799447,
          11.490508,
          9.582632,
          11.509644,
          11.210298,
          10.257613,
          8.985929,
          12.568192,
          10.21591,
          10.167739,
          11.56103,
          11.650623,
          10.741448,
          9.671189,
          11.56716,
          10.182693,
          9.05462
         ],
         "xaxis": "x",
         "y": [
          8.3561125,
          8.316086,
          8.281409,
          8.193188,
          9.309224,
          8.706537,
          9.544782,
          8.105737,
          8.088569,
          8.725421,
          8.193376,
          9.213839,
          9.069314,
          7.8283215,
          8.563007,
          9.550639,
          10.355197,
          8.046292,
          8.373626,
          9.409939,
          10.363462,
          8.524911,
          9.317056,
          7.616141,
          9.278802,
          8.204684,
          8.517796,
          9.191499,
          8.136937,
          8.120936,
          8.032186,
          8.126302,
          10.252344,
          5.667221,
          3.3909771,
          8.038345,
          9.058568,
          6.1053014,
          8.487827,
          5.6349163,
          7.8517523,
          2.8729513,
          8.438618,
          9.013449,
          7.8445992,
          5.432492,
          9.123162,
          9.750837,
          7.7189956,
          5.2417655,
          9.003968,
          8.068606,
          7.8982067,
          8.211206,
          8.631146,
          9.904574,
          8.111945,
          5.648489,
          9.846952,
          5.2291393,
          7.749418,
          9.593343,
          6.69494,
          8.983542,
          9.49427,
          8.384573,
          6.100753,
          9.081306,
          9.887822,
          8.931804,
          2.766411,
          5.5301743,
          9.352908,
          8.851581,
          8.078322,
          9.420456,
          6.0895696,
          9.049683,
          8.662201,
          8.684076,
          6.0201664,
          8.571082,
          8.452959,
          6.067283,
          9.118531,
          7.806486,
          7.9399915,
          7.8563347,
          9.488577,
          7.956803,
          10.30651,
          6.079556,
          9.51834,
          9.71305,
          9.0515785,
          6.116833,
          6.031324,
          8.0305805,
          8.605371,
          10.395196,
          7.7492967,
          5.700321,
          7.9122715,
          8.002214,
          8.958217,
          8.8700485,
          8.948111,
          5.1987767,
          8.602837,
          8.081808,
          7.2286353,
          9.645244,
          8.377337,
          8.478547,
          7.9236083,
          8.468938,
          5.5329866,
          10.392844,
          8.138371,
          8.968076,
          10.30529,
          10.30368,
          9.061102,
          8.797547,
          7.671682,
          10.412385,
          8.084463,
          9.751944,
          8.273076,
          5.531579,
          10.226553,
          8.430807,
          10.310123,
          8.140322,
          5.235544,
          9.068869,
          9.89403,
          8.880916,
          8.009248,
          9.965521,
          9.312468,
          7.8315487,
          9.828348,
          5.5058556,
          8.965482,
          9.974429,
          9.3454485,
          9.382102,
          8.295911,
          8.386093,
          6.076412,
          5.7287636,
          9.73178,
          9.056723,
          6.0062103,
          8.317069,
          9.153606,
          8.374256,
          7.445721,
          9.460016,
          5.39472,
          5.2138023,
          9.969257,
          8.049412,
          6.068563,
          10.020481,
          8.863022,
          7.720375,
          5.4099703,
          9.266516,
          9.478227,
          8.305688,
          9.334388,
          9.114765
         ],
         "yaxis": "y"
        },
        {
         "hovertemplate": "drift=train_2<br>0=%{x}<br>1=%{y}<extra></extra>",
         "legendgroup": "train_2",
         "marker": {
          "color": "#EF553B",
          "symbol": "circle"
         },
         "mode": "markers",
         "name": "train_2",
         "orientation": "v",
         "showlegend": true,
         "type": "scatter",
         "x": [
          4.2692823,
          5.2559724,
          5.170615,
          2.6186535,
          4.200272,
          4.6101074,
          5.821892,
          5.1805377,
          4.1084046,
          4.219248,
          5.0422378,
          5.16736,
          2.9273705,
          2.7747831,
          2.6101358,
          2.9118962,
          4.3185167,
          4.187639,
          5.0581446,
          5.8244867,
          3.003578,
          2.7755747,
          2.882586,
          5.14686,
          2.8348846,
          7.2846465,
          5.4069924,
          4.2970276,
          2.9836202,
          4.924562,
          4.943728,
          5.073758,
          2.79692,
          5.1535215,
          4.2024884,
          4.9346385,
          4.9127374,
          5.4432425,
          8.482984,
          4.314842,
          5.0863333,
          5.4876847,
          5.310673,
          4.518409,
          3.061077,
          5.418888,
          3.5614061,
          5.3603544,
          4.9503307,
          4.5883045,
          5.190662,
          5.452598,
          2.841313,
          4.9229813,
          5.1309166,
          5.098639,
          2.6223433,
          4.069248,
          4.0981917,
          2.746985,
          5.3295217,
          2.7647374,
          2.9339468,
          2.8326526,
          4.6569395,
          4.902004,
          4.636666,
          3.5197558,
          4.6201177,
          4.267021,
          2.800654,
          2.8582833,
          5.885989,
          2.8024504,
          5.2708907,
          2.7373772,
          4.198337,
          3.4572463,
          3.7602904,
          2.955386,
          4.295027,
          4.182192,
          2.9150124,
          2.820443,
          5.2096195,
          2.6297636,
          7.4132295,
          5.3693595,
          4.9939303,
          2.9611197,
          2.8997028,
          2.9866316,
          4.2628136,
          2.7241325,
          4.2475376,
          5.296876,
          4.671523,
          5.0107327,
          2.9376075,
          5.440732,
          3.082993,
          2.8996453,
          3.6077714,
          6.973109,
          5.4357643,
          5.509774,
          4.851656,
          3.4971075,
          5.057256,
          5.3863797,
          4.250617,
          5.8111396,
          2.9364648,
          4.5260735,
          4.6092124,
          5.119447,
          5.905941,
          5.898079,
          3.53201,
          5.8122783,
          2.702175,
          2.9470809,
          5.0908256,
          4.8594155
         ],
         "xaxis": "x",
         "y": [
          1.4588616,
          1.301783,
          -0.7165317,
          1.5354387,
          -2.9851663,
          1.249303,
          1.8539574,
          -0.7452092,
          -3.08859,
          -2.9843824,
          0.013520956,
          -0.6852372,
          2.7920065,
          3.5927143,
          1.5309932,
          2.6983917,
          -2.8922262,
          -3.012312,
          0.5672746,
          1.9126425,
          2.826309,
          3.4673495,
          2.7315674,
          -0.663957,
          1.6929282,
          1.7256229,
          1.3459758,
          -2.9135592,
          1.9524845,
          -0.22584282,
          -0.27673554,
          1.8867066,
          3.5482311,
          -0.704388,
          -2.9983823,
          -0.13066424,
          -0.022086399,
          1.3915656,
          3.119377,
          1.8108835,
          -0.035262708,
          1.8927554,
          1.8863491,
          1.5344021,
          1.6241095,
          1.8403233,
          1.7263716,
          1.4450983,
          0.08612982,
          1.2917536,
          -0.73760235,
          1.8750156,
          3.6729896,
          -0.15231971,
          -0.62616926,
          -0.4699647,
          1.5325497,
          1.8910538,
          -3.0623963,
          3.407409,
          1.8386008,
          1.5698941,
          1.9504086,
          1.6256559,
          1.7135825,
          -0.22391352,
          1.193943,
          1.7238202,
          1.1746451,
          -2.9422264,
          1.5901567,
          1.5305196,
          1.8657329,
          3.2546809,
          1.3395915,
          3.4308937,
          -2.995685,
          1.693108,
          1.540067,
          1.8437861,
          -2.9118798,
          -3.0123658,
          2.7669516,
          3.3467915,
          -0.7748236,
          1.5490214,
          1.758737,
          1.7998801,
          0.07816246,
          2.7675276,
          2.6985724,
          2.6550028,
          -2.9470649,
          3.4719968,
          -2.9608028,
          1.3393376,
          1.3766397,
          -0.0052725994,
          2.7314749,
          1.3848867,
          1.6595302,
          2.7406855,
          1.6151936,
          1.5417305,
          1.8642293,
          1.7366905,
          -0.18589641,
          1.6381726,
          -0.10242372,
          1.5214541,
          -2.9530349,
          1.8511358,
          2.714602,
          1.4574778,
          1.1527318,
          -0.74906677,
          1.8487273,
          1.8143971,
          1.6515158,
          1.8900846,
          3.4097948,
          1.9273334,
          -0.54563093,
          -0.12579198
         ],
         "yaxis": "y"
        },
        {
         "hovertemplate": "drift=train_0<br>0=%{x}<br>1=%{y}<extra></extra>",
         "legendgroup": "train_0",
         "marker": {
          "color": "#00cc96",
          "symbol": "circle"
         },
         "mode": "markers",
         "name": "train_0",
         "orientation": "v",
         "showlegend": true,
         "type": "scatter",
         "x": [
          12.198328,
          9.941081,
          4.069397,
          9.888545,
          9.957221,
          12.353026,
          3.8202615,
          4.3136635,
          11.5527115,
          4.352975,
          3.442076,
          12.420038,
          13.178725,
          2.7218156,
          8.999558,
          13.243501,
          12.099032,
          4.3486657,
          4.188989,
          10.062129,
          9.913207,
          12.560116,
          2.8214478,
          10.642106,
          8.904105,
          9.849763,
          12.548324,
          4.2415543,
          8.944405,
          12.268197,
          12.029372,
          13.239948,
          12.421082,
          12.454607,
          11.842101,
          12.53563,
          9.478825,
          9.269037,
          12.098634,
          13.051042,
          3.7304587,
          10.149774,
          13.230057,
          10.900002,
          12.131118,
          12.021375,
          3.6825807,
          12.415735,
          10.278588,
          12.286584,
          4.317659,
          4.14983,
          12.390118,
          12.671063,
          9.761727,
          8.748443,
          12.501487,
          4.226177,
          13.258255,
          11.5915785,
          12.456347,
          11.871781,
          12.009094,
          8.9365835,
          13.037391,
          12.353249,
          8.868157,
          4.256651,
          11.772574,
          12.055013,
          12.60503,
          2.768944,
          9.54844,
          13.078823,
          12.670858,
          12.582686,
          9.996724,
          12.161852,
          -0.8205842,
          11.318936,
          9.204363,
          9.959478,
          12.775588,
          3.6519387,
          12.307333,
          3.1302266,
          4.1889596,
          9.794931,
          12.477108,
          2.7960029,
          11.610463,
          9.616173,
          12.289064,
          11.945161,
          13.223277,
          13.234074,
          10.713656,
          12.097794,
          3.48009,
          3.262432,
          12.907106,
          2.7656183,
          12.589876,
          2.8145905,
          12.5139885,
          3.7037213,
          12.187979,
          13.079276,
          13.23614,
          12.643163,
          9.11271,
          12.553167,
          12.964277,
          4.134201,
          10.172787,
          10.819718,
          12.237231,
          12.520662,
          12.678727,
          8.774676,
          10.412182,
          10.638447,
          11.913414,
          11.982768,
          12.704782,
          12.580323,
          10.228164,
          2.7693102,
          8.801565,
          12.420997,
          12.578987,
          12.329321,
          10.439796,
          2.888354,
          2.818536,
          3.822669,
          12.281079,
          10.046485,
          4.3399167,
          10.430267,
          12.727342,
          12.515626,
          10.599206,
          4.3760524,
          12.075098,
          4.217089,
          10.733908,
          12.037144,
          12.622251
         ],
         "xaxis": "x",
         "y": [
          2.4243443,
          1.7461566,
          8.415787,
          1.7678702,
          1.700396,
          2.432905,
          8.404459,
          8.43447,
          5.4695463,
          8.434578,
          8.289482,
          -4.4459767,
          -4.292687,
          8.808883,
          10.452029,
          -4.2901816,
          2.055611,
          8.409121,
          8.446157,
          2.660213,
          2.6507902,
          1.3971988,
          3.6740942,
          2.874424,
          10.520689,
          2.806672,
          1.4548147,
          8.503539,
          10.490631,
          2.2894645,
          2.3398714,
          -4.193368,
          2.3034163,
          1.501454,
          1.9571747,
          1.389941,
          2.8221457,
          8.418057,
          1.9639331,
          -4.2202077,
          8.265978,
          2.8580425,
          -4.2134585,
          2.5745728,
          2.1910863,
          1.9322498,
          8.347926,
          2.4260085,
          2.5454977,
          1.8910927,
          8.417654,
          8.45473,
          2.424307,
          5.526795,
          2.763032,
          3.166819,
          -4.6347785,
          8.484865,
          -4.2102613,
          2.2287297,
          5.1686244,
          1.9646266,
          1.8731284,
          10.495174,
          -4.248287,
          1.8005815,
          10.344929,
          8.508623,
          2.1298232,
          1.8954095,
          -4.6982694,
          8.864336,
          2.768991,
          -4.1903653,
          5.48627,
          -4.6767516,
          2.40394,
          2.3457022,
          10.063486,
          5.270587,
          2.6125753,
          1.7617922,
          -4.6252613,
          8.290619,
          1.9131486,
          8.206959,
          8.447795,
          2.7441623,
          1.5764236,
          3.6221168,
          5.4230556,
          2.3653338,
          1.8987428,
          2.174852,
          -4.2834406,
          -3.9818332,
          2.6044624,
          1.9775977,
          8.328856,
          8.339954,
          -4.4688616,
          3.635182,
          1.3847067,
          8.572262,
          5.698097,
          8.330508,
          2.4204836,
          -4.231585,
          -4.269795,
          -4.7260914,
          2.537147,
          1.424528,
          -4.150697,
          8.469093,
          2.8727212,
          2.63869,
          2.1643748,
          1.4438281,
          5.455979,
          10.3634815,
          2.6652088,
          2.8860874,
          1.857218,
          1.8046043,
          -3.9394155,
          -4.0577884,
          2.486592,
          3.6206563,
          10.437061,
          2.4570167,
          1.3888985,
          5.4296155,
          2.8133078,
          8.450548,
          8.891484,
          8.408579,
          1.8776419,
          2.689572,
          8.54076,
          2.8484554,
          5.486815,
          -4.7197948,
          2.5043,
          8.557305,
          2.3892093,
          8.515387,
          2.5536191,
          1.8519956,
          1.3431405
         ],
         "yaxis": "y"
        },
        {
         "hovertemplate": "drift=train_1<br>0=%{x}<br>1=%{y}<extra></extra>",
         "legendgroup": "train_1",
         "marker": {
          "color": "#ab63fa",
          "symbol": "circle"
         },
         "mode": "markers",
         "name": "train_1",
         "orientation": "v",
         "showlegend": true,
         "type": "scatter",
         "x": [
          3.3432915,
          -0.8565029,
          3.804404,
          -1.0696315,
          -0.8935709,
          3.1003134,
          -1.6695039,
          -1.9343215,
          -1.5682062,
          -1.130821,
          -1.7038965,
          -0.942616,
          2.630744,
          -1.3698711,
          2.1489105,
          -1.2995114,
          -1.9622874,
          -1.9687684,
          -1.7433122,
          2.4762273,
          2.5386164,
          -1.252561,
          -1.6370212,
          -0.92240417,
          2.653916,
          -1.7171122,
          -1.174932,
          3.09257,
          -1.4390564,
          3.503006,
          -1.1510731,
          3.0820014,
          1.5156679,
          -1.6362257,
          -1.58238,
          2.651467,
          -1.8609617,
          -1.444537,
          -1.6852204,
          -1.7071937,
          3.0939689,
          -1.3913136,
          -1.9124924,
          3.0689075,
          2.4205325,
          2.6905339,
          -1.3115727,
          3.1009865,
          3.2763054,
          -1.9488527,
          2.4601905,
          2.3883111,
          2.3825681,
          2.3307028,
          2.3932333,
          2.4570408,
          -1.2966758,
          -1.9270886,
          -1.4329343,
          1.5156691,
          -1.9312015,
          3.0995228,
          2.5130198,
          3.1885624,
          -1.4915009,
          -1.8953506,
          -1.2682251,
          -1.2382605
         ],
         "xaxis": "x",
         "y": [
          8.294924,
          10.027754,
          8.386508,
          10.126129,
          10.087441,
          7.699859,
          9.920955,
          10.220161,
          9.81406,
          9.949812,
          9.8815565,
          10.136174,
          8.490626,
          9.546287,
          8.5995655,
          9.411848,
          10.254053,
          10.244563,
          10.155544,
          8.611524,
          8.89801,
          9.899949,
          9.983824,
          10.108427,
          8.976182,
          9.881305,
          10.131171,
          7.8028107,
          9.673244,
          8.377352,
          10.182383,
          7.6378965,
          8.52141,
          9.966619,
          10.194414,
          9.020907,
          10.148824,
          10.033183,
          10.068085,
          9.900618,
          7.651091,
          10.09587,
          10.172478,
          7.70231,
          8.679462,
          8.950179,
          9.431833,
          7.8024263,
          8.332672,
          10.195741,
          8.657504,
          8.6444845,
          8.6060095,
          8.858382,
          8.737633,
          8.664379,
          10.124391,
          10.226695,
          9.620649,
          8.518126,
          10.125891,
          7.736829,
          8.680748,
          8.196846,
          9.63847,
          10.259456,
          10.087158,
          9.336626
         ],
         "yaxis": "y"
        },
        {
         "hovertemplate": "drift=train_3<br>0=%{x}<br>1=%{y}<extra></extra>",
         "legendgroup": "train_3",
         "marker": {
          "color": "#FFA15A",
          "symbol": "circle"
         },
         "mode": "markers",
         "name": "train_3",
         "orientation": "v",
         "showlegend": true,
         "type": "scatter",
         "x": [
          9.52623,
          8.539525,
          9.871777,
          10.323358,
          8.567668,
          10.190004,
          9.524546,
          10.315781,
          9.276396,
          7.8788295,
          9.116232,
          9.912129,
          9.118912,
          8.741645,
          7.91823,
          11.170192,
          7.5927086,
          9.918837,
          9.17683,
          4.759157,
          10.208594,
          8.73031,
          9.959019,
          7.572898,
          8.35125,
          9.318161,
          10.348063,
          9.308272,
          10.455763,
          9.716966,
          9.764939,
          9.183202,
          9.215952,
          9.520032,
          9.880365,
          9.425567,
          9.255291,
          8.680839,
          9.162542,
          9.830109,
          9.34774,
          9.086095,
          10.264877,
          10.323553,
          9.904566,
          11.243182,
          8.926695,
          10.253904,
          9.743557,
          9.272551,
          8.295797,
          9.344322,
          10.371644,
          10.600623,
          9.213337,
          8.734316,
          9.419632,
          9.556293,
          9.893016,
          9.192957,
          9.173903,
          9.023698,
          8.95223,
          10.223802,
          9.714725,
          8.83487,
          10.265785,
          9.803672,
          9.323485,
          9.4491415,
          9.71049,
          10.082922,
          10.272105,
          9.672868,
          9.097703,
          7.8110814,
          9.916326,
          9.219559,
          9.422266,
          8.425998,
          9.315407,
          9.117942,
          9.237369,
          10.2415,
          9.495127,
          8.852033,
          9.262633,
          8.8784685,
          10.591257,
          9.428652,
          8.698707,
          8.794193,
          9.191762,
          10.04701,
          9.160892,
          9.209355,
          9.335441,
          7.895378,
          10.592823,
          9.152995,
          9.118439,
          9.16815,
          9.373362,
          9.3261175,
          9.170258,
          9.947842,
          8.775254,
          7.484489
         ],
         "xaxis": "x",
         "y": [
          3.8996053,
          3.095984,
          1.7728766,
          3.7711244,
          1.9962019,
          2.7362247,
          3.7534256,
          3.7982628,
          2.1676204,
          1.9230472,
          4.1463027,
          3.1916618,
          4.3321285,
          2.2844222,
          1.9363757,
          5.2806144,
          1.8732145,
          1.8390408,
          4.0801563,
          2.1404552,
          3.8199158,
          3.1280468,
          3.728144,
          1.8364097,
          2.2324417,
          3.7116601,
          3.3949363,
          3.8028371,
          2.3528354,
          3.200701,
          3.2129226,
          2.776303,
          1.8808566,
          3.3059905,
          1.7081662,
          2.4217525,
          1.8421648,
          2.952893,
          3.2602923,
          1.780095,
          3.982048,
          3.5067308,
          2.8342645,
          3.615831,
          1.7104846,
          5.288519,
          3.1943471,
          3.8261452,
          2.0934618,
          1.8493791,
          2.0523343,
          3.95988,
          3.751524,
          2.9342766,
          4.031725,
          2.2455714,
          2.6131423,
          2.9338045,
          3.3474698,
          3.6547348,
          4.1146884,
          2.458635,
          3.7065763,
          3.8120909,
          2.3488584,
          3.7278697,
          3.8254771,
          3.4866788,
          3.538448,
          3.875699,
          3.3927329,
          2.882874,
          3.8216746,
          2.124162,
          2.4487212,
          1.9909934,
          3.2169485,
          1.9939911,
          3.1544876,
          1.9878528,
          3.589454,
          3.8491278,
          3.906559,
          2.8095527,
          3.2306733,
          3.2883508,
          3.4585059,
          3.1829426,
          2.7514937,
          2.9764352,
          2.8926964,
          2.2172272,
          4.1759725,
          2.338691,
          1.8853915,
          1.9869208,
          3.6879575,
          1.9349858,
          3.077734,
          3.5103998,
          3.7470758,
          1.6942114,
          3.944285,
          3.5722094,
          4.2592125,
          2.855864,
          2.265048,
          1.8084803
         ],
         "yaxis": "y"
        },
        {
         "hovertemplate": "drift=test_5<br>0=%{x}<br>1=%{y}<extra></extra>",
         "legendgroup": "test_5",
         "marker": {
          "color": "#19d3f3",
          "symbol": "circle"
         },
         "mode": "markers",
         "name": "test_5",
         "orientation": "v",
         "showlegend": true,
         "type": "scatter",
         "x": [
          10.500458,
          10.071592,
          10.415555,
          10.71732,
          10.819422,
          11.4372425,
          8.8411045,
          12.656746,
          9.897391,
          2.7679524,
          10.025689,
          9.547689,
          11.44156,
          9.88641,
          10.274342,
          9.355403,
          9.317628,
          9.451112,
          12.720976,
          12.741633,
          11.125137,
          8.968905,
          2.8511026,
          12.748566,
          10.737765,
          11.731881,
          9.564525,
          10.617004,
          12.015809,
          9.006199,
          12.470396,
          8.902966,
          10.042967,
          10.103915,
          11.433694,
          11.67987,
          12.063586,
          11.665734,
          9.136573,
          9.762198,
          10.335914,
          12.692067,
          12.567126,
          10.822477,
          11.492191,
          9.571497,
          9.834952,
          9.273045,
          8.8673,
          10.0550375,
          9.231614,
          10.53284,
          12.445583,
          11.700706,
          12.412519
         ],
         "xaxis": "x",
         "y": [
          9.686231,
          8.939576,
          8.770448,
          9.042165,
          8.03981,
          8.411617,
          7.855556,
          5.581276,
          8.858617,
          3.6126454,
          9.960639,
          9.20965,
          6.1460915,
          10.260075,
          9.377601,
          8.006869,
          9.185556,
          8.902878,
          5.4789,
          5.491769,
          5.1373277,
          10.467263,
          3.6597846,
          5.509521,
          8.240669,
          7.880973,
          9.039425,
          8.602239,
          2.6110432,
          9.048312,
          6.080167,
          8.159326,
          9.34205,
          9.085734,
          5.4592896,
          5.3545165,
          2.3960552,
          8.142141,
          9.108697,
          8.576639,
          9.837579,
          5.4669642,
          6.133888,
          8.848434,
          5.78911,
          9.484516,
          8.357154,
          8.464793,
          10.320037,
          9.328317,
          10.4005165,
          9.554448,
          5.995167,
          5.4543657,
          6.0895143
         ],
         "yaxis": "y"
        },
        {
         "hovertemplate": "drift=test_4<br>0=%{x}<br>1=%{y}<extra></extra>",
         "legendgroup": "test_4",
         "marker": {
          "color": "#FF6692",
          "symbol": "circle"
         },
         "mode": "markers",
         "name": "test_4",
         "orientation": "v",
         "showlegend": true,
         "type": "scatter",
         "x": [
          4.4914136,
          5.098576,
          5.171982,
          2.942314,
          5.3196893,
          4.4762077,
          5.251647,
          4.918993,
          6.9743066,
          5.0224466,
          4.1852164,
          2.6694546,
          6.922862,
          5.0437512,
          5.250046,
          4.276937,
          3.0047383,
          3.1508768,
          4.9334593,
          2.917123,
          3.022579,
          2.9471037,
          5.416903,
          3.51236,
          3.9447198,
          2.9348617,
          2.8710601,
          5.4655943,
          4.222932,
          5.189048,
          5.2555895,
          3.5492923,
          5.0416207,
          3.9825592,
          5.227696,
          5.8995667,
          2.9514046,
          4.1248097,
          5.6920557
         ],
         "xaxis": "x",
         "y": [
          1.16491,
          1.9659324,
          -0.7107579,
          1.8930695,
          1.296047,
          1.3530647,
          1.2605462,
          -0.2189161,
          1.5510025,
          -0.081411414,
          1.8560716,
          1.5696507,
          1.4834342,
          -0.57473195,
          1.31335,
          -2.9301775,
          1.677312,
          1.7118245,
          0.007332261,
          1.8879135,
          1.6242403,
          1.9287345,
          1.7987586,
          1.6521343,
          1.8803308,
          2.701294,
          2.7751036,
          1.638034,
          -2.9812849,
          -0.74998146,
          1.3052299,
          1.7264127,
          -0.21805829,
          1.8625741,
          1.2971349,
          1.8370271,
          1.9180119,
          -3.0756936,
          1.9660497
         ],
         "yaxis": "y"
        },
        {
         "hovertemplate": "drift=test_2<br>0=%{x}<br>1=%{y}<extra></extra>",
         "legendgroup": "test_2",
         "marker": {
          "color": "#B6E880",
          "symbol": "circle"
         },
         "mode": "markers",
         "name": "test_2",
         "orientation": "v",
         "showlegend": true,
         "type": "scatter",
         "x": [
          9.140657,
          12.439699,
          10.124947,
          9.404382,
          8.994803,
          9.326764,
          9.793476,
          8.783253,
          8.502705,
          9.15703,
          12.068867,
          9.6032915,
          10.044561,
          8.780462,
          9.680055,
          8.639836,
          10.025147,
          8.931507,
          9.398129,
          11.452375,
          9.245494,
          10.193587,
          10.494612,
          9.810964,
          8.82263,
          9.218471,
          8.143452,
          8.866873,
          10.760821,
          8.812323,
          10.297689,
          11.681953,
          9.239741,
          8.812177,
          12.028779,
          8.14707,
          9.106614
         ],
         "xaxis": "x",
         "y": [
          3.6152604,
          2.4265997,
          2.5579512,
          1.8703623,
          3.7617705,
          2.001342,
          2.6675885,
          3.1976411,
          3.1004496,
          2.5147648,
          1.8208299,
          2.9234934,
          2.5648274,
          2.2720215,
          2.8008058,
          2.2198489,
          3.2100277,
          2.3184226,
          2.9058812,
          2.222752,
          2.5558074,
          2.3338208,
          3.0817697,
          2.702022,
          3.8494802,
          4.079909,
          1.9494945,
          3.7945502,
          2.5098672,
          2.2373765,
          3.7546394,
          2.2284212,
          4.0236964,
          3.763163,
          1.8362284,
          1.9331316,
          4.0007267
         ],
         "yaxis": "y"
        },
        {
         "hovertemplate": "drift=test_1<br>0=%{x}<br>1=%{y}<extra></extra>",
         "legendgroup": "test_1",
         "marker": {
          "color": "#FF97FF",
          "symbol": "circle"
         },
         "mode": "markers",
         "name": "test_1",
         "orientation": "v",
         "showlegend": true,
         "type": "scatter",
         "x": [
          -1.3540606,
          1.8686541,
          -1.8359524,
          1.5383989,
          2.0088952,
          1.9937998,
          1.5543817,
          -1.8034322,
          1.5182892,
          2.0653753,
          -1.5538602,
          1.8443447,
          1.9339186,
          1.9452024,
          -1.4560844,
          -1.9321741,
          1.5226517,
          -1.5892891,
          -1.257003,
          1.9764929,
          1.598763,
          1.5698577,
          -1.039725
         ],
         "xaxis": "x",
         "y": [
          10.11641,
          8.556166,
          10.130509,
          8.54472,
          8.68595,
          8.670474,
          8.521031,
          10.114099,
          8.520405,
          8.655969,
          10.103879,
          8.574728,
          8.605491,
          8.624167,
          10.124715,
          10.1971445,
          8.5236025,
          10.233747,
          10.223014,
          8.670797,
          8.510089,
          8.525705,
          10.098156
         ],
         "yaxis": "y"
        },
        {
         "hovertemplate": "drift=test_3<br>0=%{x}<br>1=%{y}<extra></extra>",
         "legendgroup": "test_3",
         "marker": {
          "color": "#FECB52",
          "symbol": "circle"
         },
         "mode": "markers",
         "name": "test_3",
         "orientation": "v",
         "showlegend": true,
         "type": "scatter",
         "x": [
          13.251142,
          12.76398,
          13.352685,
          13.253226,
          12.397013,
          12.457413,
          13.183047,
          13.144452,
          12.3645935,
          13.146464,
          12.35986,
          12.5970125,
          13.3102865,
          13.273988,
          12.8393955,
          12.127469,
          12.606288,
          12.970733,
          13.062228,
          12.932594,
          13.145346,
          12.775409,
          12.772161,
          13.222223,
          12.995176,
          12.649726,
          12.501471,
          13.093903,
          12.359253,
          12.523261,
          12.910182,
          12.751597
         ],
         "xaxis": "x",
         "y": [
          -4.0808167,
          -4.639009,
          -4.1642623,
          -3.9416344,
          -4.5120645,
          -4.7197886,
          -4.32198,
          -4.1108913,
          -4.641276,
          -4.121482,
          -4.6046686,
          -4.003266,
          -4.090646,
          -3.893331,
          -4.7460976,
          1.994291,
          1.3700806,
          -3.9264264,
          -4.0701556,
          -4.5212274,
          -4.0912347,
          -4.6260533,
          -4.7539506,
          -4.3611383,
          -4.682111,
          -3.9324822,
          -4.1885896,
          -4.0051613,
          -4.6569514,
          -3.881637,
          -4.5463934,
          -4.5459433
         ],
         "yaxis": "y"
        },
        {
         "hovertemplate": "drift=test_0<br>0=%{x}<br>1=%{y}<extra></extra>",
         "legendgroup": "test_0",
         "marker": {
          "color": "#636efa",
          "symbol": "circle"
         },
         "mode": "markers",
         "name": "test_0",
         "orientation": "v",
         "showlegend": true,
         "type": "scatter",
         "x": [
          3.140126,
          2.5943596,
          2.7436283,
          -0.903409,
          2.750274,
          2.1383858,
          2.6782477,
          2.648064,
          2.6750126,
          2.3061905
         ],
         "xaxis": "x",
         "y": [
          8.303891,
          8.930435,
          8.8585005,
          10.095522,
          9.086349,
          8.69266,
          8.906459,
          8.931471,
          8.776897,
          8.860303
         ],
         "yaxis": "y"
        }
       ],
       "layout": {
        "legend": {
         "title": {
          "text": "drift"
         },
         "tracegroupgap": 0
        },
        "margin": {
         "t": 60
        },
        "template": {
         "data": {
          "bar": [
           {
            "error_x": {
             "color": "#2a3f5f"
            },
            "error_y": {
             "color": "#2a3f5f"
            },
            "marker": {
             "line": {
              "color": "#E5ECF6",
              "width": 0.5
             },
             "pattern": {
              "fillmode": "overlay",
              "size": 10,
              "solidity": 0.2
             }
            },
            "type": "bar"
           }
          ],
          "barpolar": [
           {
            "marker": {
             "line": {
              "color": "#E5ECF6",
              "width": 0.5
             },
             "pattern": {
              "fillmode": "overlay",
              "size": 10,
              "solidity": 0.2
             }
            },
            "type": "barpolar"
           }
          ],
          "carpet": [
           {
            "aaxis": {
             "endlinecolor": "#2a3f5f",
             "gridcolor": "white",
             "linecolor": "white",
             "minorgridcolor": "white",
             "startlinecolor": "#2a3f5f"
            },
            "baxis": {
             "endlinecolor": "#2a3f5f",
             "gridcolor": "white",
             "linecolor": "white",
             "minorgridcolor": "white",
             "startlinecolor": "#2a3f5f"
            },
            "type": "carpet"
           }
          ],
          "choropleth": [
           {
            "colorbar": {
             "outlinewidth": 0,
             "ticks": ""
            },
            "type": "choropleth"
           }
          ],
          "contour": [
           {
            "colorbar": {
             "outlinewidth": 0,
             "ticks": ""
            },
            "colorscale": [
             [
              0,
              "#0d0887"
             ],
             [
              0.1111111111111111,
              "#46039f"
             ],
             [
              0.2222222222222222,
              "#7201a8"
             ],
             [
              0.3333333333333333,
              "#9c179e"
             ],
             [
              0.4444444444444444,
              "#bd3786"
             ],
             [
              0.5555555555555556,
              "#d8576b"
             ],
             [
              0.6666666666666666,
              "#ed7953"
             ],
             [
              0.7777777777777778,
              "#fb9f3a"
             ],
             [
              0.8888888888888888,
              "#fdca26"
             ],
             [
              1,
              "#f0f921"
             ]
            ],
            "type": "contour"
           }
          ],
          "contourcarpet": [
           {
            "colorbar": {
             "outlinewidth": 0,
             "ticks": ""
            },
            "type": "contourcarpet"
           }
          ],
          "heatmap": [
           {
            "colorbar": {
             "outlinewidth": 0,
             "ticks": ""
            },
            "colorscale": [
             [
              0,
              "#0d0887"
             ],
             [
              0.1111111111111111,
              "#46039f"
             ],
             [
              0.2222222222222222,
              "#7201a8"
             ],
             [
              0.3333333333333333,
              "#9c179e"
             ],
             [
              0.4444444444444444,
              "#bd3786"
             ],
             [
              0.5555555555555556,
              "#d8576b"
             ],
             [
              0.6666666666666666,
              "#ed7953"
             ],
             [
              0.7777777777777778,
              "#fb9f3a"
             ],
             [
              0.8888888888888888,
              "#fdca26"
             ],
             [
              1,
              "#f0f921"
             ]
            ],
            "type": "heatmap"
           }
          ],
          "heatmapgl": [
           {
            "colorbar": {
             "outlinewidth": 0,
             "ticks": ""
            },
            "colorscale": [
             [
              0,
              "#0d0887"
             ],
             [
              0.1111111111111111,
              "#46039f"
             ],
             [
              0.2222222222222222,
              "#7201a8"
             ],
             [
              0.3333333333333333,
              "#9c179e"
             ],
             [
              0.4444444444444444,
              "#bd3786"
             ],
             [
              0.5555555555555556,
              "#d8576b"
             ],
             [
              0.6666666666666666,
              "#ed7953"
             ],
             [
              0.7777777777777778,
              "#fb9f3a"
             ],
             [
              0.8888888888888888,
              "#fdca26"
             ],
             [
              1,
              "#f0f921"
             ]
            ],
            "type": "heatmapgl"
           }
          ],
          "histogram": [
           {
            "marker": {
             "pattern": {
              "fillmode": "overlay",
              "size": 10,
              "solidity": 0.2
             }
            },
            "type": "histogram"
           }
          ],
          "histogram2d": [
           {
            "colorbar": {
             "outlinewidth": 0,
             "ticks": ""
            },
            "colorscale": [
             [
              0,
              "#0d0887"
             ],
             [
              0.1111111111111111,
              "#46039f"
             ],
             [
              0.2222222222222222,
              "#7201a8"
             ],
             [
              0.3333333333333333,
              "#9c179e"
             ],
             [
              0.4444444444444444,
              "#bd3786"
             ],
             [
              0.5555555555555556,
              "#d8576b"
             ],
             [
              0.6666666666666666,
              "#ed7953"
             ],
             [
              0.7777777777777778,
              "#fb9f3a"
             ],
             [
              0.8888888888888888,
              "#fdca26"
             ],
             [
              1,
              "#f0f921"
             ]
            ],
            "type": "histogram2d"
           }
          ],
          "histogram2dcontour": [
           {
            "colorbar": {
             "outlinewidth": 0,
             "ticks": ""
            },
            "colorscale": [
             [
              0,
              "#0d0887"
             ],
             [
              0.1111111111111111,
              "#46039f"
             ],
             [
              0.2222222222222222,
              "#7201a8"
             ],
             [
              0.3333333333333333,
              "#9c179e"
             ],
             [
              0.4444444444444444,
              "#bd3786"
             ],
             [
              0.5555555555555556,
              "#d8576b"
             ],
             [
              0.6666666666666666,
              "#ed7953"
             ],
             [
              0.7777777777777778,
              "#fb9f3a"
             ],
             [
              0.8888888888888888,
              "#fdca26"
             ],
             [
              1,
              "#f0f921"
             ]
            ],
            "type": "histogram2dcontour"
           }
          ],
          "mesh3d": [
           {
            "colorbar": {
             "outlinewidth": 0,
             "ticks": ""
            },
            "type": "mesh3d"
           }
          ],
          "parcoords": [
           {
            "line": {
             "colorbar": {
              "outlinewidth": 0,
              "ticks": ""
             }
            },
            "type": "parcoords"
           }
          ],
          "pie": [
           {
            "automargin": true,
            "type": "pie"
           }
          ],
          "scatter": [
           {
            "fillpattern": {
             "fillmode": "overlay",
             "size": 10,
             "solidity": 0.2
            },
            "type": "scatter"
           }
          ],
          "scatter3d": [
           {
            "line": {
             "colorbar": {
              "outlinewidth": 0,
              "ticks": ""
             }
            },
            "marker": {
             "colorbar": {
              "outlinewidth": 0,
              "ticks": ""
             }
            },
            "type": "scatter3d"
           }
          ],
          "scattercarpet": [
           {
            "marker": {
             "colorbar": {
              "outlinewidth": 0,
              "ticks": ""
             }
            },
            "type": "scattercarpet"
           }
          ],
          "scattergeo": [
           {
            "marker": {
             "colorbar": {
              "outlinewidth": 0,
              "ticks": ""
             }
            },
            "type": "scattergeo"
           }
          ],
          "scattergl": [
           {
            "marker": {
             "colorbar": {
              "outlinewidth": 0,
              "ticks": ""
             }
            },
            "type": "scattergl"
           }
          ],
          "scattermapbox": [
           {
            "marker": {
             "colorbar": {
              "outlinewidth": 0,
              "ticks": ""
             }
            },
            "type": "scattermapbox"
           }
          ],
          "scatterpolar": [
           {
            "marker": {
             "colorbar": {
              "outlinewidth": 0,
              "ticks": ""
             }
            },
            "type": "scatterpolar"
           }
          ],
          "scatterpolargl": [
           {
            "marker": {
             "colorbar": {
              "outlinewidth": 0,
              "ticks": ""
             }
            },
            "type": "scatterpolargl"
           }
          ],
          "scatterternary": [
           {
            "marker": {
             "colorbar": {
              "outlinewidth": 0,
              "ticks": ""
             }
            },
            "type": "scatterternary"
           }
          ],
          "surface": [
           {
            "colorbar": {
             "outlinewidth": 0,
             "ticks": ""
            },
            "colorscale": [
             [
              0,
              "#0d0887"
             ],
             [
              0.1111111111111111,
              "#46039f"
             ],
             [
              0.2222222222222222,
              "#7201a8"
             ],
             [
              0.3333333333333333,
              "#9c179e"
             ],
             [
              0.4444444444444444,
              "#bd3786"
             ],
             [
              0.5555555555555556,
              "#d8576b"
             ],
             [
              0.6666666666666666,
              "#ed7953"
             ],
             [
              0.7777777777777778,
              "#fb9f3a"
             ],
             [
              0.8888888888888888,
              "#fdca26"
             ],
             [
              1,
              "#f0f921"
             ]
            ],
            "type": "surface"
           }
          ],
          "table": [
           {
            "cells": {
             "fill": {
              "color": "#EBF0F8"
             },
             "line": {
              "color": "white"
             }
            },
            "header": {
             "fill": {
              "color": "#C8D4E3"
             },
             "line": {
              "color": "white"
             }
            },
            "type": "table"
           }
          ]
         },
         "layout": {
          "annotationdefaults": {
           "arrowcolor": "#2a3f5f",
           "arrowhead": 0,
           "arrowwidth": 1
          },
          "autotypenumbers": "strict",
          "coloraxis": {
           "colorbar": {
            "outlinewidth": 0,
            "ticks": ""
           }
          },
          "colorscale": {
           "diverging": [
            [
             0,
             "#8e0152"
            ],
            [
             0.1,
             "#c51b7d"
            ],
            [
             0.2,
             "#de77ae"
            ],
            [
             0.3,
             "#f1b6da"
            ],
            [
             0.4,
             "#fde0ef"
            ],
            [
             0.5,
             "#f7f7f7"
            ],
            [
             0.6,
             "#e6f5d0"
            ],
            [
             0.7,
             "#b8e186"
            ],
            [
             0.8,
             "#7fbc41"
            ],
            [
             0.9,
             "#4d9221"
            ],
            [
             1,
             "#276419"
            ]
           ],
           "sequential": [
            [
             0,
             "#0d0887"
            ],
            [
             0.1111111111111111,
             "#46039f"
            ],
            [
             0.2222222222222222,
             "#7201a8"
            ],
            [
             0.3333333333333333,
             "#9c179e"
            ],
            [
             0.4444444444444444,
             "#bd3786"
            ],
            [
             0.5555555555555556,
             "#d8576b"
            ],
            [
             0.6666666666666666,
             "#ed7953"
            ],
            [
             0.7777777777777778,
             "#fb9f3a"
            ],
            [
             0.8888888888888888,
             "#fdca26"
            ],
            [
             1,
             "#f0f921"
            ]
           ],
           "sequentialminus": [
            [
             0,
             "#0d0887"
            ],
            [
             0.1111111111111111,
             "#46039f"
            ],
            [
             0.2222222222222222,
             "#7201a8"
            ],
            [
             0.3333333333333333,
             "#9c179e"
            ],
            [
             0.4444444444444444,
             "#bd3786"
            ],
            [
             0.5555555555555556,
             "#d8576b"
            ],
            [
             0.6666666666666666,
             "#ed7953"
            ],
            [
             0.7777777777777778,
             "#fb9f3a"
            ],
            [
             0.8888888888888888,
             "#fdca26"
            ],
            [
             1,
             "#f0f921"
            ]
           ]
          },
          "colorway": [
           "#636efa",
           "#EF553B",
           "#00cc96",
           "#ab63fa",
           "#FFA15A",
           "#19d3f3",
           "#FF6692",
           "#B6E880",
           "#FF97FF",
           "#FECB52"
          ],
          "font": {
           "color": "#2a3f5f"
          },
          "geo": {
           "bgcolor": "white",
           "lakecolor": "white",
           "landcolor": "#E5ECF6",
           "showlakes": true,
           "showland": true,
           "subunitcolor": "white"
          },
          "hoverlabel": {
           "align": "left"
          },
          "hovermode": "closest",
          "mapbox": {
           "style": "light"
          },
          "paper_bgcolor": "white",
          "plot_bgcolor": "#E5ECF6",
          "polar": {
           "angularaxis": {
            "gridcolor": "white",
            "linecolor": "white",
            "ticks": ""
           },
           "bgcolor": "#E5ECF6",
           "radialaxis": {
            "gridcolor": "white",
            "linecolor": "white",
            "ticks": ""
           }
          },
          "scene": {
           "xaxis": {
            "backgroundcolor": "#E5ECF6",
            "gridcolor": "white",
            "gridwidth": 2,
            "linecolor": "white",
            "showbackground": true,
            "ticks": "",
            "zerolinecolor": "white"
           },
           "yaxis": {
            "backgroundcolor": "#E5ECF6",
            "gridcolor": "white",
            "gridwidth": 2,
            "linecolor": "white",
            "showbackground": true,
            "ticks": "",
            "zerolinecolor": "white"
           },
           "zaxis": {
            "backgroundcolor": "#E5ECF6",
            "gridcolor": "white",
            "gridwidth": 2,
            "linecolor": "white",
            "showbackground": true,
            "ticks": "",
            "zerolinecolor": "white"
           }
          },
          "shapedefaults": {
           "line": {
            "color": "#2a3f5f"
           }
          },
          "ternary": {
           "aaxis": {
            "gridcolor": "white",
            "linecolor": "white",
            "ticks": ""
           },
           "baxis": {
            "gridcolor": "white",
            "linecolor": "white",
            "ticks": ""
           },
           "bgcolor": "#E5ECF6",
           "caxis": {
            "gridcolor": "white",
            "linecolor": "white",
            "ticks": ""
           }
          },
          "title": {
           "x": 0.05
          },
          "xaxis": {
           "automargin": true,
           "gridcolor": "white",
           "linecolor": "white",
           "ticks": "",
           "title": {
            "standoff": 15
           },
           "zerolinecolor": "white",
           "zerolinewidth": 2
          },
          "yaxis": {
           "automargin": true,
           "gridcolor": "white",
           "linecolor": "white",
           "ticks": "",
           "title": {
            "standoff": 15
           },
           "zerolinecolor": "white",
           "zerolinewidth": 2
          }
         }
        },
        "xaxis": {
         "anchor": "y",
         "domain": [
          0,
          1
         ],
         "title": {
          "text": "0"
         }
        },
        "yaxis": {
         "anchor": "x",
         "domain": [
          0,
          1
         ],
         "title": {
          "text": "1"
         }
        }
       }
      },
      "text/html": [
       "<div>                            <div id=\"6c3c5dc4-f009-4c3b-b790-782720b41c78\" class=\"plotly-graph-div\" style=\"height:525px; width:100%;\"></div>            <script type=\"text/javascript\">                require([\"plotly\"], function(Plotly) {                    window.PLOTLYENV=window.PLOTLYENV || {};                                    if (document.getElementById(\"6c3c5dc4-f009-4c3b-b790-782720b41c78\")) {                    Plotly.newPlot(                        \"6c3c5dc4-f009-4c3b-b790-782720b41c78\",                        [{\"hovertemplate\":\"drift=train_4\\u003cbr\\u003e0=%{x}\\u003cbr\\u003e1=%{y}\\u003cextra\\u003e\\u003c\\u002fextra\\u003e\",\"legendgroup\":\"train_4\",\"marker\":{\"color\":\"#636efa\",\"symbol\":\"circle\"},\"mode\":\"markers\",\"name\":\"train_4\",\"orientation\":\"v\",\"showlegend\":true,\"x\":[9.573698,11.539484,9.865912,8.838832,10.076118,9.914496,10.233852,10.744341,8.88222,9.759227,9.002313,9.475433,10.71898,11.710006,10.121945,10.482652,9.126888,10.679255,10.057151,10.554279,9.221488,9.796147,10.131495,11.598989,10.621214,10.318917,9.915059,9.522837,8.819747,10.737803,10.955323,8.908991,10.007016,12.290788,2.866899,10.796009,9.048765,12.554622,9.334405,11.257574,8.867454,3.0212433,11.372892,9.635368,11.528791,11.108524,10.032647,10.05831,11.630757,11.184195,9.1655655,10.184284,8.877225,8.876585,9.919739,10.075376,10.767954,11.222255,10.2991905,11.239642,11.70174,9.87742,11.728904,9.262532,10.423138,11.516324,12.608997,9.30627,10.288356,9.199226,2.9957666,12.703366,10.596271,10.319863,10.646752,9.641908,12.465919,9.124784,9.964611,9.8608465,12.348556,11.110297,9.508333,12.575473,9.946338,11.62768,8.839213,8.868927,9.618598,10.03463,9.956311,12.5733,10.428265,10.336816,10.012505,12.425947,12.5080185,8.88152,10.94814,9.111079,11.596563,11.1757345,11.728377,11.691224,9.147065,9.561977,9.671507,11.291947,9.970513,10.979124,11.6567745,10.494156,9.439943,11.374657,11.414689,9.75378,11.312141,9.408081,8.82069,10.043787,9.963051,9.87397,9.269838,9.505254,11.605626,9.080636,10.725249,9.940064,9.900539,11.401937,9.92823,11.4919615,9.958101,10.682415,11.340027,9.071752,10.270173,9.4185705,8.90441,10.239346,10.040825,11.7240305,10.103512,11.54525,9.658471,10.290806,9.538805,10.215306,9.862146,11.496303,12.482721,11.133662,9.96851,10.012954,12.375708,9.585819,10.6835575,9.799447,11.490508,9.582632,11.509644,11.210298,10.257613,8.985929,12.568192,10.21591,10.167739,11.56103,11.650623,10.741448,9.671189,11.56716,10.182693,9.05462],\"xaxis\":\"x\",\"y\":[8.3561125,8.316086,8.281409,8.193188,9.309224,8.706537,9.544782,8.105737,8.088569,8.725421,8.193376,9.213839,9.069314,7.8283215,8.563007,9.550639,10.355197,8.046292,8.373626,9.409939,10.363462,8.524911,9.317056,7.616141,9.278802,8.204684,8.517796,9.191499,8.136937,8.120936,8.032186,8.126302,10.252344,5.667221,3.3909771,8.038345,9.058568,6.1053014,8.487827,5.6349163,7.8517523,2.8729513,8.438618,9.013449,7.8445992,5.432492,9.123162,9.750837,7.7189956,5.2417655,9.003968,8.068606,7.8982067,8.211206,8.631146,9.904574,8.111945,5.648489,9.846952,5.2291393,7.749418,9.593343,6.69494,8.983542,9.49427,8.384573,6.100753,9.081306,9.887822,8.931804,2.766411,5.5301743,9.352908,8.851581,8.078322,9.420456,6.0895696,9.049683,8.662201,8.684076,6.0201664,8.571082,8.452959,6.067283,9.118531,7.806486,7.9399915,7.8563347,9.488577,7.956803,10.30651,6.079556,9.51834,9.71305,9.0515785,6.116833,6.031324,8.0305805,8.605371,10.395196,7.7492967,5.700321,7.9122715,8.002214,8.958217,8.8700485,8.948111,5.1987767,8.602837,8.081808,7.2286353,9.645244,8.377337,8.478547,7.9236083,8.468938,5.5329866,10.392844,8.138371,8.968076,10.30529,10.30368,9.061102,8.797547,7.671682,10.412385,8.084463,9.751944,8.273076,5.531579,10.226553,8.430807,10.310123,8.140322,5.235544,9.068869,9.89403,8.880916,8.009248,9.965521,9.312468,7.8315487,9.828348,5.5058556,8.965482,9.974429,9.3454485,9.382102,8.295911,8.386093,6.076412,5.7287636,9.73178,9.056723,6.0062103,8.317069,9.153606,8.374256,7.445721,9.460016,5.39472,5.2138023,9.969257,8.049412,6.068563,10.020481,8.863022,7.720375,5.4099703,9.266516,9.478227,8.305688,9.334388,9.114765],\"yaxis\":\"y\",\"type\":\"scatter\"},{\"hovertemplate\":\"drift=train_2\\u003cbr\\u003e0=%{x}\\u003cbr\\u003e1=%{y}\\u003cextra\\u003e\\u003c\\u002fextra\\u003e\",\"legendgroup\":\"train_2\",\"marker\":{\"color\":\"#EF553B\",\"symbol\":\"circle\"},\"mode\":\"markers\",\"name\":\"train_2\",\"orientation\":\"v\",\"showlegend\":true,\"x\":[4.2692823,5.2559724,5.170615,2.6186535,4.200272,4.6101074,5.821892,5.1805377,4.1084046,4.219248,5.0422378,5.16736,2.9273705,2.7747831,2.6101358,2.9118962,4.3185167,4.187639,5.0581446,5.8244867,3.003578,2.7755747,2.882586,5.14686,2.8348846,7.2846465,5.4069924,4.2970276,2.9836202,4.924562,4.943728,5.073758,2.79692,5.1535215,4.2024884,4.9346385,4.9127374,5.4432425,8.482984,4.314842,5.0863333,5.4876847,5.310673,4.518409,3.061077,5.418888,3.5614061,5.3603544,4.9503307,4.5883045,5.190662,5.452598,2.841313,4.9229813,5.1309166,5.098639,2.6223433,4.069248,4.0981917,2.746985,5.3295217,2.7647374,2.9339468,2.8326526,4.6569395,4.902004,4.636666,3.5197558,4.6201177,4.267021,2.800654,2.8582833,5.885989,2.8024504,5.2708907,2.7373772,4.198337,3.4572463,3.7602904,2.955386,4.295027,4.182192,2.9150124,2.820443,5.2096195,2.6297636,7.4132295,5.3693595,4.9939303,2.9611197,2.8997028,2.9866316,4.2628136,2.7241325,4.2475376,5.296876,4.671523,5.0107327,2.9376075,5.440732,3.082993,2.8996453,3.6077714,6.973109,5.4357643,5.509774,4.851656,3.4971075,5.057256,5.3863797,4.250617,5.8111396,2.9364648,4.5260735,4.6092124,5.119447,5.905941,5.898079,3.53201,5.8122783,2.702175,2.9470809,5.0908256,4.8594155],\"xaxis\":\"x\",\"y\":[1.4588616,1.301783,-0.7165317,1.5354387,-2.9851663,1.249303,1.8539574,-0.7452092,-3.08859,-2.9843824,0.013520956,-0.6852372,2.7920065,3.5927143,1.5309932,2.6983917,-2.8922262,-3.012312,0.5672746,1.9126425,2.826309,3.4673495,2.7315674,-0.663957,1.6929282,1.7256229,1.3459758,-2.9135592,1.9524845,-0.22584282,-0.27673554,1.8867066,3.5482311,-0.704388,-2.9983823,-0.13066424,-0.022086399,1.3915656,3.119377,1.8108835,-0.035262708,1.8927554,1.8863491,1.5344021,1.6241095,1.8403233,1.7263716,1.4450983,0.08612982,1.2917536,-0.73760235,1.8750156,3.6729896,-0.15231971,-0.62616926,-0.4699647,1.5325497,1.8910538,-3.0623963,3.407409,1.8386008,1.5698941,1.9504086,1.6256559,1.7135825,-0.22391352,1.193943,1.7238202,1.1746451,-2.9422264,1.5901567,1.5305196,1.8657329,3.2546809,1.3395915,3.4308937,-2.995685,1.693108,1.540067,1.8437861,-2.9118798,-3.0123658,2.7669516,3.3467915,-0.7748236,1.5490214,1.758737,1.7998801,0.07816246,2.7675276,2.6985724,2.6550028,-2.9470649,3.4719968,-2.9608028,1.3393376,1.3766397,-0.0052725994,2.7314749,1.3848867,1.6595302,2.7406855,1.6151936,1.5417305,1.8642293,1.7366905,-0.18589641,1.6381726,-0.10242372,1.5214541,-2.9530349,1.8511358,2.714602,1.4574778,1.1527318,-0.74906677,1.8487273,1.8143971,1.6515158,1.8900846,3.4097948,1.9273334,-0.54563093,-0.12579198],\"yaxis\":\"y\",\"type\":\"scatter\"},{\"hovertemplate\":\"drift=train_0\\u003cbr\\u003e0=%{x}\\u003cbr\\u003e1=%{y}\\u003cextra\\u003e\\u003c\\u002fextra\\u003e\",\"legendgroup\":\"train_0\",\"marker\":{\"color\":\"#00cc96\",\"symbol\":\"circle\"},\"mode\":\"markers\",\"name\":\"train_0\",\"orientation\":\"v\",\"showlegend\":true,\"x\":[12.198328,9.941081,4.069397,9.888545,9.957221,12.353026,3.8202615,4.3136635,11.5527115,4.352975,3.442076,12.420038,13.178725,2.7218156,8.999558,13.243501,12.099032,4.3486657,4.188989,10.062129,9.913207,12.560116,2.8214478,10.642106,8.904105,9.849763,12.548324,4.2415543,8.944405,12.268197,12.029372,13.239948,12.421082,12.454607,11.842101,12.53563,9.478825,9.269037,12.098634,13.051042,3.7304587,10.149774,13.230057,10.900002,12.131118,12.021375,3.6825807,12.415735,10.278588,12.286584,4.317659,4.14983,12.390118,12.671063,9.761727,8.748443,12.501487,4.226177,13.258255,11.5915785,12.456347,11.871781,12.009094,8.9365835,13.037391,12.353249,8.868157,4.256651,11.772574,12.055013,12.60503,2.768944,9.54844,13.078823,12.670858,12.582686,9.996724,12.161852,-0.8205842,11.318936,9.204363,9.959478,12.775588,3.6519387,12.307333,3.1302266,4.1889596,9.794931,12.477108,2.7960029,11.610463,9.616173,12.289064,11.945161,13.223277,13.234074,10.713656,12.097794,3.48009,3.262432,12.907106,2.7656183,12.589876,2.8145905,12.5139885,3.7037213,12.187979,13.079276,13.23614,12.643163,9.11271,12.553167,12.964277,4.134201,10.172787,10.819718,12.237231,12.520662,12.678727,8.774676,10.412182,10.638447,11.913414,11.982768,12.704782,12.580323,10.228164,2.7693102,8.801565,12.420997,12.578987,12.329321,10.439796,2.888354,2.818536,3.822669,12.281079,10.046485,4.3399167,10.430267,12.727342,12.515626,10.599206,4.3760524,12.075098,4.217089,10.733908,12.037144,12.622251],\"xaxis\":\"x\",\"y\":[2.4243443,1.7461566,8.415787,1.7678702,1.700396,2.432905,8.404459,8.43447,5.4695463,8.434578,8.289482,-4.4459767,-4.292687,8.808883,10.452029,-4.2901816,2.055611,8.409121,8.446157,2.660213,2.6507902,1.3971988,3.6740942,2.874424,10.520689,2.806672,1.4548147,8.503539,10.490631,2.2894645,2.3398714,-4.193368,2.3034163,1.501454,1.9571747,1.389941,2.8221457,8.418057,1.9639331,-4.2202077,8.265978,2.8580425,-4.2134585,2.5745728,2.1910863,1.9322498,8.347926,2.4260085,2.5454977,1.8910927,8.417654,8.45473,2.424307,5.526795,2.763032,3.166819,-4.6347785,8.484865,-4.2102613,2.2287297,5.1686244,1.9646266,1.8731284,10.495174,-4.248287,1.8005815,10.344929,8.508623,2.1298232,1.8954095,-4.6982694,8.864336,2.768991,-4.1903653,5.48627,-4.6767516,2.40394,2.3457022,10.063486,5.270587,2.6125753,1.7617922,-4.6252613,8.290619,1.9131486,8.206959,8.447795,2.7441623,1.5764236,3.6221168,5.4230556,2.3653338,1.8987428,2.174852,-4.2834406,-3.9818332,2.6044624,1.9775977,8.328856,8.339954,-4.4688616,3.635182,1.3847067,8.572262,5.698097,8.330508,2.4204836,-4.231585,-4.269795,-4.7260914,2.537147,1.424528,-4.150697,8.469093,2.8727212,2.63869,2.1643748,1.4438281,5.455979,10.3634815,2.6652088,2.8860874,1.857218,1.8046043,-3.9394155,-4.0577884,2.486592,3.6206563,10.437061,2.4570167,1.3888985,5.4296155,2.8133078,8.450548,8.891484,8.408579,1.8776419,2.689572,8.54076,2.8484554,5.486815,-4.7197948,2.5043,8.557305,2.3892093,8.515387,2.5536191,1.8519956,1.3431405],\"yaxis\":\"y\",\"type\":\"scatter\"},{\"hovertemplate\":\"drift=train_1\\u003cbr\\u003e0=%{x}\\u003cbr\\u003e1=%{y}\\u003cextra\\u003e\\u003c\\u002fextra\\u003e\",\"legendgroup\":\"train_1\",\"marker\":{\"color\":\"#ab63fa\",\"symbol\":\"circle\"},\"mode\":\"markers\",\"name\":\"train_1\",\"orientation\":\"v\",\"showlegend\":true,\"x\":[3.3432915,-0.8565029,3.804404,-1.0696315,-0.8935709,3.1003134,-1.6695039,-1.9343215,-1.5682062,-1.130821,-1.7038965,-0.942616,2.630744,-1.3698711,2.1489105,-1.2995114,-1.9622874,-1.9687684,-1.7433122,2.4762273,2.5386164,-1.252561,-1.6370212,-0.92240417,2.653916,-1.7171122,-1.174932,3.09257,-1.4390564,3.503006,-1.1510731,3.0820014,1.5156679,-1.6362257,-1.58238,2.651467,-1.8609617,-1.444537,-1.6852204,-1.7071937,3.0939689,-1.3913136,-1.9124924,3.0689075,2.4205325,2.6905339,-1.3115727,3.1009865,3.2763054,-1.9488527,2.4601905,2.3883111,2.3825681,2.3307028,2.3932333,2.4570408,-1.2966758,-1.9270886,-1.4329343,1.5156691,-1.9312015,3.0995228,2.5130198,3.1885624,-1.4915009,-1.8953506,-1.2682251,-1.2382605],\"xaxis\":\"x\",\"y\":[8.294924,10.027754,8.386508,10.126129,10.087441,7.699859,9.920955,10.220161,9.81406,9.949812,9.8815565,10.136174,8.490626,9.546287,8.5995655,9.411848,10.254053,10.244563,10.155544,8.611524,8.89801,9.899949,9.983824,10.108427,8.976182,9.881305,10.131171,7.8028107,9.673244,8.377352,10.182383,7.6378965,8.52141,9.966619,10.194414,9.020907,10.148824,10.033183,10.068085,9.900618,7.651091,10.09587,10.172478,7.70231,8.679462,8.950179,9.431833,7.8024263,8.332672,10.195741,8.657504,8.6444845,8.6060095,8.858382,8.737633,8.664379,10.124391,10.226695,9.620649,8.518126,10.125891,7.736829,8.680748,8.196846,9.63847,10.259456,10.087158,9.336626],\"yaxis\":\"y\",\"type\":\"scatter\"},{\"hovertemplate\":\"drift=train_3\\u003cbr\\u003e0=%{x}\\u003cbr\\u003e1=%{y}\\u003cextra\\u003e\\u003c\\u002fextra\\u003e\",\"legendgroup\":\"train_3\",\"marker\":{\"color\":\"#FFA15A\",\"symbol\":\"circle\"},\"mode\":\"markers\",\"name\":\"train_3\",\"orientation\":\"v\",\"showlegend\":true,\"x\":[9.52623,8.539525,9.871777,10.323358,8.567668,10.190004,9.524546,10.315781,9.276396,7.8788295,9.116232,9.912129,9.118912,8.741645,7.91823,11.170192,7.5927086,9.918837,9.17683,4.759157,10.208594,8.73031,9.959019,7.572898,8.35125,9.318161,10.348063,9.308272,10.455763,9.716966,9.764939,9.183202,9.215952,9.520032,9.880365,9.425567,9.255291,8.680839,9.162542,9.830109,9.34774,9.086095,10.264877,10.323553,9.904566,11.243182,8.926695,10.253904,9.743557,9.272551,8.295797,9.344322,10.371644,10.600623,9.213337,8.734316,9.419632,9.556293,9.893016,9.192957,9.173903,9.023698,8.95223,10.223802,9.714725,8.83487,10.265785,9.803672,9.323485,9.4491415,9.71049,10.082922,10.272105,9.672868,9.097703,7.8110814,9.916326,9.219559,9.422266,8.425998,9.315407,9.117942,9.237369,10.2415,9.495127,8.852033,9.262633,8.8784685,10.591257,9.428652,8.698707,8.794193,9.191762,10.04701,9.160892,9.209355,9.335441,7.895378,10.592823,9.152995,9.118439,9.16815,9.373362,9.3261175,9.170258,9.947842,8.775254,7.484489],\"xaxis\":\"x\",\"y\":[3.8996053,3.095984,1.7728766,3.7711244,1.9962019,2.7362247,3.7534256,3.7982628,2.1676204,1.9230472,4.1463027,3.1916618,4.3321285,2.2844222,1.9363757,5.2806144,1.8732145,1.8390408,4.0801563,2.1404552,3.8199158,3.1280468,3.728144,1.8364097,2.2324417,3.7116601,3.3949363,3.8028371,2.3528354,3.200701,3.2129226,2.776303,1.8808566,3.3059905,1.7081662,2.4217525,1.8421648,2.952893,3.2602923,1.780095,3.982048,3.5067308,2.8342645,3.615831,1.7104846,5.288519,3.1943471,3.8261452,2.0934618,1.8493791,2.0523343,3.95988,3.751524,2.9342766,4.031725,2.2455714,2.6131423,2.9338045,3.3474698,3.6547348,4.1146884,2.458635,3.7065763,3.8120909,2.3488584,3.7278697,3.8254771,3.4866788,3.538448,3.875699,3.3927329,2.882874,3.8216746,2.124162,2.4487212,1.9909934,3.2169485,1.9939911,3.1544876,1.9878528,3.589454,3.8491278,3.906559,2.8095527,3.2306733,3.2883508,3.4585059,3.1829426,2.7514937,2.9764352,2.8926964,2.2172272,4.1759725,2.338691,1.8853915,1.9869208,3.6879575,1.9349858,3.077734,3.5103998,3.7470758,1.6942114,3.944285,3.5722094,4.2592125,2.855864,2.265048,1.8084803],\"yaxis\":\"y\",\"type\":\"scatter\"},{\"hovertemplate\":\"drift=test_5\\u003cbr\\u003e0=%{x}\\u003cbr\\u003e1=%{y}\\u003cextra\\u003e\\u003c\\u002fextra\\u003e\",\"legendgroup\":\"test_5\",\"marker\":{\"color\":\"#19d3f3\",\"symbol\":\"circle\"},\"mode\":\"markers\",\"name\":\"test_5\",\"orientation\":\"v\",\"showlegend\":true,\"x\":[10.500458,10.071592,10.415555,10.71732,10.819422,11.4372425,8.8411045,12.656746,9.897391,2.7679524,10.025689,9.547689,11.44156,9.88641,10.274342,9.355403,9.317628,9.451112,12.720976,12.741633,11.125137,8.968905,2.8511026,12.748566,10.737765,11.731881,9.564525,10.617004,12.015809,9.006199,12.470396,8.902966,10.042967,10.103915,11.433694,11.67987,12.063586,11.665734,9.136573,9.762198,10.335914,12.692067,12.567126,10.822477,11.492191,9.571497,9.834952,9.273045,8.8673,10.0550375,9.231614,10.53284,12.445583,11.700706,12.412519],\"xaxis\":\"x\",\"y\":[9.686231,8.939576,8.770448,9.042165,8.03981,8.411617,7.855556,5.581276,8.858617,3.6126454,9.960639,9.20965,6.1460915,10.260075,9.377601,8.006869,9.185556,8.902878,5.4789,5.491769,5.1373277,10.467263,3.6597846,5.509521,8.240669,7.880973,9.039425,8.602239,2.6110432,9.048312,6.080167,8.159326,9.34205,9.085734,5.4592896,5.3545165,2.3960552,8.142141,9.108697,8.576639,9.837579,5.4669642,6.133888,8.848434,5.78911,9.484516,8.357154,8.464793,10.320037,9.328317,10.4005165,9.554448,5.995167,5.4543657,6.0895143],\"yaxis\":\"y\",\"type\":\"scatter\"},{\"hovertemplate\":\"drift=test_4\\u003cbr\\u003e0=%{x}\\u003cbr\\u003e1=%{y}\\u003cextra\\u003e\\u003c\\u002fextra\\u003e\",\"legendgroup\":\"test_4\",\"marker\":{\"color\":\"#FF6692\",\"symbol\":\"circle\"},\"mode\":\"markers\",\"name\":\"test_4\",\"orientation\":\"v\",\"showlegend\":true,\"x\":[4.4914136,5.098576,5.171982,2.942314,5.3196893,4.4762077,5.251647,4.918993,6.9743066,5.0224466,4.1852164,2.6694546,6.922862,5.0437512,5.250046,4.276937,3.0047383,3.1508768,4.9334593,2.917123,3.022579,2.9471037,5.416903,3.51236,3.9447198,2.9348617,2.8710601,5.4655943,4.222932,5.189048,5.2555895,3.5492923,5.0416207,3.9825592,5.227696,5.8995667,2.9514046,4.1248097,5.6920557],\"xaxis\":\"x\",\"y\":[1.16491,1.9659324,-0.7107579,1.8930695,1.296047,1.3530647,1.2605462,-0.2189161,1.5510025,-0.081411414,1.8560716,1.5696507,1.4834342,-0.57473195,1.31335,-2.9301775,1.677312,1.7118245,0.007332261,1.8879135,1.6242403,1.9287345,1.7987586,1.6521343,1.8803308,2.701294,2.7751036,1.638034,-2.9812849,-0.74998146,1.3052299,1.7264127,-0.21805829,1.8625741,1.2971349,1.8370271,1.9180119,-3.0756936,1.9660497],\"yaxis\":\"y\",\"type\":\"scatter\"},{\"hovertemplate\":\"drift=test_2\\u003cbr\\u003e0=%{x}\\u003cbr\\u003e1=%{y}\\u003cextra\\u003e\\u003c\\u002fextra\\u003e\",\"legendgroup\":\"test_2\",\"marker\":{\"color\":\"#B6E880\",\"symbol\":\"circle\"},\"mode\":\"markers\",\"name\":\"test_2\",\"orientation\":\"v\",\"showlegend\":true,\"x\":[9.140657,12.439699,10.124947,9.404382,8.994803,9.326764,9.793476,8.783253,8.502705,9.15703,12.068867,9.6032915,10.044561,8.780462,9.680055,8.639836,10.025147,8.931507,9.398129,11.452375,9.245494,10.193587,10.494612,9.810964,8.82263,9.218471,8.143452,8.866873,10.760821,8.812323,10.297689,11.681953,9.239741,8.812177,12.028779,8.14707,9.106614],\"xaxis\":\"x\",\"y\":[3.6152604,2.4265997,2.5579512,1.8703623,3.7617705,2.001342,2.6675885,3.1976411,3.1004496,2.5147648,1.8208299,2.9234934,2.5648274,2.2720215,2.8008058,2.2198489,3.2100277,2.3184226,2.9058812,2.222752,2.5558074,2.3338208,3.0817697,2.702022,3.8494802,4.079909,1.9494945,3.7945502,2.5098672,2.2373765,3.7546394,2.2284212,4.0236964,3.763163,1.8362284,1.9331316,4.0007267],\"yaxis\":\"y\",\"type\":\"scatter\"},{\"hovertemplate\":\"drift=test_1\\u003cbr\\u003e0=%{x}\\u003cbr\\u003e1=%{y}\\u003cextra\\u003e\\u003c\\u002fextra\\u003e\",\"legendgroup\":\"test_1\",\"marker\":{\"color\":\"#FF97FF\",\"symbol\":\"circle\"},\"mode\":\"markers\",\"name\":\"test_1\",\"orientation\":\"v\",\"showlegend\":true,\"x\":[-1.3540606,1.8686541,-1.8359524,1.5383989,2.0088952,1.9937998,1.5543817,-1.8034322,1.5182892,2.0653753,-1.5538602,1.8443447,1.9339186,1.9452024,-1.4560844,-1.9321741,1.5226517,-1.5892891,-1.257003,1.9764929,1.598763,1.5698577,-1.039725],\"xaxis\":\"x\",\"y\":[10.11641,8.556166,10.130509,8.54472,8.68595,8.670474,8.521031,10.114099,8.520405,8.655969,10.103879,8.574728,8.605491,8.624167,10.124715,10.1971445,8.5236025,10.233747,10.223014,8.670797,8.510089,8.525705,10.098156],\"yaxis\":\"y\",\"type\":\"scatter\"},{\"hovertemplate\":\"drift=test_3\\u003cbr\\u003e0=%{x}\\u003cbr\\u003e1=%{y}\\u003cextra\\u003e\\u003c\\u002fextra\\u003e\",\"legendgroup\":\"test_3\",\"marker\":{\"color\":\"#FECB52\",\"symbol\":\"circle\"},\"mode\":\"markers\",\"name\":\"test_3\",\"orientation\":\"v\",\"showlegend\":true,\"x\":[13.251142,12.76398,13.352685,13.253226,12.397013,12.457413,13.183047,13.144452,12.3645935,13.146464,12.35986,12.5970125,13.3102865,13.273988,12.8393955,12.127469,12.606288,12.970733,13.062228,12.932594,13.145346,12.775409,12.772161,13.222223,12.995176,12.649726,12.501471,13.093903,12.359253,12.523261,12.910182,12.751597],\"xaxis\":\"x\",\"y\":[-4.0808167,-4.639009,-4.1642623,-3.9416344,-4.5120645,-4.7197886,-4.32198,-4.1108913,-4.641276,-4.121482,-4.6046686,-4.003266,-4.090646,-3.893331,-4.7460976,1.994291,1.3700806,-3.9264264,-4.0701556,-4.5212274,-4.0912347,-4.6260533,-4.7539506,-4.3611383,-4.682111,-3.9324822,-4.1885896,-4.0051613,-4.6569514,-3.881637,-4.5463934,-4.5459433],\"yaxis\":\"y\",\"type\":\"scatter\"},{\"hovertemplate\":\"drift=test_0\\u003cbr\\u003e0=%{x}\\u003cbr\\u003e1=%{y}\\u003cextra\\u003e\\u003c\\u002fextra\\u003e\",\"legendgroup\":\"test_0\",\"marker\":{\"color\":\"#636efa\",\"symbol\":\"circle\"},\"mode\":\"markers\",\"name\":\"test_0\",\"orientation\":\"v\",\"showlegend\":true,\"x\":[3.140126,2.5943596,2.7436283,-0.903409,2.750274,2.1383858,2.6782477,2.648064,2.6750126,2.3061905],\"xaxis\":\"x\",\"y\":[8.303891,8.930435,8.8585005,10.095522,9.086349,8.69266,8.906459,8.931471,8.776897,8.860303],\"yaxis\":\"y\",\"type\":\"scatter\"}],                        {\"template\":{\"data\":{\"histogram2dcontour\":[{\"type\":\"histogram2dcontour\",\"colorbar\":{\"outlinewidth\":0,\"ticks\":\"\"},\"colorscale\":[[0.0,\"#0d0887\"],[0.1111111111111111,\"#46039f\"],[0.2222222222222222,\"#7201a8\"],[0.3333333333333333,\"#9c179e\"],[0.4444444444444444,\"#bd3786\"],[0.5555555555555556,\"#d8576b\"],[0.6666666666666666,\"#ed7953\"],[0.7777777777777778,\"#fb9f3a\"],[0.8888888888888888,\"#fdca26\"],[1.0,\"#f0f921\"]]}],\"choropleth\":[{\"type\":\"choropleth\",\"colorbar\":{\"outlinewidth\":0,\"ticks\":\"\"}}],\"histogram2d\":[{\"type\":\"histogram2d\",\"colorbar\":{\"outlinewidth\":0,\"ticks\":\"\"},\"colorscale\":[[0.0,\"#0d0887\"],[0.1111111111111111,\"#46039f\"],[0.2222222222222222,\"#7201a8\"],[0.3333333333333333,\"#9c179e\"],[0.4444444444444444,\"#bd3786\"],[0.5555555555555556,\"#d8576b\"],[0.6666666666666666,\"#ed7953\"],[0.7777777777777778,\"#fb9f3a\"],[0.8888888888888888,\"#fdca26\"],[1.0,\"#f0f921\"]]}],\"heatmap\":[{\"type\":\"heatmap\",\"colorbar\":{\"outlinewidth\":0,\"ticks\":\"\"},\"colorscale\":[[0.0,\"#0d0887\"],[0.1111111111111111,\"#46039f\"],[0.2222222222222222,\"#7201a8\"],[0.3333333333333333,\"#9c179e\"],[0.4444444444444444,\"#bd3786\"],[0.5555555555555556,\"#d8576b\"],[0.6666666666666666,\"#ed7953\"],[0.7777777777777778,\"#fb9f3a\"],[0.8888888888888888,\"#fdca26\"],[1.0,\"#f0f921\"]]}],\"heatmapgl\":[{\"type\":\"heatmapgl\",\"colorbar\":{\"outlinewidth\":0,\"ticks\":\"\"},\"colorscale\":[[0.0,\"#0d0887\"],[0.1111111111111111,\"#46039f\"],[0.2222222222222222,\"#7201a8\"],[0.3333333333333333,\"#9c179e\"],[0.4444444444444444,\"#bd3786\"],[0.5555555555555556,\"#d8576b\"],[0.6666666666666666,\"#ed7953\"],[0.7777777777777778,\"#fb9f3a\"],[0.8888888888888888,\"#fdca26\"],[1.0,\"#f0f921\"]]}],\"contourcarpet\":[{\"type\":\"contourcarpet\",\"colorbar\":{\"outlinewidth\":0,\"ticks\":\"\"}}],\"contour\":[{\"type\":\"contour\",\"colorbar\":{\"outlinewidth\":0,\"ticks\":\"\"},\"colorscale\":[[0.0,\"#0d0887\"],[0.1111111111111111,\"#46039f\"],[0.2222222222222222,\"#7201a8\"],[0.3333333333333333,\"#9c179e\"],[0.4444444444444444,\"#bd3786\"],[0.5555555555555556,\"#d8576b\"],[0.6666666666666666,\"#ed7953\"],[0.7777777777777778,\"#fb9f3a\"],[0.8888888888888888,\"#fdca26\"],[1.0,\"#f0f921\"]]}],\"surface\":[{\"type\":\"surface\",\"colorbar\":{\"outlinewidth\":0,\"ticks\":\"\"},\"colorscale\":[[0.0,\"#0d0887\"],[0.1111111111111111,\"#46039f\"],[0.2222222222222222,\"#7201a8\"],[0.3333333333333333,\"#9c179e\"],[0.4444444444444444,\"#bd3786\"],[0.5555555555555556,\"#d8576b\"],[0.6666666666666666,\"#ed7953\"],[0.7777777777777778,\"#fb9f3a\"],[0.8888888888888888,\"#fdca26\"],[1.0,\"#f0f921\"]]}],\"mesh3d\":[{\"type\":\"mesh3d\",\"colorbar\":{\"outlinewidth\":0,\"ticks\":\"\"}}],\"scatter\":[{\"fillpattern\":{\"fillmode\":\"overlay\",\"size\":10,\"solidity\":0.2},\"type\":\"scatter\"}],\"parcoords\":[{\"type\":\"parcoords\",\"line\":{\"colorbar\":{\"outlinewidth\":0,\"ticks\":\"\"}}}],\"scatterpolargl\":[{\"type\":\"scatterpolargl\",\"marker\":{\"colorbar\":{\"outlinewidth\":0,\"ticks\":\"\"}}}],\"bar\":[{\"error_x\":{\"color\":\"#2a3f5f\"},\"error_y\":{\"color\":\"#2a3f5f\"},\"marker\":{\"line\":{\"color\":\"#E5ECF6\",\"width\":0.5},\"pattern\":{\"fillmode\":\"overlay\",\"size\":10,\"solidity\":0.2}},\"type\":\"bar\"}],\"scattergeo\":[{\"type\":\"scattergeo\",\"marker\":{\"colorbar\":{\"outlinewidth\":0,\"ticks\":\"\"}}}],\"scatterpolar\":[{\"type\":\"scatterpolar\",\"marker\":{\"colorbar\":{\"outlinewidth\":0,\"ticks\":\"\"}}}],\"histogram\":[{\"marker\":{\"pattern\":{\"fillmode\":\"overlay\",\"size\":10,\"solidity\":0.2}},\"type\":\"histogram\"}],\"scattergl\":[{\"type\":\"scattergl\",\"marker\":{\"colorbar\":{\"outlinewidth\":0,\"ticks\":\"\"}}}],\"scatter3d\":[{\"type\":\"scatter3d\",\"line\":{\"colorbar\":{\"outlinewidth\":0,\"ticks\":\"\"}},\"marker\":{\"colorbar\":{\"outlinewidth\":0,\"ticks\":\"\"}}}],\"scattermapbox\":[{\"type\":\"scattermapbox\",\"marker\":{\"colorbar\":{\"outlinewidth\":0,\"ticks\":\"\"}}}],\"scatterternary\":[{\"type\":\"scatterternary\",\"marker\":{\"colorbar\":{\"outlinewidth\":0,\"ticks\":\"\"}}}],\"scattercarpet\":[{\"type\":\"scattercarpet\",\"marker\":{\"colorbar\":{\"outlinewidth\":0,\"ticks\":\"\"}}}],\"carpet\":[{\"aaxis\":{\"endlinecolor\":\"#2a3f5f\",\"gridcolor\":\"white\",\"linecolor\":\"white\",\"minorgridcolor\":\"white\",\"startlinecolor\":\"#2a3f5f\"},\"baxis\":{\"endlinecolor\":\"#2a3f5f\",\"gridcolor\":\"white\",\"linecolor\":\"white\",\"minorgridcolor\":\"white\",\"startlinecolor\":\"#2a3f5f\"},\"type\":\"carpet\"}],\"table\":[{\"cells\":{\"fill\":{\"color\":\"#EBF0F8\"},\"line\":{\"color\":\"white\"}},\"header\":{\"fill\":{\"color\":\"#C8D4E3\"},\"line\":{\"color\":\"white\"}},\"type\":\"table\"}],\"barpolar\":[{\"marker\":{\"line\":{\"color\":\"#E5ECF6\",\"width\":0.5},\"pattern\":{\"fillmode\":\"overlay\",\"size\":10,\"solidity\":0.2}},\"type\":\"barpolar\"}],\"pie\":[{\"automargin\":true,\"type\":\"pie\"}]},\"layout\":{\"autotypenumbers\":\"strict\",\"colorway\":[\"#636efa\",\"#EF553B\",\"#00cc96\",\"#ab63fa\",\"#FFA15A\",\"#19d3f3\",\"#FF6692\",\"#B6E880\",\"#FF97FF\",\"#FECB52\"],\"font\":{\"color\":\"#2a3f5f\"},\"hovermode\":\"closest\",\"hoverlabel\":{\"align\":\"left\"},\"paper_bgcolor\":\"white\",\"plot_bgcolor\":\"#E5ECF6\",\"polar\":{\"bgcolor\":\"#E5ECF6\",\"angularaxis\":{\"gridcolor\":\"white\",\"linecolor\":\"white\",\"ticks\":\"\"},\"radialaxis\":{\"gridcolor\":\"white\",\"linecolor\":\"white\",\"ticks\":\"\"}},\"ternary\":{\"bgcolor\":\"#E5ECF6\",\"aaxis\":{\"gridcolor\":\"white\",\"linecolor\":\"white\",\"ticks\":\"\"},\"baxis\":{\"gridcolor\":\"white\",\"linecolor\":\"white\",\"ticks\":\"\"},\"caxis\":{\"gridcolor\":\"white\",\"linecolor\":\"white\",\"ticks\":\"\"}},\"coloraxis\":{\"colorbar\":{\"outlinewidth\":0,\"ticks\":\"\"}},\"colorscale\":{\"sequential\":[[0.0,\"#0d0887\"],[0.1111111111111111,\"#46039f\"],[0.2222222222222222,\"#7201a8\"],[0.3333333333333333,\"#9c179e\"],[0.4444444444444444,\"#bd3786\"],[0.5555555555555556,\"#d8576b\"],[0.6666666666666666,\"#ed7953\"],[0.7777777777777778,\"#fb9f3a\"],[0.8888888888888888,\"#fdca26\"],[1.0,\"#f0f921\"]],\"sequentialminus\":[[0.0,\"#0d0887\"],[0.1111111111111111,\"#46039f\"],[0.2222222222222222,\"#7201a8\"],[0.3333333333333333,\"#9c179e\"],[0.4444444444444444,\"#bd3786\"],[0.5555555555555556,\"#d8576b\"],[0.6666666666666666,\"#ed7953\"],[0.7777777777777778,\"#fb9f3a\"],[0.8888888888888888,\"#fdca26\"],[1.0,\"#f0f921\"]],\"diverging\":[[0,\"#8e0152\"],[0.1,\"#c51b7d\"],[0.2,\"#de77ae\"],[0.3,\"#f1b6da\"],[0.4,\"#fde0ef\"],[0.5,\"#f7f7f7\"],[0.6,\"#e6f5d0\"],[0.7,\"#b8e186\"],[0.8,\"#7fbc41\"],[0.9,\"#4d9221\"],[1,\"#276419\"]]},\"xaxis\":{\"gridcolor\":\"white\",\"linecolor\":\"white\",\"ticks\":\"\",\"title\":{\"standoff\":15},\"zerolinecolor\":\"white\",\"automargin\":true,\"zerolinewidth\":2},\"yaxis\":{\"gridcolor\":\"white\",\"linecolor\":\"white\",\"ticks\":\"\",\"title\":{\"standoff\":15},\"zerolinecolor\":\"white\",\"automargin\":true,\"zerolinewidth\":2},\"scene\":{\"xaxis\":{\"backgroundcolor\":\"#E5ECF6\",\"gridcolor\":\"white\",\"linecolor\":\"white\",\"showbackground\":true,\"ticks\":\"\",\"zerolinecolor\":\"white\",\"gridwidth\":2},\"yaxis\":{\"backgroundcolor\":\"#E5ECF6\",\"gridcolor\":\"white\",\"linecolor\":\"white\",\"showbackground\":true,\"ticks\":\"\",\"zerolinecolor\":\"white\",\"gridwidth\":2},\"zaxis\":{\"backgroundcolor\":\"#E5ECF6\",\"gridcolor\":\"white\",\"linecolor\":\"white\",\"showbackground\":true,\"ticks\":\"\",\"zerolinecolor\":\"white\",\"gridwidth\":2}},\"shapedefaults\":{\"line\":{\"color\":\"#2a3f5f\"}},\"annotationdefaults\":{\"arrowcolor\":\"#2a3f5f\",\"arrowhead\":0,\"arrowwidth\":1},\"geo\":{\"bgcolor\":\"white\",\"landcolor\":\"#E5ECF6\",\"subunitcolor\":\"white\",\"showland\":true,\"showlakes\":true,\"lakecolor\":\"white\"},\"title\":{\"x\":0.05},\"mapbox\":{\"style\":\"light\"}}},\"xaxis\":{\"anchor\":\"y\",\"domain\":[0.0,1.0],\"title\":{\"text\":\"0\"}},\"yaxis\":{\"anchor\":\"x\",\"domain\":[0.0,1.0],\"title\":{\"text\":\"1\"}},\"legend\":{\"title\":{\"text\":\"drift\"},\"tracegroupgap\":0},\"margin\":{\"t\":60}},                        {\"responsive\": true}                    ).then(function(){\n",
       "                            \n",
       "var gd = document.getElementById('6c3c5dc4-f009-4c3b-b790-782720b41c78');\n",
       "var x = new MutationObserver(function (mutations, observer) {{\n",
       "        var display = window.getComputedStyle(gd).display;\n",
       "        if (!display || display === 'none') {{\n",
       "            console.log([gd, 'removed!']);\n",
       "            Plotly.purge(gd);\n",
       "            observer.disconnect();\n",
       "        }}\n",
       "}});\n",
       "\n",
       "// Listen for the removal of the full notebook cells\n",
       "var notebookContainer = gd.closest('#notebook-container');\n",
       "if (notebookContainer) {{\n",
       "    x.observe(notebookContainer, {childList: true});\n",
       "}}\n",
       "\n",
       "// Listen for the clearing of the current output cell\n",
       "var outputEl = gd.closest('.output');\n",
       "if (outputEl) {{\n",
       "    x.observe(outputEl, {childList: true});\n",
       "}}\n",
       "\n",
       "                        })                };                });            </script>        </div>"
      ]
     },
     "metadata": {},
     "output_type": "display_data"
    }
   ],
   "source": [
    "labels = train_label + test_label\n",
    "fig = px.scatter(umap_data_2d, x=0, y=1, color=labels, labels={\"color\": \"drift\"})\n",
    "fig.show()"
   ]
  },
  {
   "cell_type": "code",
   "execution_count": null,
   "metadata": {},
   "outputs": [],
   "source": []
  },
  {
   "cell_type": "markdown",
   "metadata": {},
   "source": [
    "## do the drift"
   ]
  },
  {
   "cell_type": "code",
   "execution_count": 33,
   "metadata": {},
   "outputs": [],
   "source": [
    "from DriftDetection import DriftDetector"
   ]
  },
  {
   "cell_type": "code",
   "execution_count": 68,
   "metadata": {},
   "outputs": [],
   "source": [
    "import numpy as np\n",
    "\n",
    "n_train = 5\n",
    "train_labels = model_train.return_labels(n_clusters=n_train).tolist()\n",
    "\n",
    "n_test = 6\n",
    "test_labels = model_test.return_labels(n_clusters=n_test).tolist()\n",
    "\n",
    "metrics = [\n",
    "            \"euclidean_distance\",\n",
    "            \"cosine_distance\",\n",
    "            \"maximum_mean_discrepancy\",\n",
    "            \"population_stability_index\",\n",
    "            \"ks_test\",\n",
    "            \"partial_wasserstein_distance\",\n",
    "        ]\n",
    "\n",
    "drifts = [[0 for i in range(n_test)] for j in range(n_train)]\n",
    "for reference in range(n_train):\n",
    "    reference_emb = []\n",
    "    for e, l in zip(train_embeddings, train_labels):\n",
    "        if l == reference:\n",
    "            reference_emb.append(e)\n",
    "    reference_emb = np.array(reference_emb)\n",
    "    detector = DriftDetector(reference_emb)\n",
    "    detector.set_thresholds_for_all_metrics()\n",
    "            \n",
    "    for field in range(n_test):\n",
    "        test_emb =[]\n",
    "        for e, l in zip(test_embeddings, test_labels):\n",
    "            if l == field:\n",
    "                test_emb.append(e)\n",
    "        test_emb =np.array(test_emb)\n",
    "           \n",
    "        results = []\n",
    "        for metric in metrics:\n",
    "            result = detector.is_drift(test_emb, metric)\n",
    "            results.append(result['is_drift'])\n",
    "                    \n",
    "        # fieldnames = ['is_drift', 'distance_metric_value', 'threshold_value_used', 'metric_used']\n",
    "        # df = pd.DataFrame(results, columns=fieldnames)\n",
    "        # df.head()\n",
    "        \n",
    "        drifts[reference][field] = sum(results) == 6"
   ]
  },
  {
   "cell_type": "code",
   "execution_count": 69,
   "metadata": {},
   "outputs": [
    {
     "name": "stdout",
     "output_type": "stream",
     "text": [
      "[True, True, True, False, True, False]\n",
      "[True, True, False, True, False, True]\n",
      "[False, True, True, False, False, True]\n",
      "[True, True, False, True, False, True]\n",
      "[True, False, False, False, True, False]\n"
     ]
    }
   ],
   "source": [
    "for i in range(n_train):\n",
    "    print(drifts[i])"
   ]
  },
  {
   "cell_type": "code",
   "execution_count": null,
   "metadata": {},
   "outputs": [],
   "source": []
  },
  {
   "cell_type": "code",
   "execution_count": 54,
   "metadata": {},
   "outputs": [
    {
     "data": {
      "text/html": [
       "<div>\n",
       "<style scoped>\n",
       "    .dataframe tbody tr th:only-of-type {\n",
       "        vertical-align: middle;\n",
       "    }\n",
       "\n",
       "    .dataframe tbody tr th {\n",
       "        vertical-align: top;\n",
       "    }\n",
       "\n",
       "    .dataframe thead th {\n",
       "        text-align: right;\n",
       "    }\n",
       "</style>\n",
       "<table border=\"1\" class=\"dataframe\">\n",
       "  <thead>\n",
       "    <tr style=\"text-align: right;\">\n",
       "      <th></th>\n",
       "      <th>test_0</th>\n",
       "      <th>test_1</th>\n",
       "      <th>test_2</th>\n",
       "      <th>test_3</th>\n",
       "      <th>test_4</th>\n",
       "      <th>test_5</th>\n",
       "    </tr>\n",
       "  </thead>\n",
       "  <tbody>\n",
       "    <tr>\n",
       "      <th>train_0</th>\n",
       "      <td>True</td>\n",
       "      <td>True</td>\n",
       "      <td>True</td>\n",
       "      <td>False</td>\n",
       "      <td>True</td>\n",
       "      <td>False</td>\n",
       "    </tr>\n",
       "    <tr>\n",
       "      <th>train_1</th>\n",
       "      <td>True</td>\n",
       "      <td>True</td>\n",
       "      <td>False</td>\n",
       "      <td>True</td>\n",
       "      <td>False</td>\n",
       "      <td>True</td>\n",
       "    </tr>\n",
       "    <tr>\n",
       "      <th>train_2</th>\n",
       "      <td>False</td>\n",
       "      <td>True</td>\n",
       "      <td>True</td>\n",
       "      <td>False</td>\n",
       "      <td>False</td>\n",
       "      <td>True</td>\n",
       "    </tr>\n",
       "    <tr>\n",
       "      <th>train_3</th>\n",
       "      <td>True</td>\n",
       "      <td>True</td>\n",
       "      <td>False</td>\n",
       "      <td>True</td>\n",
       "      <td>False</td>\n",
       "      <td>True</td>\n",
       "    </tr>\n",
       "    <tr>\n",
       "      <th>train_4</th>\n",
       "      <td>True</td>\n",
       "      <td>False</td>\n",
       "      <td>False</td>\n",
       "      <td>False</td>\n",
       "      <td>True</td>\n",
       "      <td>False</td>\n",
       "    </tr>\n",
       "  </tbody>\n",
       "</table>\n",
       "</div>"
      ],
      "text/plain": [
       "         test_0  test_1  test_2  test_3  test_4  test_5\n",
       "train_0    True    True    True   False    True   False\n",
       "train_1    True    True   False    True   False    True\n",
       "train_2   False    True    True   False   False    True\n",
       "train_3    True    True   False    True   False    True\n",
       "train_4    True   False   False   False    True   False"
      ]
     },
     "execution_count": 54,
     "metadata": {},
     "output_type": "execute_result"
    }
   ],
   "source": [
    "import pandas as pd\n",
    "\n",
    "# Data\n",
    "data = [\n",
    "    [True, True, True, False, True, False],\n",
    "    [True, True, False, True, False, True],\n",
    "    [False, True, True, False, False, True],\n",
    "    [True, True, False, True, False, True],\n",
    "    [True, False, False, False, True, False]\n",
    "]\n",
    "\n",
    "# Column labels\n",
    "columns = [f\"test_{i}\" for i in range(6)]\n",
    "\n",
    "# Row labels\n",
    "index = [f\"train_{i}\" for i in range(5)]\n",
    "\n",
    "# Create DataFrame\n",
    "df = pd.DataFrame(data, columns=columns, index=index)\n",
    "\n",
    "# Display the table\n",
    "df\n"
   ]
  },
  {
   "cell_type": "code",
   "execution_count": null,
   "metadata": {},
   "outputs": [],
   "source": []
  },
  {
   "cell_type": "markdown",
   "metadata": {},
   "source": [
    "## do the ood"
   ]
  },
  {
   "cell_type": "code",
   "execution_count": 73,
   "metadata": {},
   "outputs": [],
   "source": [
    "from ood import OOD"
   ]
  },
  {
   "cell_type": "code",
   "execution_count": 110,
   "metadata": {},
   "outputs": [],
   "source": [
    "n_train = 5\n",
    "train_labels = model_train.return_labels(n_clusters=n_train).tolist()\n",
    "\n",
    "n_test = 6\n",
    "test_labels = model_test.return_labels(n_clusters=n_test).tolist()"
   ]
  },
  {
   "cell_type": "code",
   "execution_count": 79,
   "metadata": {},
   "outputs": [
    {
     "data": {
      "text/plain": [
       "(196, 196, 0)"
      ]
     },
     "execution_count": 79,
     "metadata": {},
     "output_type": "execute_result"
    }
   ],
   "source": [
    "len(test_embeddings), len(test_labels), len(test_paths)"
   ]
  },
  {
   "cell_type": "code",
   "execution_count": 111,
   "metadata": {},
   "outputs": [
    {
     "data": {
      "text/plain": [
       "623"
      ]
     },
     "execution_count": 111,
     "metadata": {},
     "output_type": "execute_result"
    }
   ],
   "source": [
    "len(train_labels)"
   ]
  },
  {
   "cell_type": "code",
   "execution_count": 112,
   "metadata": {},
   "outputs": [
    {
     "name": "stdout",
     "output_type": "stream",
     "text": [
      "No of Images:  149\n"
     ]
    },
    {
     "name": "stdout",
     "output_type": "stream",
     "text": [
      "THRESHOLD: 12.116893691608078\n"
     ]
    },
    {
     "data": {
      "image/png": "[encoded data removed]",
      "text/plain": [
       "<Figure size 640x480 with 1 Axes>"
      ]
     },
     "metadata": {},
     "output_type": "display_data"
    },
    {
     "name": "stdout",
     "output_type": "stream",
     "text": [
      "No of Images:  68\n",
      "THRESHOLD: 8.123124783844778\n"
     ]
    },
    {
     "data": {
      "image/png": "[encoded data removed]",
      "text/plain": [
       "<Figure size 640x480 with 1 Axes>"
      ]
     },
     "metadata": {},
     "output_type": "display_data"
    },
    {
     "name": "stdout",
     "output_type": "stream",
     "text": [
      "No of Images:  124\n",
      "THRESHOLD: 11.037533923400842\n"
     ]
    },
    {
     "data": {
      "image/png": "[encoded data removed]",
      "text/plain": [
       "<Figure size 640x480 with 1 Axes>"
      ]
     },
     "metadata": {},
     "output_type": "display_data"
    },
    {
     "name": "stdout",
     "output_type": "stream",
     "text": [
      "No of Images:  108\n",
      "THRESHOLD: 10.291753697487609\n"
     ]
    },
    {
     "data": {
      "image/png": "[encoded data removed]",
      "text/plain": [
       "<Figure size 640x480 with 1 Axes>"
      ]
     },
     "metadata": {},
     "output_type": "display_data"
    },
    {
     "name": "stdout",
     "output_type": "stream",
     "text": [
      "No of Images:  174\n",
      "THRESHOLD: 13.097437868927026\n"
     ]
    },
    {
     "data": {
      "image/png": "[encoded data removed]",
      "text/plain": [
       "<Figure size 640x480 with 1 Axes>"
      ]
     },
     "metadata": {},
     "output_type": "display_data"
    }
   ],
   "source": [
    "thres = []\n",
    "ood_answer = [[0 for i in range(n_test)] for j in range(n_train)]\n",
    "for reference in range(n_train):\n",
    "    reference_emb = []\n",
    "    reference_paths = []\n",
    "    for i in range(len(train_embeddings)):\n",
    "        l = train_labels[i]\n",
    "        if l == reference:\n",
    "            reference_emb.append(train_embeddings[i])\n",
    "            reference_paths.append(train_filepaths[i])\n",
    "\n",
    "    ood_model = OOD((reference_emb, reference_paths), flag=False)\n",
    "    THRESHOLD = ood_model.plot_score_histogram(percentile=99.9)\n",
    "    thres.append(THRESHOLD)\n",
    "    THRESHOLD = 250\n",
    "    # THRESHOLDs.append(THRESHOLD)\n",
    "    # print(THRESHOLDs)\n",
    "\n",
    "    for field in range(n_test):\n",
    "        test_emb =[]\n",
    "        for i in range(len(test_embeddings)):\n",
    "            l = test_labels[i]\n",
    "            if l == field:\n",
    "                test_emb.append(test_embeddings[i])\n",
    "        test_ood_scores = ood_model.calculate_ood_score(test_emb)  \n",
    "        \n",
    "        n_ood = sum([1 if s > THRESHOLD else 0 for s in test_ood_scores])    \n",
    "        n_ind = sum([0 if s > THRESHOLD else 1 for s in test_ood_scores])\n",
    "        # total = len(test_ood_scores)\n",
    "        \n",
    "        ood_answer[reference][field] = (n_ood, n_ind)\n",
    "                \n",
    "        # break\n",
    "    # break\n"
   ]
  },
  {
   "cell_type": "code",
   "execution_count": 113,
   "metadata": {},
   "outputs": [
    {
     "name": "stdout",
     "output_type": "stream",
     "text": [
      "[(4, 6), (20, 3), (12, 25), (0, 32), (24, 15), (12, 43)]\n",
      "[(2, 8), (5, 18), (37, 0), (32, 0), (39, 0), (55, 0)]\n",
      "[(10, 0), (23, 0), (36, 1), (32, 0), (1, 38), (49, 6)]\n",
      "[(10, 0), (23, 0), (11, 26), (31, 1), (38, 1), (32, 23)]\n",
      "[(10, 0), (23, 0), (29, 8), (22, 10), (19, 20), (0, 55)]\n"
     ]
    }
   ],
   "source": [
    "for i in range(n_train):\n",
    "    print(ood_answer[i])"
   ]
  },
  {
   "cell_type": "code",
   "execution_count": 107,
   "metadata": {},
   "outputs": [],
   "source": [
    "#              test_0       test_1       test_2       test_3       test_4       test_5       \n",
    "#               ood   ind    ood   ind    ood   ind    ood   ind    ood   ind    ood   ind   \n",
    "# train                                                                                                     \n",
    "# train_0       10     0     23     0     37     0     28     4     39     0     48     7  \n",
    "# train_1       10     0     23     0     37     0     32     0     39     0     55     0   \n",
    "# train_2       10     0     23     0     37     0     32     0     26    13     55     0   \n",
    "# train_3       10     0     23     0     37     0     32     0     39     0     55     0    \n",
    "# train_4       10     0     23     0     37     0     32     0     39     0     37    18  \n",
    "\n",
    "\n"
   ]
  },
  {
   "cell_type": "code",
   "execution_count": null,
   "metadata": {},
   "outputs": [],
   "source": []
  }
 ],
 "metadata": {
  "kernelspec": {
   "display_name": "base",
   "language": "python",
   "name": "python3"
  },
  "language_info": {
   "codemirror_mode": {
    "name": "ipython",
    "version": 3
   },
   "file_extension": ".py",
   "mimetype": "text/x-python",
   "name": "python",
   "nbconvert_exporter": "python",
   "pygments_lexer": "ipython3",
   "version": "3.10.6"
  }
 },
 "nbformat": 4,
 "nbformat_minor": 2
}
